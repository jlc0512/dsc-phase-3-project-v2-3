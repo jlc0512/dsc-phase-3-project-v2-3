{
 "cells": [
  {
   "cell_type": "markdown",
   "id": "dba8bdcf",
   "metadata": {},
   "source": [
    "## Final Project Submission"
   ]
  },
  {
   "cell_type": "markdown",
   "id": "a6495514",
   "metadata": {},
   "source": [
    "- Student Names: Jillian Clark, Zach Pollatsek\n",
    "- Student Pace: Full-Time\n",
    "- Scheduled Review Date/Time: July 15, 2022\n",
    "- Instructors: William and Daniel"
   ]
  },
  {
   "cell_type": "markdown",
   "id": "e5ad97c9",
   "metadata": {},
   "source": [
    "## Overview and Business Problem"
   ]
  },
  {
   "cell_type": "markdown",
   "id": "4c5282b7",
   "metadata": {},
   "source": [
    "Tanzania, as a developing country, struggles with providing clean water to its population of over 57,000,000. There are many water points already established in the country, but some are in need of repair while others have failed altogether.\n",
    "\n",
    "We are a data science consulting company who has been hired by the Tanzanian Ministry of Water to create a model to help classify whether water pumps are functional, functional but in need of repairs, and non-functional. We have been hired to help improve maintenance operations minimze waste of the Ministry's resources and only send out repair teams to pumps that are potentially in need of repairs or non-functional. While we want to maximize accuracy, we also want to maximize recall to ensure the people of Tanzania have access to potable water and few pumps that are non-functional or in need of repairs are over looked."
   ]
  },
  {
   "cell_type": "markdown",
   "id": "585bb395",
   "metadata": {},
   "source": [
    "## Data Understanding"
   ]
  },
  {
   "cell_type": "markdown",
   "id": "a72cb929",
   "metadata": {},
   "source": [
    "The data is sourced from Taarifa and the Tanzanian Ministry of Water. Data utilized can be found here: https://www.drivendata.org/competitions/7/pump-it-up-data-mining-the-water-table/data/\n",
    "\n",
    "For the purposes of our evaluation, we are utilizing the Training Set Labels and Training Set Values, which include data from 59,400 pumps. Our cleaned data contains information from 59,028 pumps. \n",
    "\n",
    "The following is a list of column names and descriptions:"
   ]
  },
  {
   "cell_type": "markdown",
   "id": "503eb321",
   "metadata": {},
   "source": [
    "* `amount_tsh` - Total static head (amount water available to waterpoint)\n",
    "* `date_recorded` - The date the row was entered\n",
    "* `funder` - Who funded the well\n",
    "* `gps_height` - Altitude of the well\n",
    "* `installer` - Organization that installed the well\n",
    "* `longitude` - GPS coordinate\n",
    "* `latitude` - GPS coordinate\n",
    "* `wpt_name` - Name of the waterpoint if there is one\n",
    "* `num_private` - \n",
    "* `basin` - Geographic water basin\n",
    "* `subvillage` - Geographic location\n",
    "* `region` - Geographic location\n",
    "* `region_code` - Geographic location (coded)\n",
    "* `district_code` - Geographic location (coded)\n",
    "* `lga` - Geographic location\n",
    "* `ward` - Geographic location\n",
    "* `population` - Population around the well\n",
    "* `public_meeting` - True/False\n",
    "* `recorded_by` - Group entering this row of data\n",
    "* `scheme_management` - Who operates the waterpoint\n",
    "* `scheme_name` - Who operates the waterpoint\n",
    "* `permit` - If the waterpoint is permitted\n",
    "* `construction_year` - Year the waterpoint was constructed\n",
    "* `extraction_type` - The kind of extraction the waterpoint uses\n",
    "* `extraction_type_group` - The kind of extraction the waterpoint uses\n",
    "* `extraction_type_class` - The kind of extraction the waterpoint uses\n",
    "* `management` - How the waterpoint is managed\n",
    "* `management_group` - How the waterpoint is managed\n",
    "* `payment` - What the water costs\n",
    "* `payment_type` - What the water costs\n",
    "* `water_quality` - The quality of the water\n",
    "* `quality_group` - The quality of the water\n",
    "* `quantity` - The quantity of water\n",
    "* `quantity_group` - The quantity of water\n",
    "* `source` - The source of the water\n",
    "* `source_type` - The source of the water\n",
    "* `source_class` - The source of the water\n",
    "* `waterpoint_type` - The kind of waterpoint\n",
    "* `waterpoint_type_group` - The kind of waterpoint"
   ]
  },
  {
   "cell_type": "markdown",
   "id": "f63fcb88",
   "metadata": {},
   "source": [
    "## Data Preparation"
   ]
  },
  {
   "cell_type": "code",
   "execution_count": 1,
   "id": "22ebe563",
   "metadata": {},
   "outputs": [],
   "source": [
    "#importing necessary imports to clean and prep data"
   ]
  },
  {
   "cell_type": "code",
   "execution_count": 2,
   "id": "10633269",
   "metadata": {},
   "outputs": [],
   "source": [
    "import pandas as pd\n",
    "import matplotlib as plt\n",
    "import seaborn as sns\n",
    "%matplotlib inline\n",
    "from sklearn.model_selection import train_test_split"
   ]
  },
  {
   "cell_type": "code",
   "execution_count": 3,
   "id": "ca6168ac",
   "metadata": {},
   "outputs": [],
   "source": [
    "#looking at targets"
   ]
  },
  {
   "cell_type": "code",
   "execution_count": 4,
   "id": "5e214997",
   "metadata": {},
   "outputs": [],
   "source": [
    "data_targets= pd.read_csv('./data/target.csv')"
   ]
  },
  {
   "cell_type": "code",
   "execution_count": 5,
   "id": "24fc1c22",
   "metadata": {},
   "outputs": [
    {
     "data": {
      "text/html": [
       "<div>\n",
       "<style scoped>\n",
       "    .dataframe tbody tr th:only-of-type {\n",
       "        vertical-align: middle;\n",
       "    }\n",
       "\n",
       "    .dataframe tbody tr th {\n",
       "        vertical-align: top;\n",
       "    }\n",
       "\n",
       "    .dataframe thead th {\n",
       "        text-align: right;\n",
       "    }\n",
       "</style>\n",
       "<table border=\"1\" class=\"dataframe\">\n",
       "  <thead>\n",
       "    <tr style=\"text-align: right;\">\n",
       "      <th></th>\n",
       "      <th>id</th>\n",
       "      <th>status_group</th>\n",
       "    </tr>\n",
       "  </thead>\n",
       "  <tbody>\n",
       "    <tr>\n",
       "      <th>0</th>\n",
       "      <td>69572</td>\n",
       "      <td>functional</td>\n",
       "    </tr>\n",
       "    <tr>\n",
       "      <th>1</th>\n",
       "      <td>8776</td>\n",
       "      <td>functional</td>\n",
       "    </tr>\n",
       "    <tr>\n",
       "      <th>2</th>\n",
       "      <td>34310</td>\n",
       "      <td>functional</td>\n",
       "    </tr>\n",
       "    <tr>\n",
       "      <th>3</th>\n",
       "      <td>67743</td>\n",
       "      <td>non functional</td>\n",
       "    </tr>\n",
       "    <tr>\n",
       "      <th>4</th>\n",
       "      <td>19728</td>\n",
       "      <td>functional</td>\n",
       "    </tr>\n",
       "    <tr>\n",
       "      <th>...</th>\n",
       "      <td>...</td>\n",
       "      <td>...</td>\n",
       "    </tr>\n",
       "    <tr>\n",
       "      <th>59395</th>\n",
       "      <td>60739</td>\n",
       "      <td>functional</td>\n",
       "    </tr>\n",
       "    <tr>\n",
       "      <th>59396</th>\n",
       "      <td>27263</td>\n",
       "      <td>functional</td>\n",
       "    </tr>\n",
       "    <tr>\n",
       "      <th>59397</th>\n",
       "      <td>37057</td>\n",
       "      <td>functional</td>\n",
       "    </tr>\n",
       "    <tr>\n",
       "      <th>59398</th>\n",
       "      <td>31282</td>\n",
       "      <td>functional</td>\n",
       "    </tr>\n",
       "    <tr>\n",
       "      <th>59399</th>\n",
       "      <td>26348</td>\n",
       "      <td>functional</td>\n",
       "    </tr>\n",
       "  </tbody>\n",
       "</table>\n",
       "<p>59400 rows × 2 columns</p>\n",
       "</div>"
      ],
      "text/plain": [
       "          id    status_group\n",
       "0      69572      functional\n",
       "1       8776      functional\n",
       "2      34310      functional\n",
       "3      67743  non functional\n",
       "4      19728      functional\n",
       "...      ...             ...\n",
       "59395  60739      functional\n",
       "59396  27263      functional\n",
       "59397  37057      functional\n",
       "59398  31282      functional\n",
       "59399  26348      functional\n",
       "\n",
       "[59400 rows x 2 columns]"
      ]
     },
     "execution_count": 5,
     "metadata": {},
     "output_type": "execute_result"
    }
   ],
   "source": [
    "data_targets"
   ]
  },
  {
   "cell_type": "code",
   "execution_count": 6,
   "id": "8cd818ef",
   "metadata": {},
   "outputs": [],
   "source": [
    "#initial exploration of features"
   ]
  },
  {
   "cell_type": "code",
   "execution_count": 7,
   "id": "d000b17b",
   "metadata": {},
   "outputs": [],
   "source": [
    "data_features = pd.read_csv('./data/features.csv')"
   ]
  },
  {
   "cell_type": "code",
   "execution_count": 8,
   "id": "e89a8856",
   "metadata": {},
   "outputs": [
    {
     "data": {
      "text/html": [
       "<div>\n",
       "<style scoped>\n",
       "    .dataframe tbody tr th:only-of-type {\n",
       "        vertical-align: middle;\n",
       "    }\n",
       "\n",
       "    .dataframe tbody tr th {\n",
       "        vertical-align: top;\n",
       "    }\n",
       "\n",
       "    .dataframe thead th {\n",
       "        text-align: right;\n",
       "    }\n",
       "</style>\n",
       "<table border=\"1\" class=\"dataframe\">\n",
       "  <thead>\n",
       "    <tr style=\"text-align: right;\">\n",
       "      <th></th>\n",
       "      <th>id</th>\n",
       "      <th>amount_tsh</th>\n",
       "      <th>date_recorded</th>\n",
       "      <th>funder</th>\n",
       "      <th>gps_height</th>\n",
       "      <th>installer</th>\n",
       "      <th>longitude</th>\n",
       "      <th>latitude</th>\n",
       "      <th>wpt_name</th>\n",
       "      <th>num_private</th>\n",
       "      <th>...</th>\n",
       "      <th>payment_type</th>\n",
       "      <th>water_quality</th>\n",
       "      <th>quality_group</th>\n",
       "      <th>quantity</th>\n",
       "      <th>quantity_group</th>\n",
       "      <th>source</th>\n",
       "      <th>source_type</th>\n",
       "      <th>source_class</th>\n",
       "      <th>waterpoint_type</th>\n",
       "      <th>waterpoint_type_group</th>\n",
       "    </tr>\n",
       "  </thead>\n",
       "  <tbody>\n",
       "    <tr>\n",
       "      <th>0</th>\n",
       "      <td>69572</td>\n",
       "      <td>6000.0</td>\n",
       "      <td>2011-03-14</td>\n",
       "      <td>Roman</td>\n",
       "      <td>1390</td>\n",
       "      <td>Roman</td>\n",
       "      <td>34.938093</td>\n",
       "      <td>-9.856322</td>\n",
       "      <td>none</td>\n",
       "      <td>0</td>\n",
       "      <td>...</td>\n",
       "      <td>annually</td>\n",
       "      <td>soft</td>\n",
       "      <td>good</td>\n",
       "      <td>enough</td>\n",
       "      <td>enough</td>\n",
       "      <td>spring</td>\n",
       "      <td>spring</td>\n",
       "      <td>groundwater</td>\n",
       "      <td>communal standpipe</td>\n",
       "      <td>communal standpipe</td>\n",
       "    </tr>\n",
       "    <tr>\n",
       "      <th>1</th>\n",
       "      <td>8776</td>\n",
       "      <td>0.0</td>\n",
       "      <td>2013-03-06</td>\n",
       "      <td>Grumeti</td>\n",
       "      <td>1399</td>\n",
       "      <td>GRUMETI</td>\n",
       "      <td>34.698766</td>\n",
       "      <td>-2.147466</td>\n",
       "      <td>Zahanati</td>\n",
       "      <td>0</td>\n",
       "      <td>...</td>\n",
       "      <td>never pay</td>\n",
       "      <td>soft</td>\n",
       "      <td>good</td>\n",
       "      <td>insufficient</td>\n",
       "      <td>insufficient</td>\n",
       "      <td>rainwater harvesting</td>\n",
       "      <td>rainwater harvesting</td>\n",
       "      <td>surface</td>\n",
       "      <td>communal standpipe</td>\n",
       "      <td>communal standpipe</td>\n",
       "    </tr>\n",
       "    <tr>\n",
       "      <th>2</th>\n",
       "      <td>34310</td>\n",
       "      <td>25.0</td>\n",
       "      <td>2013-02-25</td>\n",
       "      <td>Lottery Club</td>\n",
       "      <td>686</td>\n",
       "      <td>World vision</td>\n",
       "      <td>37.460664</td>\n",
       "      <td>-3.821329</td>\n",
       "      <td>Kwa Mahundi</td>\n",
       "      <td>0</td>\n",
       "      <td>...</td>\n",
       "      <td>per bucket</td>\n",
       "      <td>soft</td>\n",
       "      <td>good</td>\n",
       "      <td>enough</td>\n",
       "      <td>enough</td>\n",
       "      <td>dam</td>\n",
       "      <td>dam</td>\n",
       "      <td>surface</td>\n",
       "      <td>communal standpipe multiple</td>\n",
       "      <td>communal standpipe</td>\n",
       "    </tr>\n",
       "    <tr>\n",
       "      <th>3</th>\n",
       "      <td>67743</td>\n",
       "      <td>0.0</td>\n",
       "      <td>2013-01-28</td>\n",
       "      <td>Unicef</td>\n",
       "      <td>263</td>\n",
       "      <td>UNICEF</td>\n",
       "      <td>38.486161</td>\n",
       "      <td>-11.155298</td>\n",
       "      <td>Zahanati Ya Nanyumbu</td>\n",
       "      <td>0</td>\n",
       "      <td>...</td>\n",
       "      <td>never pay</td>\n",
       "      <td>soft</td>\n",
       "      <td>good</td>\n",
       "      <td>dry</td>\n",
       "      <td>dry</td>\n",
       "      <td>machine dbh</td>\n",
       "      <td>borehole</td>\n",
       "      <td>groundwater</td>\n",
       "      <td>communal standpipe multiple</td>\n",
       "      <td>communal standpipe</td>\n",
       "    </tr>\n",
       "    <tr>\n",
       "      <th>4</th>\n",
       "      <td>19728</td>\n",
       "      <td>0.0</td>\n",
       "      <td>2011-07-13</td>\n",
       "      <td>Action In A</td>\n",
       "      <td>0</td>\n",
       "      <td>Artisan</td>\n",
       "      <td>31.130847</td>\n",
       "      <td>-1.825359</td>\n",
       "      <td>Shuleni</td>\n",
       "      <td>0</td>\n",
       "      <td>...</td>\n",
       "      <td>never pay</td>\n",
       "      <td>soft</td>\n",
       "      <td>good</td>\n",
       "      <td>seasonal</td>\n",
       "      <td>seasonal</td>\n",
       "      <td>rainwater harvesting</td>\n",
       "      <td>rainwater harvesting</td>\n",
       "      <td>surface</td>\n",
       "      <td>communal standpipe</td>\n",
       "      <td>communal standpipe</td>\n",
       "    </tr>\n",
       "    <tr>\n",
       "      <th>...</th>\n",
       "      <td>...</td>\n",
       "      <td>...</td>\n",
       "      <td>...</td>\n",
       "      <td>...</td>\n",
       "      <td>...</td>\n",
       "      <td>...</td>\n",
       "      <td>...</td>\n",
       "      <td>...</td>\n",
       "      <td>...</td>\n",
       "      <td>...</td>\n",
       "      <td>...</td>\n",
       "      <td>...</td>\n",
       "      <td>...</td>\n",
       "      <td>...</td>\n",
       "      <td>...</td>\n",
       "      <td>...</td>\n",
       "      <td>...</td>\n",
       "      <td>...</td>\n",
       "      <td>...</td>\n",
       "      <td>...</td>\n",
       "      <td>...</td>\n",
       "    </tr>\n",
       "    <tr>\n",
       "      <th>59395</th>\n",
       "      <td>60739</td>\n",
       "      <td>10.0</td>\n",
       "      <td>2013-05-03</td>\n",
       "      <td>Germany Republi</td>\n",
       "      <td>1210</td>\n",
       "      <td>CES</td>\n",
       "      <td>37.169807</td>\n",
       "      <td>-3.253847</td>\n",
       "      <td>Area Three Namba 27</td>\n",
       "      <td>0</td>\n",
       "      <td>...</td>\n",
       "      <td>per bucket</td>\n",
       "      <td>soft</td>\n",
       "      <td>good</td>\n",
       "      <td>enough</td>\n",
       "      <td>enough</td>\n",
       "      <td>spring</td>\n",
       "      <td>spring</td>\n",
       "      <td>groundwater</td>\n",
       "      <td>communal standpipe</td>\n",
       "      <td>communal standpipe</td>\n",
       "    </tr>\n",
       "    <tr>\n",
       "      <th>59396</th>\n",
       "      <td>27263</td>\n",
       "      <td>4700.0</td>\n",
       "      <td>2011-05-07</td>\n",
       "      <td>Cefa-njombe</td>\n",
       "      <td>1212</td>\n",
       "      <td>Cefa</td>\n",
       "      <td>35.249991</td>\n",
       "      <td>-9.070629</td>\n",
       "      <td>Kwa Yahona Kuvala</td>\n",
       "      <td>0</td>\n",
       "      <td>...</td>\n",
       "      <td>annually</td>\n",
       "      <td>soft</td>\n",
       "      <td>good</td>\n",
       "      <td>enough</td>\n",
       "      <td>enough</td>\n",
       "      <td>river</td>\n",
       "      <td>river/lake</td>\n",
       "      <td>surface</td>\n",
       "      <td>communal standpipe</td>\n",
       "      <td>communal standpipe</td>\n",
       "    </tr>\n",
       "    <tr>\n",
       "      <th>59397</th>\n",
       "      <td>37057</td>\n",
       "      <td>0.0</td>\n",
       "      <td>2011-04-11</td>\n",
       "      <td>NaN</td>\n",
       "      <td>0</td>\n",
       "      <td>NaN</td>\n",
       "      <td>34.017087</td>\n",
       "      <td>-8.750434</td>\n",
       "      <td>Mashine</td>\n",
       "      <td>0</td>\n",
       "      <td>...</td>\n",
       "      <td>monthly</td>\n",
       "      <td>fluoride</td>\n",
       "      <td>fluoride</td>\n",
       "      <td>enough</td>\n",
       "      <td>enough</td>\n",
       "      <td>machine dbh</td>\n",
       "      <td>borehole</td>\n",
       "      <td>groundwater</td>\n",
       "      <td>hand pump</td>\n",
       "      <td>hand pump</td>\n",
       "    </tr>\n",
       "    <tr>\n",
       "      <th>59398</th>\n",
       "      <td>31282</td>\n",
       "      <td>0.0</td>\n",
       "      <td>2011-03-08</td>\n",
       "      <td>Malec</td>\n",
       "      <td>0</td>\n",
       "      <td>Musa</td>\n",
       "      <td>35.861315</td>\n",
       "      <td>-6.378573</td>\n",
       "      <td>Mshoro</td>\n",
       "      <td>0</td>\n",
       "      <td>...</td>\n",
       "      <td>never pay</td>\n",
       "      <td>soft</td>\n",
       "      <td>good</td>\n",
       "      <td>insufficient</td>\n",
       "      <td>insufficient</td>\n",
       "      <td>shallow well</td>\n",
       "      <td>shallow well</td>\n",
       "      <td>groundwater</td>\n",
       "      <td>hand pump</td>\n",
       "      <td>hand pump</td>\n",
       "    </tr>\n",
       "    <tr>\n",
       "      <th>59399</th>\n",
       "      <td>26348</td>\n",
       "      <td>0.0</td>\n",
       "      <td>2011-03-23</td>\n",
       "      <td>World Bank</td>\n",
       "      <td>191</td>\n",
       "      <td>World</td>\n",
       "      <td>38.104048</td>\n",
       "      <td>-6.747464</td>\n",
       "      <td>Kwa Mzee Lugawa</td>\n",
       "      <td>0</td>\n",
       "      <td>...</td>\n",
       "      <td>on failure</td>\n",
       "      <td>salty</td>\n",
       "      <td>salty</td>\n",
       "      <td>enough</td>\n",
       "      <td>enough</td>\n",
       "      <td>shallow well</td>\n",
       "      <td>shallow well</td>\n",
       "      <td>groundwater</td>\n",
       "      <td>hand pump</td>\n",
       "      <td>hand pump</td>\n",
       "    </tr>\n",
       "  </tbody>\n",
       "</table>\n",
       "<p>59400 rows × 40 columns</p>\n",
       "</div>"
      ],
      "text/plain": [
       "          id  amount_tsh date_recorded           funder  gps_height  \\\n",
       "0      69572      6000.0    2011-03-14            Roman        1390   \n",
       "1       8776         0.0    2013-03-06          Grumeti        1399   \n",
       "2      34310        25.0    2013-02-25     Lottery Club         686   \n",
       "3      67743         0.0    2013-01-28           Unicef         263   \n",
       "4      19728         0.0    2011-07-13      Action In A           0   \n",
       "...      ...         ...           ...              ...         ...   \n",
       "59395  60739        10.0    2013-05-03  Germany Republi        1210   \n",
       "59396  27263      4700.0    2011-05-07      Cefa-njombe        1212   \n",
       "59397  37057         0.0    2011-04-11              NaN           0   \n",
       "59398  31282         0.0    2011-03-08            Malec           0   \n",
       "59399  26348         0.0    2011-03-23       World Bank         191   \n",
       "\n",
       "          installer  longitude   latitude              wpt_name  num_private  \\\n",
       "0             Roman  34.938093  -9.856322                  none            0   \n",
       "1           GRUMETI  34.698766  -2.147466              Zahanati            0   \n",
       "2      World vision  37.460664  -3.821329           Kwa Mahundi            0   \n",
       "3            UNICEF  38.486161 -11.155298  Zahanati Ya Nanyumbu            0   \n",
       "4           Artisan  31.130847  -1.825359               Shuleni            0   \n",
       "...             ...        ...        ...                   ...          ...   \n",
       "59395           CES  37.169807  -3.253847   Area Three Namba 27            0   \n",
       "59396          Cefa  35.249991  -9.070629     Kwa Yahona Kuvala            0   \n",
       "59397           NaN  34.017087  -8.750434               Mashine            0   \n",
       "59398          Musa  35.861315  -6.378573                Mshoro            0   \n",
       "59399         World  38.104048  -6.747464       Kwa Mzee Lugawa            0   \n",
       "\n",
       "       ... payment_type water_quality quality_group      quantity  \\\n",
       "0      ...     annually          soft          good        enough   \n",
       "1      ...    never pay          soft          good  insufficient   \n",
       "2      ...   per bucket          soft          good        enough   \n",
       "3      ...    never pay          soft          good           dry   \n",
       "4      ...    never pay          soft          good      seasonal   \n",
       "...    ...          ...           ...           ...           ...   \n",
       "59395  ...   per bucket          soft          good        enough   \n",
       "59396  ...     annually          soft          good        enough   \n",
       "59397  ...      monthly      fluoride      fluoride        enough   \n",
       "59398  ...    never pay          soft          good  insufficient   \n",
       "59399  ...   on failure         salty         salty        enough   \n",
       "\n",
       "       quantity_group                source           source_type  \\\n",
       "0              enough                spring                spring   \n",
       "1        insufficient  rainwater harvesting  rainwater harvesting   \n",
       "2              enough                   dam                   dam   \n",
       "3                 dry           machine dbh              borehole   \n",
       "4            seasonal  rainwater harvesting  rainwater harvesting   \n",
       "...               ...                   ...                   ...   \n",
       "59395          enough                spring                spring   \n",
       "59396          enough                 river            river/lake   \n",
       "59397          enough           machine dbh              borehole   \n",
       "59398    insufficient          shallow well          shallow well   \n",
       "59399          enough          shallow well          shallow well   \n",
       "\n",
       "       source_class              waterpoint_type waterpoint_type_group  \n",
       "0       groundwater           communal standpipe    communal standpipe  \n",
       "1           surface           communal standpipe    communal standpipe  \n",
       "2           surface  communal standpipe multiple    communal standpipe  \n",
       "3       groundwater  communal standpipe multiple    communal standpipe  \n",
       "4           surface           communal standpipe    communal standpipe  \n",
       "...             ...                          ...                   ...  \n",
       "59395   groundwater           communal standpipe    communal standpipe  \n",
       "59396       surface           communal standpipe    communal standpipe  \n",
       "59397   groundwater                    hand pump             hand pump  \n",
       "59398   groundwater                    hand pump             hand pump  \n",
       "59399   groundwater                    hand pump             hand pump  \n",
       "\n",
       "[59400 rows x 40 columns]"
      ]
     },
     "execution_count": 8,
     "metadata": {},
     "output_type": "execute_result"
    }
   ],
   "source": [
    "data_features"
   ]
  },
  {
   "cell_type": "code",
   "execution_count": 9,
   "id": "cba76683",
   "metadata": {},
   "outputs": [],
   "source": [
    "#checking target and feature shapes to ensure match up"
   ]
  },
  {
   "cell_type": "code",
   "execution_count": 10,
   "id": "67b236ff",
   "metadata": {},
   "outputs": [
    {
     "data": {
      "text/plain": [
       "(59400, 2)"
      ]
     },
     "execution_count": 10,
     "metadata": {},
     "output_type": "execute_result"
    }
   ],
   "source": [
    "data_targets.shape"
   ]
  },
  {
   "cell_type": "code",
   "execution_count": 11,
   "id": "39bd0c2d",
   "metadata": {},
   "outputs": [
    {
     "data": {
      "text/plain": [
       "(59400, 40)"
      ]
     },
     "execution_count": 11,
     "metadata": {},
     "output_type": "execute_result"
    }
   ],
   "source": [
    "data_features.shape"
   ]
  },
  {
   "cell_type": "markdown",
   "id": "eed5ffdb",
   "metadata": {},
   "source": [
    "After exploring the imported data and ensuring our targets and features data sets line up, we merged our data sets to create one dataframe."
   ]
  },
  {
   "cell_type": "code",
   "execution_count": 12,
   "id": "aeee846c",
   "metadata": {},
   "outputs": [],
   "source": [
    "df= data_features.merge(data_targets)"
   ]
  },
  {
   "cell_type": "code",
   "execution_count": 13,
   "id": "11663656",
   "metadata": {},
   "outputs": [
    {
     "data": {
      "text/html": [
       "<div>\n",
       "<style scoped>\n",
       "    .dataframe tbody tr th:only-of-type {\n",
       "        vertical-align: middle;\n",
       "    }\n",
       "\n",
       "    .dataframe tbody tr th {\n",
       "        vertical-align: top;\n",
       "    }\n",
       "\n",
       "    .dataframe thead th {\n",
       "        text-align: right;\n",
       "    }\n",
       "</style>\n",
       "<table border=\"1\" class=\"dataframe\">\n",
       "  <thead>\n",
       "    <tr style=\"text-align: right;\">\n",
       "      <th></th>\n",
       "      <th>id</th>\n",
       "      <th>amount_tsh</th>\n",
       "      <th>date_recorded</th>\n",
       "      <th>funder</th>\n",
       "      <th>gps_height</th>\n",
       "      <th>installer</th>\n",
       "      <th>longitude</th>\n",
       "      <th>latitude</th>\n",
       "      <th>wpt_name</th>\n",
       "      <th>num_private</th>\n",
       "      <th>...</th>\n",
       "      <th>water_quality</th>\n",
       "      <th>quality_group</th>\n",
       "      <th>quantity</th>\n",
       "      <th>quantity_group</th>\n",
       "      <th>source</th>\n",
       "      <th>source_type</th>\n",
       "      <th>source_class</th>\n",
       "      <th>waterpoint_type</th>\n",
       "      <th>waterpoint_type_group</th>\n",
       "      <th>status_group</th>\n",
       "    </tr>\n",
       "  </thead>\n",
       "  <tbody>\n",
       "    <tr>\n",
       "      <th>0</th>\n",
       "      <td>69572</td>\n",
       "      <td>6000.0</td>\n",
       "      <td>2011-03-14</td>\n",
       "      <td>Roman</td>\n",
       "      <td>1390</td>\n",
       "      <td>Roman</td>\n",
       "      <td>34.938093</td>\n",
       "      <td>-9.856322</td>\n",
       "      <td>none</td>\n",
       "      <td>0</td>\n",
       "      <td>...</td>\n",
       "      <td>soft</td>\n",
       "      <td>good</td>\n",
       "      <td>enough</td>\n",
       "      <td>enough</td>\n",
       "      <td>spring</td>\n",
       "      <td>spring</td>\n",
       "      <td>groundwater</td>\n",
       "      <td>communal standpipe</td>\n",
       "      <td>communal standpipe</td>\n",
       "      <td>functional</td>\n",
       "    </tr>\n",
       "    <tr>\n",
       "      <th>1</th>\n",
       "      <td>8776</td>\n",
       "      <td>0.0</td>\n",
       "      <td>2013-03-06</td>\n",
       "      <td>Grumeti</td>\n",
       "      <td>1399</td>\n",
       "      <td>GRUMETI</td>\n",
       "      <td>34.698766</td>\n",
       "      <td>-2.147466</td>\n",
       "      <td>Zahanati</td>\n",
       "      <td>0</td>\n",
       "      <td>...</td>\n",
       "      <td>soft</td>\n",
       "      <td>good</td>\n",
       "      <td>insufficient</td>\n",
       "      <td>insufficient</td>\n",
       "      <td>rainwater harvesting</td>\n",
       "      <td>rainwater harvesting</td>\n",
       "      <td>surface</td>\n",
       "      <td>communal standpipe</td>\n",
       "      <td>communal standpipe</td>\n",
       "      <td>functional</td>\n",
       "    </tr>\n",
       "    <tr>\n",
       "      <th>2</th>\n",
       "      <td>34310</td>\n",
       "      <td>25.0</td>\n",
       "      <td>2013-02-25</td>\n",
       "      <td>Lottery Club</td>\n",
       "      <td>686</td>\n",
       "      <td>World vision</td>\n",
       "      <td>37.460664</td>\n",
       "      <td>-3.821329</td>\n",
       "      <td>Kwa Mahundi</td>\n",
       "      <td>0</td>\n",
       "      <td>...</td>\n",
       "      <td>soft</td>\n",
       "      <td>good</td>\n",
       "      <td>enough</td>\n",
       "      <td>enough</td>\n",
       "      <td>dam</td>\n",
       "      <td>dam</td>\n",
       "      <td>surface</td>\n",
       "      <td>communal standpipe multiple</td>\n",
       "      <td>communal standpipe</td>\n",
       "      <td>functional</td>\n",
       "    </tr>\n",
       "    <tr>\n",
       "      <th>3</th>\n",
       "      <td>67743</td>\n",
       "      <td>0.0</td>\n",
       "      <td>2013-01-28</td>\n",
       "      <td>Unicef</td>\n",
       "      <td>263</td>\n",
       "      <td>UNICEF</td>\n",
       "      <td>38.486161</td>\n",
       "      <td>-11.155298</td>\n",
       "      <td>Zahanati Ya Nanyumbu</td>\n",
       "      <td>0</td>\n",
       "      <td>...</td>\n",
       "      <td>soft</td>\n",
       "      <td>good</td>\n",
       "      <td>dry</td>\n",
       "      <td>dry</td>\n",
       "      <td>machine dbh</td>\n",
       "      <td>borehole</td>\n",
       "      <td>groundwater</td>\n",
       "      <td>communal standpipe multiple</td>\n",
       "      <td>communal standpipe</td>\n",
       "      <td>non functional</td>\n",
       "    </tr>\n",
       "    <tr>\n",
       "      <th>4</th>\n",
       "      <td>19728</td>\n",
       "      <td>0.0</td>\n",
       "      <td>2011-07-13</td>\n",
       "      <td>Action In A</td>\n",
       "      <td>0</td>\n",
       "      <td>Artisan</td>\n",
       "      <td>31.130847</td>\n",
       "      <td>-1.825359</td>\n",
       "      <td>Shuleni</td>\n",
       "      <td>0</td>\n",
       "      <td>...</td>\n",
       "      <td>soft</td>\n",
       "      <td>good</td>\n",
       "      <td>seasonal</td>\n",
       "      <td>seasonal</td>\n",
       "      <td>rainwater harvesting</td>\n",
       "      <td>rainwater harvesting</td>\n",
       "      <td>surface</td>\n",
       "      <td>communal standpipe</td>\n",
       "      <td>communal standpipe</td>\n",
       "      <td>functional</td>\n",
       "    </tr>\n",
       "  </tbody>\n",
       "</table>\n",
       "<p>5 rows × 41 columns</p>\n",
       "</div>"
      ],
      "text/plain": [
       "      id  amount_tsh date_recorded        funder  gps_height     installer  \\\n",
       "0  69572      6000.0    2011-03-14         Roman        1390         Roman   \n",
       "1   8776         0.0    2013-03-06       Grumeti        1399       GRUMETI   \n",
       "2  34310        25.0    2013-02-25  Lottery Club         686  World vision   \n",
       "3  67743         0.0    2013-01-28        Unicef         263        UNICEF   \n",
       "4  19728         0.0    2011-07-13   Action In A           0       Artisan   \n",
       "\n",
       "   longitude   latitude              wpt_name  num_private  ... water_quality  \\\n",
       "0  34.938093  -9.856322                  none            0  ...          soft   \n",
       "1  34.698766  -2.147466              Zahanati            0  ...          soft   \n",
       "2  37.460664  -3.821329           Kwa Mahundi            0  ...          soft   \n",
       "3  38.486161 -11.155298  Zahanati Ya Nanyumbu            0  ...          soft   \n",
       "4  31.130847  -1.825359               Shuleni            0  ...          soft   \n",
       "\n",
       "  quality_group      quantity  quantity_group                source  \\\n",
       "0          good        enough          enough                spring   \n",
       "1          good  insufficient    insufficient  rainwater harvesting   \n",
       "2          good        enough          enough                   dam   \n",
       "3          good           dry             dry           machine dbh   \n",
       "4          good      seasonal        seasonal  rainwater harvesting   \n",
       "\n",
       "            source_type source_class              waterpoint_type  \\\n",
       "0                spring  groundwater           communal standpipe   \n",
       "1  rainwater harvesting      surface           communal standpipe   \n",
       "2                   dam      surface  communal standpipe multiple   \n",
       "3              borehole  groundwater  communal standpipe multiple   \n",
       "4  rainwater harvesting      surface           communal standpipe   \n",
       "\n",
       "  waterpoint_type_group    status_group  \n",
       "0    communal standpipe      functional  \n",
       "1    communal standpipe      functional  \n",
       "2    communal standpipe      functional  \n",
       "3    communal standpipe  non functional  \n",
       "4    communal standpipe      functional  \n",
       "\n",
       "[5 rows x 41 columns]"
      ]
     },
     "execution_count": 13,
     "metadata": {},
     "output_type": "execute_result"
    }
   ],
   "source": [
    "df.head()"
   ]
  },
  {
   "cell_type": "markdown",
   "id": "6ccbde0f",
   "metadata": {},
   "source": [
    "We checked the distribution of our status_group values. We see we have unbalanced targets and may need to address this in our models and data analysis."
   ]
  },
  {
   "cell_type": "code",
   "execution_count": 14,
   "id": "8c853bf7",
   "metadata": {},
   "outputs": [
    {
     "data": {
      "text/plain": [
       "functional                 32259\n",
       "non functional             22824\n",
       "functional needs repair     4317\n",
       "Name: status_group, dtype: int64"
      ]
     },
     "execution_count": 14,
     "metadata": {},
     "output_type": "execute_result"
    }
   ],
   "source": [
    "df['status_group'].value_counts()"
   ]
  },
  {
   "cell_type": "markdown",
   "id": "cbe09e7b",
   "metadata": {},
   "source": [
    "To start our data cleaning, we explored the num_private column to try to assess what information was being portaryed because there was no column description. "
   ]
  },
  {
   "cell_type": "code",
   "execution_count": 15,
   "id": "e0007be6",
   "metadata": {},
   "outputs": [
    {
     "data": {
      "text/plain": [
       "0      58643\n",
       "6         81\n",
       "1         73\n",
       "5         46\n",
       "8         46\n",
       "       ...  \n",
       "180        1\n",
       "213        1\n",
       "23         1\n",
       "55         1\n",
       "94         1\n",
       "Name: num_private, Length: 65, dtype: int64"
      ]
     },
     "execution_count": 15,
     "metadata": {},
     "output_type": "execute_result"
    }
   ],
   "source": [
    "df['num_private'].value_counts()"
   ]
  },
  {
   "cell_type": "markdown",
   "id": "d7feb5c1",
   "metadata": {},
   "source": [
    "We saw over 99% of the data = 0. We presume 0 means the data was not available and choose to drop the column entirely. "
   ]
  },
  {
   "cell_type": "code",
   "execution_count": 16,
   "id": "f093a665",
   "metadata": {},
   "outputs": [],
   "source": [
    "df.drop(columns=['num_private'],inplace=True)"
   ]
  },
  {
   "cell_type": "markdown",
   "id": "400c2986",
   "metadata": {},
   "source": [
    "We will assume that whoever recorded data did so truthfully and this should not effect our target. We drop the column."
   ]
  },
  {
   "cell_type": "code",
   "execution_count": 17,
   "id": "9b2c7e44",
   "metadata": {},
   "outputs": [],
   "source": [
    "df.drop(columns=['recorded_by'], inplace=True)"
   ]
  },
  {
   "cell_type": "markdown",
   "id": "588e218f",
   "metadata": {},
   "source": [
    "Next we explore columns with similar column names and descriptions to see if there is any overlap in ifnormation."
   ]
  },
  {
   "cell_type": "code",
   "execution_count": 18,
   "id": "f5d914ca",
   "metadata": {},
   "outputs": [],
   "source": [
    "#looking deeper into quantity vs. quantity_group"
   ]
  },
  {
   "cell_type": "code",
   "execution_count": 19,
   "id": "205b8474",
   "metadata": {},
   "outputs": [
    {
     "data": {
      "text/plain": [
       "enough          33186\n",
       "insufficient    15129\n",
       "dry              6246\n",
       "seasonal         4050\n",
       "unknown           789\n",
       "Name: quantity, dtype: int64"
      ]
     },
     "execution_count": 19,
     "metadata": {},
     "output_type": "execute_result"
    }
   ],
   "source": [
    "df.quantity.value_counts()"
   ]
  },
  {
   "cell_type": "code",
   "execution_count": 20,
   "id": "494b2646",
   "metadata": {},
   "outputs": [
    {
     "data": {
      "text/plain": [
       "enough          33186\n",
       "insufficient    15129\n",
       "dry              6246\n",
       "seasonal         4050\n",
       "unknown           789\n",
       "Name: quantity_group, dtype: int64"
      ]
     },
     "execution_count": 20,
     "metadata": {},
     "output_type": "execute_result"
    }
   ],
   "source": [
    "df.quantity_group.value_counts()"
   ]
  },
  {
   "cell_type": "code",
   "execution_count": 21,
   "id": "e70ba8fe",
   "metadata": {},
   "outputs": [],
   "source": [
    "#columns represent same values, will drop quantity_group"
   ]
  },
  {
   "cell_type": "code",
   "execution_count": 22,
   "id": "b49a0851",
   "metadata": {},
   "outputs": [],
   "source": [
    "df.drop(columns=['quantity_group'], inplace=True)"
   ]
  },
  {
   "cell_type": "code",
   "execution_count": 23,
   "id": "a5b23bbb",
   "metadata": {},
   "outputs": [],
   "source": [
    "#looking deeper into source vs. sorce_type vs. source_class"
   ]
  },
  {
   "cell_type": "code",
   "execution_count": 24,
   "id": "04d89ea1",
   "metadata": {},
   "outputs": [
    {
     "data": {
      "text/plain": [
       "spring                  17021\n",
       "shallow well            16824\n",
       "machine dbh             11075\n",
       "river                    9612\n",
       "rainwater harvesting     2295\n",
       "hand dtw                  874\n",
       "lake                      765\n",
       "dam                       656\n",
       "other                     212\n",
       "unknown                    66\n",
       "Name: source, dtype: int64"
      ]
     },
     "execution_count": 24,
     "metadata": {},
     "output_type": "execute_result"
    }
   ],
   "source": [
    "df.source.value_counts()\n"
   ]
  },
  {
   "cell_type": "code",
   "execution_count": 25,
   "id": "14885abe",
   "metadata": {},
   "outputs": [
    {
     "data": {
      "text/plain": [
       "spring                  17021\n",
       "shallow well            16824\n",
       "borehole                11949\n",
       "river/lake              10377\n",
       "rainwater harvesting     2295\n",
       "dam                       656\n",
       "other                     278\n",
       "Name: source_type, dtype: int64"
      ]
     },
     "execution_count": 25,
     "metadata": {},
     "output_type": "execute_result"
    }
   ],
   "source": [
    "df.source_type.value_counts()"
   ]
  },
  {
   "cell_type": "code",
   "execution_count": 26,
   "id": "16ef1d76",
   "metadata": {},
   "outputs": [
    {
     "data": {
      "text/plain": [
       "groundwater    45794\n",
       "surface        13328\n",
       "unknown          278\n",
       "Name: source_class, dtype: int64"
      ]
     },
     "execution_count": 26,
     "metadata": {},
     "output_type": "execute_result"
    }
   ],
   "source": [
    "df.source_class.value_counts()"
   ]
  },
  {
   "cell_type": "markdown",
   "id": "196f638e",
   "metadata": {},
   "source": [
    "We drop the source_type and source_class columns since they contain similar information to the source column, which is more robust. "
   ]
  },
  {
   "cell_type": "code",
   "execution_count": 27,
   "id": "56c40b1d",
   "metadata": {},
   "outputs": [],
   "source": [
    "df.drop(columns=['source_type', 'source_class'], inplace=True)"
   ]
  },
  {
   "cell_type": "code",
   "execution_count": 28,
   "id": "86cf01f5",
   "metadata": {},
   "outputs": [],
   "source": [
    "#looking deeper into waterpoint_type vs. wateropint_type_group"
   ]
  },
  {
   "cell_type": "code",
   "execution_count": 29,
   "id": "4ced4771",
   "metadata": {},
   "outputs": [
    {
     "data": {
      "text/plain": [
       "communal standpipe             28522\n",
       "hand pump                      17488\n",
       "other                           6380\n",
       "communal standpipe multiple     6103\n",
       "improved spring                  784\n",
       "cattle trough                    116\n",
       "dam                                7\n",
       "Name: waterpoint_type, dtype: int64"
      ]
     },
     "execution_count": 29,
     "metadata": {},
     "output_type": "execute_result"
    }
   ],
   "source": [
    "df.waterpoint_type.value_counts()"
   ]
  },
  {
   "cell_type": "code",
   "execution_count": 30,
   "id": "ab1a6e4c",
   "metadata": {},
   "outputs": [
    {
     "data": {
      "text/plain": [
       "communal standpipe    34625\n",
       "hand pump             17488\n",
       "other                  6380\n",
       "improved spring         784\n",
       "cattle trough           116\n",
       "dam                       7\n",
       "Name: waterpoint_type_group, dtype: int64"
      ]
     },
     "execution_count": 30,
     "metadata": {},
     "output_type": "execute_result"
    }
   ],
   "source": [
    "df.waterpoint_type_group.value_counts()"
   ]
  },
  {
   "cell_type": "code",
   "execution_count": 31,
   "id": "ef7d7352",
   "metadata": {},
   "outputs": [],
   "source": [
    "#dropping waterpoint_type_group, duplicate info from waterpoint_type"
   ]
  },
  {
   "cell_type": "code",
   "execution_count": 32,
   "id": "53256eca",
   "metadata": {},
   "outputs": [],
   "source": [
    "df.drop(columns=['waterpoint_type_group'], inplace=True)"
   ]
  },
  {
   "cell_type": "markdown",
   "id": "1fb89845",
   "metadata": {},
   "source": [
    "Next, we explore null values and decide how to clean nulls."
   ]
  },
  {
   "cell_type": "code",
   "execution_count": 33,
   "id": "c22bd049",
   "metadata": {},
   "outputs": [
    {
     "data": {
      "text/plain": [
       "id                           0\n",
       "amount_tsh                   0\n",
       "date_recorded                0\n",
       "funder                    3635\n",
       "gps_height                   0\n",
       "installer                 3655\n",
       "longitude                    0\n",
       "latitude                     0\n",
       "wpt_name                     0\n",
       "basin                        0\n",
       "subvillage                 371\n",
       "region                       0\n",
       "region_code                  0\n",
       "district_code                0\n",
       "lga                          0\n",
       "ward                         0\n",
       "population                   0\n",
       "public_meeting            3334\n",
       "scheme_management         3877\n",
       "scheme_name              28166\n",
       "permit                    3056\n",
       "construction_year            0\n",
       "extraction_type              0\n",
       "extraction_type_group        0\n",
       "extraction_type_class        0\n",
       "management                   0\n",
       "management_group             0\n",
       "payment                      0\n",
       "payment_type                 0\n",
       "water_quality                0\n",
       "quality_group                0\n",
       "quantity                     0\n",
       "source                       0\n",
       "waterpoint_type              0\n",
       "status_group                 0\n",
       "dtype: int64"
      ]
     },
     "execution_count": 33,
     "metadata": {},
     "output_type": "execute_result"
    }
   ],
   "source": [
    "df.isna().sum()"
   ]
  },
  {
   "cell_type": "code",
   "execution_count": 34,
   "id": "6c45b3fd",
   "metadata": {},
   "outputs": [],
   "source": [
    "#first looking into funder values"
   ]
  },
  {
   "cell_type": "code",
   "execution_count": 35,
   "id": "264f8e32",
   "metadata": {},
   "outputs": [
    {
     "data": {
      "text/plain": [
       "Government Of Tanzania    9084\n",
       "NaN                       3635\n",
       "Danida                    3114\n",
       "Hesawa                    2202\n",
       "Rwssp                     1374\n",
       "                          ... \n",
       "Morrovian                    1\n",
       "Pema                         1\n",
       "Segera Estate                1\n",
       "Mzee Mkungata                1\n",
       "Gg                           1\n",
       "Name: funder, Length: 1898, dtype: int64"
      ]
     },
     "execution_count": 35,
     "metadata": {},
     "output_type": "execute_result"
    }
   ],
   "source": [
    "df.funder.value_counts(dropna=False)"
   ]
  },
  {
   "cell_type": "code",
   "execution_count": 36,
   "id": "5680869d",
   "metadata": {},
   "outputs": [
    {
     "data": {
      "text/plain": [
       "count                      55765\n",
       "unique                      1897\n",
       "top       Government Of Tanzania\n",
       "freq                        9084\n",
       "Name: funder, dtype: object"
      ]
     },
     "execution_count": 36,
     "metadata": {},
     "output_type": "execute_result"
    }
   ],
   "source": [
    "df.funder.describe()"
   ]
  },
  {
   "cell_type": "code",
   "execution_count": 37,
   "id": "43266d55",
   "metadata": {},
   "outputs": [
    {
     "data": {
      "text/plain": [
       "(59400, 35)"
      ]
     },
     "execution_count": 37,
     "metadata": {},
     "output_type": "execute_result"
    }
   ],
   "source": [
    "df.shape"
   ]
  },
  {
   "cell_type": "code",
   "execution_count": 38,
   "id": "006d92c3",
   "metadata": {},
   "outputs": [
    {
     "data": {
      "text/plain": [
       "0.0611952861952862"
      ]
     },
     "execution_count": 38,
     "metadata": {},
     "output_type": "execute_result"
    }
   ],
   "source": [
    "3635/59400"
   ]
  },
  {
   "cell_type": "markdown",
   "id": "ab22bdbd",
   "metadata": {},
   "source": [
    "We find nulls make up 6% of our data for funder and is also the 2nd highestest value. Because there may be underlying reasons why the funder was not available, we do not want to lose this category. Therefore, we change the nulls to a value of \"Unknown."
   ]
  },
  {
   "cell_type": "code",
   "execution_count": 39,
   "id": "17033ee9",
   "metadata": {},
   "outputs": [],
   "source": [
    "df.funder.fillna(value='Unknown', inplace=True)"
   ]
  },
  {
   "cell_type": "code",
   "execution_count": 40,
   "id": "1d52cb43",
   "metadata": {},
   "outputs": [
    {
     "data": {
      "text/plain": [
       "Government Of Tanzania        9084\n",
       "Unknown                       3639\n",
       "Danida                        3114\n",
       "Hesawa                        2202\n",
       "Rwssp                         1374\n",
       "                              ... \n",
       "Pentecostal Hagana Sweeden       1\n",
       "Runda                            1\n",
       "Tlc/sorri                        1\n",
       "Ringo                            1\n",
       "Lion Clu                         1\n",
       "Name: funder, Length: 1897, dtype: int64"
      ]
     },
     "execution_count": 40,
     "metadata": {},
     "output_type": "execute_result"
    }
   ],
   "source": [
    "df.funder.value_counts(dropna=False)"
   ]
  },
  {
   "cell_type": "code",
   "execution_count": 41,
   "id": "c498e461",
   "metadata": {},
   "outputs": [
    {
     "data": {
      "text/plain": [
       "DWE                     17402\n",
       "NaN                      3655\n",
       "Government               1825\n",
       "RWE                      1206\n",
       "Commu                    1060\n",
       "                        ...  \n",
       "Japan Government            1\n",
       "Mama Hamisa                 1\n",
       "Swalehe Rajabu              1\n",
       "METHODIST CHURCH            1\n",
       "Makanya Sisal Estate        1\n",
       "Name: installer, Length: 2146, dtype: int64"
      ]
     },
     "execution_count": 41,
     "metadata": {},
     "output_type": "execute_result"
    }
   ],
   "source": [
    "df.installer.value_counts(dropna=False)"
   ]
  },
  {
   "cell_type": "markdown",
   "id": "81281431",
   "metadata": {},
   "source": [
    "We find nulls make up 6% of our data for installer and is also the 2nd highestest value. Because there may be underlying reasons why the installer was not available, we do not want to lose this category. Therefore, we change the nulls to a value of \"Unknown."
   ]
  },
  {
   "cell_type": "code",
   "execution_count": 42,
   "id": "effa0eb4",
   "metadata": {},
   "outputs": [],
   "source": [
    "df.installer.fillna(value='Unknown', inplace=True)"
   ]
  },
  {
   "cell_type": "code",
   "execution_count": 43,
   "id": "211c1f41",
   "metadata": {},
   "outputs": [
    {
     "data": {
      "text/plain": [
       "DWE                         17402\n",
       "Unknown                      3658\n",
       "Government                   1825\n",
       "RWE                          1206\n",
       "Commu                        1060\n",
       "                            ...  \n",
       "KKKT Kilinga                    1\n",
       "Swalehe Rajabu                  1\n",
       "Japan Government                1\n",
       "Mama Hamisa                     1\n",
       "UMOJA DRILLING CONTRUCTO        1\n",
       "Name: installer, Length: 2145, dtype: int64"
      ]
     },
     "execution_count": 43,
     "metadata": {},
     "output_type": "execute_result"
    }
   ],
   "source": [
    "df.installer.value_counts(dropna=False)"
   ]
  },
  {
   "cell_type": "code",
   "execution_count": 44,
   "id": "71f372f5",
   "metadata": {},
   "outputs": [
    {
     "data": {
      "text/plain": [
       "id                           0\n",
       "amount_tsh                   0\n",
       "date_recorded                0\n",
       "funder                       0\n",
       "gps_height                   0\n",
       "installer                    0\n",
       "longitude                    0\n",
       "latitude                     0\n",
       "wpt_name                     0\n",
       "basin                        0\n",
       "subvillage                 371\n",
       "region                       0\n",
       "region_code                  0\n",
       "district_code                0\n",
       "lga                          0\n",
       "ward                         0\n",
       "population                   0\n",
       "public_meeting            3334\n",
       "scheme_management         3877\n",
       "scheme_name              28166\n",
       "permit                    3056\n",
       "construction_year            0\n",
       "extraction_type              0\n",
       "extraction_type_group        0\n",
       "extraction_type_class        0\n",
       "management                   0\n",
       "management_group             0\n",
       "payment                      0\n",
       "payment_type                 0\n",
       "water_quality                0\n",
       "quality_group                0\n",
       "quantity                     0\n",
       "source                       0\n",
       "waterpoint_type              0\n",
       "status_group                 0\n",
       "dtype: int64"
      ]
     },
     "execution_count": 44,
     "metadata": {},
     "output_type": "execute_result"
    }
   ],
   "source": [
    "df.isna().sum()"
   ]
  },
  {
   "cell_type": "code",
   "execution_count": 45,
   "id": "d188353c",
   "metadata": {},
   "outputs": [],
   "source": [
    "#looking into value_counts of subvillage"
   ]
  },
  {
   "cell_type": "code",
   "execution_count": 46,
   "id": "4e114650",
   "metadata": {},
   "outputs": [
    {
     "data": {
      "text/plain": [
       "Madukani     508\n",
       "Shuleni      506\n",
       "Majengo      502\n",
       "Kati         373\n",
       "Mtakuja      262\n",
       "            ... \n",
       "Riroda         1\n",
       "Lulunga        1\n",
       "Geniver        1\n",
       "Mwabalobi      1\n",
       "Mkazaga        1\n",
       "Name: subvillage, Length: 19287, dtype: int64"
      ]
     },
     "execution_count": 46,
     "metadata": {},
     "output_type": "execute_result"
    }
   ],
   "source": [
    "df.subvillage.value_counts()"
   ]
  },
  {
   "cell_type": "code",
   "execution_count": 47,
   "id": "55936ffa",
   "metadata": {},
   "outputs": [
    {
     "data": {
      "text/plain": [
       "0.0062457912457912455"
      ]
     },
     "execution_count": 47,
     "metadata": {},
     "output_type": "execute_result"
    }
   ],
   "source": [
    "371/59400"
   ]
  },
  {
   "cell_type": "markdown",
   "id": "a9e81295",
   "metadata": {},
   "source": [
    "Since null values of subvillage are <1% of data, we drop rows where subvillage is null."
   ]
  },
  {
   "cell_type": "code",
   "execution_count": 48,
   "id": "132a9c0d",
   "metadata": {},
   "outputs": [],
   "source": [
    "df.dropna(subset=['subvillage'], inplace=True)"
   ]
  },
  {
   "cell_type": "code",
   "execution_count": 49,
   "id": "1cb59e44",
   "metadata": {},
   "outputs": [
    {
     "data": {
      "text/plain": [
       "(59029, 35)"
      ]
     },
     "execution_count": 49,
     "metadata": {},
     "output_type": "execute_result"
    }
   ],
   "source": [
    "df.shape"
   ]
  },
  {
   "cell_type": "code",
   "execution_count": 50,
   "id": "54629417",
   "metadata": {},
   "outputs": [
    {
     "data": {
      "text/plain": [
       "id                           0\n",
       "amount_tsh                   0\n",
       "date_recorded                0\n",
       "funder                       0\n",
       "gps_height                   0\n",
       "installer                    0\n",
       "longitude                    0\n",
       "latitude                     0\n",
       "wpt_name                     0\n",
       "basin                        0\n",
       "subvillage                   0\n",
       "region                       0\n",
       "region_code                  0\n",
       "district_code                0\n",
       "lga                          0\n",
       "ward                         0\n",
       "population                   0\n",
       "public_meeting            3333\n",
       "scheme_management         3869\n",
       "scheme_name              28157\n",
       "permit                    3056\n",
       "construction_year            0\n",
       "extraction_type              0\n",
       "extraction_type_group        0\n",
       "extraction_type_class        0\n",
       "management                   0\n",
       "management_group             0\n",
       "payment                      0\n",
       "payment_type                 0\n",
       "water_quality                0\n",
       "quality_group                0\n",
       "quantity                     0\n",
       "source                       0\n",
       "waterpoint_type              0\n",
       "status_group                 0\n",
       "dtype: int64"
      ]
     },
     "execution_count": 50,
     "metadata": {},
     "output_type": "execute_result"
    }
   ],
   "source": [
    "df.isna().sum()"
   ]
  },
  {
   "cell_type": "code",
   "execution_count": 51,
   "id": "ef23f626",
   "metadata": {},
   "outputs": [
    {
     "data": {
      "text/plain": [
       "True     50642\n",
       "False     5054\n",
       "Name: public_meeting, dtype: int64"
      ]
     },
     "execution_count": 51,
     "metadata": {},
     "output_type": "execute_result"
    }
   ],
   "source": [
    "df.public_meeting.value_counts()"
   ]
  },
  {
   "cell_type": "code",
   "execution_count": 52,
   "id": "e7f3c4ee",
   "metadata": {},
   "outputs": [
    {
     "data": {
      "text/plain": [
       "0.05611111111111111"
      ]
     },
     "execution_count": 52,
     "metadata": {},
     "output_type": "execute_result"
    }
   ],
   "source": [
    "3333/59400"
   ]
  },
  {
   "cell_type": "markdown",
   "id": "831568ed",
   "metadata": {},
   "source": [
    "Because there may be underlying reasons why this this information was unavailable and nulls make up over 5% of the data, we will convert nulls to \"Unknown.\""
   ]
  },
  {
   "cell_type": "code",
   "execution_count": 53,
   "id": "aa431fce",
   "metadata": {},
   "outputs": [],
   "source": [
    "df.public_meeting.fillna(value='Unknown', inplace=True)"
   ]
  },
  {
   "cell_type": "markdown",
   "id": "3d5d9fc9",
   "metadata": {},
   "source": [
    "Looking deeply into scheme_management vs. scheme_name to analyze if the columns contain similar information and to address nulls. "
   ]
  },
  {
   "cell_type": "code",
   "execution_count": 54,
   "id": "0ae46a41",
   "metadata": {},
   "outputs": [
    {
     "data": {
      "text/plain": [
       "VWC                 36437\n",
       "WUG                  5206\n",
       "NaN                  3869\n",
       "Water authority      3147\n",
       "WUA                  2883\n",
       "Water Board          2747\n",
       "Parastatal           1680\n",
       "Private operator     1063\n",
       "Company              1061\n",
       "Other                 766\n",
       "SWC                    97\n",
       "Trust                  72\n",
       "None                    1\n",
       "Name: scheme_management, dtype: int64"
      ]
     },
     "execution_count": 54,
     "metadata": {},
     "output_type": "execute_result"
    }
   ],
   "source": [
    "df.scheme_management.value_counts(dropna=False)"
   ]
  },
  {
   "cell_type": "code",
   "execution_count": 55,
   "id": "b1e01218",
   "metadata": {},
   "outputs": [
    {
     "data": {
      "text/plain": [
       "NaN                            28157\n",
       "K                                682\n",
       "None                             644\n",
       "Borehole                         546\n",
       "Chalinze wate                    405\n",
       "                               ...  \n",
       "BL lawate branch line              1\n",
       "Darida                             1\n",
       "Ugalla water supply                1\n",
       "Nduguti  pipes water supply        1\n",
       "Kwa mboko water supply             1\n",
       "Name: scheme_name, Length: 2653, dtype: int64"
      ]
     },
     "execution_count": 55,
     "metadata": {},
     "output_type": "execute_result"
    }
   ],
   "source": [
    "df.scheme_name.value_counts(dropna=False)"
   ]
  },
  {
   "cell_type": "markdown",
   "id": "f9e2eb12",
   "metadata": {},
   "source": [
    "We drop scheme name since scheme management captures similar data more cleanly with fewer nulls. Since Nulls is our 3rd highest category, we want to capture that information and will replace our Nulls with \"Unknown.\""
   ]
  },
  {
   "cell_type": "code",
   "execution_count": 56,
   "id": "53a4d948",
   "metadata": {},
   "outputs": [],
   "source": [
    "df.drop(columns=['scheme_name'], inplace=True)"
   ]
  },
  {
   "cell_type": "code",
   "execution_count": 57,
   "id": "611e8cdc",
   "metadata": {},
   "outputs": [],
   "source": [
    "df.scheme_management.fillna(value='Unknown', inplace=True)"
   ]
  },
  {
   "cell_type": "code",
   "execution_count": 58,
   "id": "2946c4bd",
   "metadata": {},
   "outputs": [
    {
     "data": {
      "text/plain": [
       "True     38793\n",
       "False    17180\n",
       "NaN       3056\n",
       "Name: permit, dtype: int64"
      ]
     },
     "execution_count": 58,
     "metadata": {},
     "output_type": "execute_result"
    }
   ],
   "source": [
    "df.permit.value_counts(dropna=False)"
   ]
  },
  {
   "cell_type": "code",
   "execution_count": 59,
   "id": "123e5a6e",
   "metadata": {},
   "outputs": [
    {
     "data": {
      "text/plain": [
       "0.05144781144781145"
      ]
     },
     "execution_count": 59,
     "metadata": {},
     "output_type": "execute_result"
    }
   ],
   "source": [
    "3056/59400"
   ]
  },
  {
   "cell_type": "markdown",
   "id": "72a412e3",
   "metadata": {},
   "source": [
    "Since our Nulls contain a small portion of our data and we have an overwhelming mode, we  replace our Null with our mode (True)."
   ]
  },
  {
   "cell_type": "code",
   "execution_count": 60,
   "id": "9a070c0a",
   "metadata": {},
   "outputs": [],
   "source": [
    "df.permit.fillna(value=True, inplace=True)"
   ]
  },
  {
   "cell_type": "code",
   "execution_count": 61,
   "id": "b7315537",
   "metadata": {},
   "outputs": [
    {
     "data": {
      "text/plain": [
       "True     41849\n",
       "False    17180\n",
       "Name: permit, dtype: int64"
      ]
     },
     "execution_count": 61,
     "metadata": {},
     "output_type": "execute_result"
    }
   ],
   "source": [
    "df.permit.value_counts()"
   ]
  },
  {
   "cell_type": "code",
   "execution_count": 62,
   "id": "68fba2a0",
   "metadata": {},
   "outputs": [
    {
     "data": {
      "text/plain": [
       "id                       0\n",
       "amount_tsh               0\n",
       "date_recorded            0\n",
       "funder                   0\n",
       "gps_height               0\n",
       "installer                0\n",
       "longitude                0\n",
       "latitude                 0\n",
       "wpt_name                 0\n",
       "basin                    0\n",
       "subvillage               0\n",
       "region                   0\n",
       "region_code              0\n",
       "district_code            0\n",
       "lga                      0\n",
       "ward                     0\n",
       "population               0\n",
       "public_meeting           0\n",
       "scheme_management        0\n",
       "permit                   0\n",
       "construction_year        0\n",
       "extraction_type          0\n",
       "extraction_type_group    0\n",
       "extraction_type_class    0\n",
       "management               0\n",
       "management_group         0\n",
       "payment                  0\n",
       "payment_type             0\n",
       "water_quality            0\n",
       "quality_group            0\n",
       "quantity                 0\n",
       "source                   0\n",
       "waterpoint_type          0\n",
       "status_group             0\n",
       "dtype: int64"
      ]
     },
     "execution_count": 62,
     "metadata": {},
     "output_type": "execute_result"
    }
   ],
   "source": [
    "df.isna().sum()"
   ]
  },
  {
   "cell_type": "markdown",
   "id": "372af2db",
   "metadata": {},
   "source": [
    "We have addressed all of our null values. We convert construction_year column to an age column to make the column more interpretable."
   ]
  },
  {
   "cell_type": "code",
   "execution_count": 63,
   "id": "65343ffc",
   "metadata": {},
   "outputs": [
    {
     "data": {
      "text/plain": [
       "0       20348\n",
       "2010     2644\n",
       "2008     2613\n",
       "2009     2533\n",
       "2000     2091\n",
       "2007     1586\n",
       "2006     1471\n",
       "2003     1286\n",
       "2011     1254\n",
       "2004     1123\n",
       "2012     1084\n",
       "2002     1075\n",
       "1978     1037\n",
       "1995     1013\n",
       "2005     1009\n",
       "1999      978\n",
       "1998      966\n",
       "1990      954\n",
       "1985      945\n",
       "1980      811\n",
       "1996      811\n",
       "1984      779\n",
       "1982      744\n",
       "1994      738\n",
       "1972      707\n",
       "1974      676\n",
       "1997      644\n",
       "1992      640\n",
       "1993      608\n",
       "2001      539\n",
       "1988      521\n",
       "1983      488\n",
       "1975      437\n",
       "1986      434\n",
       "1976      414\n",
       "1970      411\n",
       "1991      324\n",
       "1989      316\n",
       "1987      302\n",
       "1981      238\n",
       "1977      202\n",
       "1979      192\n",
       "1973      184\n",
       "2013      176\n",
       "1971      145\n",
       "1960      102\n",
       "1967       88\n",
       "1963       85\n",
       "1968       77\n",
       "1969       59\n",
       "1964       40\n",
       "1962       30\n",
       "1961       21\n",
       "1965       19\n",
       "1966       17\n",
       "Name: construction_year, dtype: int64"
      ]
     },
     "execution_count": 63,
     "metadata": {},
     "output_type": "execute_result"
    }
   ],
   "source": [
    "df.construction_year.value_counts()"
   ]
  },
  {
   "cell_type": "code",
   "execution_count": 64,
   "id": "68f1b63b",
   "metadata": {},
   "outputs": [
    {
     "data": {
      "text/plain": [
       "(59029,)"
      ]
     },
     "execution_count": 64,
     "metadata": {},
     "output_type": "execute_result"
    }
   ],
   "source": [
    "df.construction_year.shape"
   ]
  },
  {
   "cell_type": "code",
   "execution_count": 65,
   "id": "44bfbbc1",
   "metadata": {},
   "outputs": [
    {
     "data": {
      "text/plain": [
       "0.34471192125904215"
      ]
     },
     "execution_count": 65,
     "metadata": {},
     "output_type": "execute_result"
    }
   ],
   "source": [
    "20348/59029"
   ]
  },
  {
   "cell_type": "code",
   "execution_count": 66,
   "id": "eb516994",
   "metadata": {},
   "outputs": [],
   "source": [
    "#Upon further exploration, we see 34% of our data is missing the year construction"
   ]
  },
  {
   "cell_type": "code",
   "execution_count": 67,
   "id": "1d4c4544",
   "metadata": {},
   "outputs": [
    {
     "data": {
      "text/plain": [
       "count    59029.000000\n",
       "mean      1308.488048\n",
       "std        949.095754\n",
       "min          0.000000\n",
       "25%          0.000000\n",
       "50%       1986.000000\n",
       "75%       2004.000000\n",
       "max       2013.000000\n",
       "Name: construction_year, dtype: float64"
      ]
     },
     "execution_count": 67,
     "metadata": {},
     "output_type": "execute_result"
    }
   ],
   "source": [
    "df.construction_year.describe()"
   ]
  },
  {
   "cell_type": "markdown",
   "id": "7011db14",
   "metadata": {},
   "source": [
    "We want to obtain our median year once removing all the 0s."
   ]
  },
  {
   "cell_type": "code",
   "execution_count": 68,
   "id": "09b35af9",
   "metadata": {},
   "outputs": [],
   "source": [
    "df_years = df.construction_year"
   ]
  },
  {
   "cell_type": "code",
   "execution_count": 69,
   "id": "e8e927f3",
   "metadata": {},
   "outputs": [
    {
     "data": {
      "text/plain": [
       "0        1999\n",
       "1        2010\n",
       "2        2009\n",
       "3        1986\n",
       "4           0\n",
       "         ... \n",
       "59395    1999\n",
       "59396    1996\n",
       "59397       0\n",
       "59398       0\n",
       "59399    2002\n",
       "Name: construction_year, Length: 59029, dtype: int64"
      ]
     },
     "execution_count": 69,
     "metadata": {},
     "output_type": "execute_result"
    }
   ],
   "source": [
    "df_years"
   ]
  },
  {
   "cell_type": "code",
   "execution_count": 70,
   "id": "c5110cda",
   "metadata": {},
   "outputs": [],
   "source": [
    "df_years = df_years[df_years != 0]"
   ]
  },
  {
   "cell_type": "code",
   "execution_count": 71,
   "id": "b884a4ae",
   "metadata": {},
   "outputs": [
    {
     "data": {
      "text/plain": [
       "0        1999\n",
       "1        2010\n",
       "2        2009\n",
       "3        1986\n",
       "5        2009\n",
       "         ... \n",
       "59391    1967\n",
       "59394    2007\n",
       "59395    1999\n",
       "59396    1996\n",
       "59399    2002\n",
       "Name: construction_year, Length: 38681, dtype: int64"
      ]
     },
     "execution_count": 71,
     "metadata": {},
     "output_type": "execute_result"
    }
   ],
   "source": [
    "df_years"
   ]
  },
  {
   "cell_type": "code",
   "execution_count": 72,
   "id": "03673879",
   "metadata": {},
   "outputs": [
    {
     "data": {
      "text/plain": [
       "count    38681.000000\n",
       "mean      1996.813448\n",
       "std         12.472149\n",
       "min       1960.000000\n",
       "25%       1987.000000\n",
       "50%       2000.000000\n",
       "75%       2008.000000\n",
       "max       2013.000000\n",
       "Name: construction_year, dtype: float64"
      ]
     },
     "execution_count": 72,
     "metadata": {},
     "output_type": "execute_result"
    }
   ],
   "source": [
    "df_years.describe()"
   ]
  },
  {
   "cell_type": "markdown",
   "id": "9636b546",
   "metadata": {},
   "source": [
    "Once we removed all of the 0s, we get a median of 2000. We replace our missing values with 2000 for construction year. While this replaces a huge amount of data, we believe age may have a significant impact on functionality of water pumps and do not want to competely remove this data."
   ]
  },
  {
   "cell_type": "code",
   "execution_count": 73,
   "id": "b672f4e3",
   "metadata": {},
   "outputs": [],
   "source": [
    "df.construction_year.replace(to_replace=0, value=2000, inplace=True)"
   ]
  },
  {
   "cell_type": "code",
   "execution_count": 74,
   "id": "cb5029c1",
   "metadata": {},
   "outputs": [
    {
     "data": {
      "text/plain": [
       "2000    22439\n",
       "2010     2644\n",
       "2008     2613\n",
       "2009     2533\n",
       "2007     1586\n",
       "2006     1471\n",
       "2003     1286\n",
       "2011     1254\n",
       "2004     1123\n",
       "2012     1084\n",
       "2002     1075\n",
       "1978     1037\n",
       "1995     1013\n",
       "2005     1009\n",
       "1999      978\n",
       "1998      966\n",
       "1990      954\n",
       "1985      945\n",
       "1996      811\n",
       "1980      811\n",
       "1984      779\n",
       "1982      744\n",
       "1994      738\n",
       "1972      707\n",
       "1974      676\n",
       "1997      644\n",
       "1992      640\n",
       "1993      608\n",
       "2001      539\n",
       "1988      521\n",
       "1983      488\n",
       "1975      437\n",
       "1986      434\n",
       "1976      414\n",
       "1970      411\n",
       "1991      324\n",
       "1989      316\n",
       "1987      302\n",
       "1981      238\n",
       "1977      202\n",
       "1979      192\n",
       "1973      184\n",
       "2013      176\n",
       "1971      145\n",
       "1960      102\n",
       "1967       88\n",
       "1963       85\n",
       "1968       77\n",
       "1969       59\n",
       "1964       40\n",
       "1962       30\n",
       "1961       21\n",
       "1965       19\n",
       "1966       17\n",
       "Name: construction_year, dtype: int64"
      ]
     },
     "execution_count": 74,
     "metadata": {},
     "output_type": "execute_result"
    }
   ],
   "source": [
    "df.construction_year.value_counts()"
   ]
  },
  {
   "cell_type": "code",
   "execution_count": 75,
   "id": "6a5506d2",
   "metadata": {},
   "outputs": [],
   "source": [
    "df['age'] = 2022 - df['construction_year']"
   ]
  },
  {
   "cell_type": "code",
   "execution_count": 76,
   "id": "dee1468d",
   "metadata": {},
   "outputs": [
    {
     "data": {
      "text/html": [
       "<div>\n",
       "<style scoped>\n",
       "    .dataframe tbody tr th:only-of-type {\n",
       "        vertical-align: middle;\n",
       "    }\n",
       "\n",
       "    .dataframe tbody tr th {\n",
       "        vertical-align: top;\n",
       "    }\n",
       "\n",
       "    .dataframe thead th {\n",
       "        text-align: right;\n",
       "    }\n",
       "</style>\n",
       "<table border=\"1\" class=\"dataframe\">\n",
       "  <thead>\n",
       "    <tr style=\"text-align: right;\">\n",
       "      <th></th>\n",
       "      <th>id</th>\n",
       "      <th>amount_tsh</th>\n",
       "      <th>date_recorded</th>\n",
       "      <th>funder</th>\n",
       "      <th>gps_height</th>\n",
       "      <th>installer</th>\n",
       "      <th>longitude</th>\n",
       "      <th>latitude</th>\n",
       "      <th>wpt_name</th>\n",
       "      <th>basin</th>\n",
       "      <th>...</th>\n",
       "      <th>management_group</th>\n",
       "      <th>payment</th>\n",
       "      <th>payment_type</th>\n",
       "      <th>water_quality</th>\n",
       "      <th>quality_group</th>\n",
       "      <th>quantity</th>\n",
       "      <th>source</th>\n",
       "      <th>waterpoint_type</th>\n",
       "      <th>status_group</th>\n",
       "      <th>age</th>\n",
       "    </tr>\n",
       "  </thead>\n",
       "  <tbody>\n",
       "    <tr>\n",
       "      <th>0</th>\n",
       "      <td>69572</td>\n",
       "      <td>6000.0</td>\n",
       "      <td>2011-03-14</td>\n",
       "      <td>Roman</td>\n",
       "      <td>1390</td>\n",
       "      <td>Roman</td>\n",
       "      <td>34.938093</td>\n",
       "      <td>-9.856322</td>\n",
       "      <td>none</td>\n",
       "      <td>Lake Nyasa</td>\n",
       "      <td>...</td>\n",
       "      <td>user-group</td>\n",
       "      <td>pay annually</td>\n",
       "      <td>annually</td>\n",
       "      <td>soft</td>\n",
       "      <td>good</td>\n",
       "      <td>enough</td>\n",
       "      <td>spring</td>\n",
       "      <td>communal standpipe</td>\n",
       "      <td>functional</td>\n",
       "      <td>23</td>\n",
       "    </tr>\n",
       "    <tr>\n",
       "      <th>1</th>\n",
       "      <td>8776</td>\n",
       "      <td>0.0</td>\n",
       "      <td>2013-03-06</td>\n",
       "      <td>Grumeti</td>\n",
       "      <td>1399</td>\n",
       "      <td>GRUMETI</td>\n",
       "      <td>34.698766</td>\n",
       "      <td>-2.147466</td>\n",
       "      <td>Zahanati</td>\n",
       "      <td>Lake Victoria</td>\n",
       "      <td>...</td>\n",
       "      <td>user-group</td>\n",
       "      <td>never pay</td>\n",
       "      <td>never pay</td>\n",
       "      <td>soft</td>\n",
       "      <td>good</td>\n",
       "      <td>insufficient</td>\n",
       "      <td>rainwater harvesting</td>\n",
       "      <td>communal standpipe</td>\n",
       "      <td>functional</td>\n",
       "      <td>12</td>\n",
       "    </tr>\n",
       "    <tr>\n",
       "      <th>2</th>\n",
       "      <td>34310</td>\n",
       "      <td>25.0</td>\n",
       "      <td>2013-02-25</td>\n",
       "      <td>Lottery Club</td>\n",
       "      <td>686</td>\n",
       "      <td>World vision</td>\n",
       "      <td>37.460664</td>\n",
       "      <td>-3.821329</td>\n",
       "      <td>Kwa Mahundi</td>\n",
       "      <td>Pangani</td>\n",
       "      <td>...</td>\n",
       "      <td>user-group</td>\n",
       "      <td>pay per bucket</td>\n",
       "      <td>per bucket</td>\n",
       "      <td>soft</td>\n",
       "      <td>good</td>\n",
       "      <td>enough</td>\n",
       "      <td>dam</td>\n",
       "      <td>communal standpipe multiple</td>\n",
       "      <td>functional</td>\n",
       "      <td>13</td>\n",
       "    </tr>\n",
       "    <tr>\n",
       "      <th>3</th>\n",
       "      <td>67743</td>\n",
       "      <td>0.0</td>\n",
       "      <td>2013-01-28</td>\n",
       "      <td>Unicef</td>\n",
       "      <td>263</td>\n",
       "      <td>UNICEF</td>\n",
       "      <td>38.486161</td>\n",
       "      <td>-11.155298</td>\n",
       "      <td>Zahanati Ya Nanyumbu</td>\n",
       "      <td>Ruvuma / Southern Coast</td>\n",
       "      <td>...</td>\n",
       "      <td>user-group</td>\n",
       "      <td>never pay</td>\n",
       "      <td>never pay</td>\n",
       "      <td>soft</td>\n",
       "      <td>good</td>\n",
       "      <td>dry</td>\n",
       "      <td>machine dbh</td>\n",
       "      <td>communal standpipe multiple</td>\n",
       "      <td>non functional</td>\n",
       "      <td>36</td>\n",
       "    </tr>\n",
       "    <tr>\n",
       "      <th>4</th>\n",
       "      <td>19728</td>\n",
       "      <td>0.0</td>\n",
       "      <td>2011-07-13</td>\n",
       "      <td>Action In A</td>\n",
       "      <td>0</td>\n",
       "      <td>Artisan</td>\n",
       "      <td>31.130847</td>\n",
       "      <td>-1.825359</td>\n",
       "      <td>Shuleni</td>\n",
       "      <td>Lake Victoria</td>\n",
       "      <td>...</td>\n",
       "      <td>other</td>\n",
       "      <td>never pay</td>\n",
       "      <td>never pay</td>\n",
       "      <td>soft</td>\n",
       "      <td>good</td>\n",
       "      <td>seasonal</td>\n",
       "      <td>rainwater harvesting</td>\n",
       "      <td>communal standpipe</td>\n",
       "      <td>functional</td>\n",
       "      <td>22</td>\n",
       "    </tr>\n",
       "  </tbody>\n",
       "</table>\n",
       "<p>5 rows × 35 columns</p>\n",
       "</div>"
      ],
      "text/plain": [
       "      id  amount_tsh date_recorded        funder  gps_height     installer  \\\n",
       "0  69572      6000.0    2011-03-14         Roman        1390         Roman   \n",
       "1   8776         0.0    2013-03-06       Grumeti        1399       GRUMETI   \n",
       "2  34310        25.0    2013-02-25  Lottery Club         686  World vision   \n",
       "3  67743         0.0    2013-01-28        Unicef         263        UNICEF   \n",
       "4  19728         0.0    2011-07-13   Action In A           0       Artisan   \n",
       "\n",
       "   longitude   latitude              wpt_name                    basin  ...  \\\n",
       "0  34.938093  -9.856322                  none               Lake Nyasa  ...   \n",
       "1  34.698766  -2.147466              Zahanati            Lake Victoria  ...   \n",
       "2  37.460664  -3.821329           Kwa Mahundi                  Pangani  ...   \n",
       "3  38.486161 -11.155298  Zahanati Ya Nanyumbu  Ruvuma / Southern Coast  ...   \n",
       "4  31.130847  -1.825359               Shuleni            Lake Victoria  ...   \n",
       "\n",
       "  management_group         payment  payment_type  water_quality quality_group  \\\n",
       "0       user-group    pay annually      annually           soft          good   \n",
       "1       user-group       never pay     never pay           soft          good   \n",
       "2       user-group  pay per bucket    per bucket           soft          good   \n",
       "3       user-group       never pay     never pay           soft          good   \n",
       "4            other       never pay     never pay           soft          good   \n",
       "\n",
       "       quantity                source              waterpoint_type  \\\n",
       "0        enough                spring           communal standpipe   \n",
       "1  insufficient  rainwater harvesting           communal standpipe   \n",
       "2        enough                   dam  communal standpipe multiple   \n",
       "3           dry           machine dbh  communal standpipe multiple   \n",
       "4      seasonal  rainwater harvesting           communal standpipe   \n",
       "\n",
       "     status_group  age  \n",
       "0      functional   23  \n",
       "1      functional   12  \n",
       "2      functional   13  \n",
       "3  non functional   36  \n",
       "4      functional   22  \n",
       "\n",
       "[5 rows x 35 columns]"
      ]
     },
     "execution_count": 76,
     "metadata": {},
     "output_type": "execute_result"
    }
   ],
   "source": [
    "df.head()"
   ]
  },
  {
   "cell_type": "code",
   "execution_count": 77,
   "id": "7dbadfef",
   "metadata": {},
   "outputs": [],
   "source": [
    "#will drop construction year as we have converted that column to age"
   ]
  },
  {
   "cell_type": "code",
   "execution_count": 78,
   "id": "f61f1e35",
   "metadata": {},
   "outputs": [],
   "source": [
    "df.drop(columns=['construction_year'], inplace=True)"
   ]
  },
  {
   "cell_type": "code",
   "execution_count": 79,
   "id": "e7db74f5",
   "metadata": {},
   "outputs": [
    {
     "data": {
      "text/html": [
       "<div>\n",
       "<style scoped>\n",
       "    .dataframe tbody tr th:only-of-type {\n",
       "        vertical-align: middle;\n",
       "    }\n",
       "\n",
       "    .dataframe tbody tr th {\n",
       "        vertical-align: top;\n",
       "    }\n",
       "\n",
       "    .dataframe thead th {\n",
       "        text-align: right;\n",
       "    }\n",
       "</style>\n",
       "<table border=\"1\" class=\"dataframe\">\n",
       "  <thead>\n",
       "    <tr style=\"text-align: right;\">\n",
       "      <th></th>\n",
       "      <th>id</th>\n",
       "      <th>amount_tsh</th>\n",
       "      <th>date_recorded</th>\n",
       "      <th>funder</th>\n",
       "      <th>gps_height</th>\n",
       "      <th>installer</th>\n",
       "      <th>longitude</th>\n",
       "      <th>latitude</th>\n",
       "      <th>wpt_name</th>\n",
       "      <th>basin</th>\n",
       "      <th>...</th>\n",
       "      <th>management_group</th>\n",
       "      <th>payment</th>\n",
       "      <th>payment_type</th>\n",
       "      <th>water_quality</th>\n",
       "      <th>quality_group</th>\n",
       "      <th>quantity</th>\n",
       "      <th>source</th>\n",
       "      <th>waterpoint_type</th>\n",
       "      <th>status_group</th>\n",
       "      <th>age</th>\n",
       "    </tr>\n",
       "  </thead>\n",
       "  <tbody>\n",
       "    <tr>\n",
       "      <th>0</th>\n",
       "      <td>69572</td>\n",
       "      <td>6000.0</td>\n",
       "      <td>2011-03-14</td>\n",
       "      <td>Roman</td>\n",
       "      <td>1390</td>\n",
       "      <td>Roman</td>\n",
       "      <td>34.938093</td>\n",
       "      <td>-9.856322</td>\n",
       "      <td>none</td>\n",
       "      <td>Lake Nyasa</td>\n",
       "      <td>...</td>\n",
       "      <td>user-group</td>\n",
       "      <td>pay annually</td>\n",
       "      <td>annually</td>\n",
       "      <td>soft</td>\n",
       "      <td>good</td>\n",
       "      <td>enough</td>\n",
       "      <td>spring</td>\n",
       "      <td>communal standpipe</td>\n",
       "      <td>functional</td>\n",
       "      <td>23</td>\n",
       "    </tr>\n",
       "    <tr>\n",
       "      <th>1</th>\n",
       "      <td>8776</td>\n",
       "      <td>0.0</td>\n",
       "      <td>2013-03-06</td>\n",
       "      <td>Grumeti</td>\n",
       "      <td>1399</td>\n",
       "      <td>GRUMETI</td>\n",
       "      <td>34.698766</td>\n",
       "      <td>-2.147466</td>\n",
       "      <td>Zahanati</td>\n",
       "      <td>Lake Victoria</td>\n",
       "      <td>...</td>\n",
       "      <td>user-group</td>\n",
       "      <td>never pay</td>\n",
       "      <td>never pay</td>\n",
       "      <td>soft</td>\n",
       "      <td>good</td>\n",
       "      <td>insufficient</td>\n",
       "      <td>rainwater harvesting</td>\n",
       "      <td>communal standpipe</td>\n",
       "      <td>functional</td>\n",
       "      <td>12</td>\n",
       "    </tr>\n",
       "    <tr>\n",
       "      <th>2</th>\n",
       "      <td>34310</td>\n",
       "      <td>25.0</td>\n",
       "      <td>2013-02-25</td>\n",
       "      <td>Lottery Club</td>\n",
       "      <td>686</td>\n",
       "      <td>World vision</td>\n",
       "      <td>37.460664</td>\n",
       "      <td>-3.821329</td>\n",
       "      <td>Kwa Mahundi</td>\n",
       "      <td>Pangani</td>\n",
       "      <td>...</td>\n",
       "      <td>user-group</td>\n",
       "      <td>pay per bucket</td>\n",
       "      <td>per bucket</td>\n",
       "      <td>soft</td>\n",
       "      <td>good</td>\n",
       "      <td>enough</td>\n",
       "      <td>dam</td>\n",
       "      <td>communal standpipe multiple</td>\n",
       "      <td>functional</td>\n",
       "      <td>13</td>\n",
       "    </tr>\n",
       "    <tr>\n",
       "      <th>3</th>\n",
       "      <td>67743</td>\n",
       "      <td>0.0</td>\n",
       "      <td>2013-01-28</td>\n",
       "      <td>Unicef</td>\n",
       "      <td>263</td>\n",
       "      <td>UNICEF</td>\n",
       "      <td>38.486161</td>\n",
       "      <td>-11.155298</td>\n",
       "      <td>Zahanati Ya Nanyumbu</td>\n",
       "      <td>Ruvuma / Southern Coast</td>\n",
       "      <td>...</td>\n",
       "      <td>user-group</td>\n",
       "      <td>never pay</td>\n",
       "      <td>never pay</td>\n",
       "      <td>soft</td>\n",
       "      <td>good</td>\n",
       "      <td>dry</td>\n",
       "      <td>machine dbh</td>\n",
       "      <td>communal standpipe multiple</td>\n",
       "      <td>non functional</td>\n",
       "      <td>36</td>\n",
       "    </tr>\n",
       "    <tr>\n",
       "      <th>4</th>\n",
       "      <td>19728</td>\n",
       "      <td>0.0</td>\n",
       "      <td>2011-07-13</td>\n",
       "      <td>Action In A</td>\n",
       "      <td>0</td>\n",
       "      <td>Artisan</td>\n",
       "      <td>31.130847</td>\n",
       "      <td>-1.825359</td>\n",
       "      <td>Shuleni</td>\n",
       "      <td>Lake Victoria</td>\n",
       "      <td>...</td>\n",
       "      <td>other</td>\n",
       "      <td>never pay</td>\n",
       "      <td>never pay</td>\n",
       "      <td>soft</td>\n",
       "      <td>good</td>\n",
       "      <td>seasonal</td>\n",
       "      <td>rainwater harvesting</td>\n",
       "      <td>communal standpipe</td>\n",
       "      <td>functional</td>\n",
       "      <td>22</td>\n",
       "    </tr>\n",
       "  </tbody>\n",
       "</table>\n",
       "<p>5 rows × 34 columns</p>\n",
       "</div>"
      ],
      "text/plain": [
       "      id  amount_tsh date_recorded        funder  gps_height     installer  \\\n",
       "0  69572      6000.0    2011-03-14         Roman        1390         Roman   \n",
       "1   8776         0.0    2013-03-06       Grumeti        1399       GRUMETI   \n",
       "2  34310        25.0    2013-02-25  Lottery Club         686  World vision   \n",
       "3  67743         0.0    2013-01-28        Unicef         263        UNICEF   \n",
       "4  19728         0.0    2011-07-13   Action In A           0       Artisan   \n",
       "\n",
       "   longitude   latitude              wpt_name                    basin  ...  \\\n",
       "0  34.938093  -9.856322                  none               Lake Nyasa  ...   \n",
       "1  34.698766  -2.147466              Zahanati            Lake Victoria  ...   \n",
       "2  37.460664  -3.821329           Kwa Mahundi                  Pangani  ...   \n",
       "3  38.486161 -11.155298  Zahanati Ya Nanyumbu  Ruvuma / Southern Coast  ...   \n",
       "4  31.130847  -1.825359               Shuleni            Lake Victoria  ...   \n",
       "\n",
       "  management_group         payment  payment_type  water_quality quality_group  \\\n",
       "0       user-group    pay annually      annually           soft          good   \n",
       "1       user-group       never pay     never pay           soft          good   \n",
       "2       user-group  pay per bucket    per bucket           soft          good   \n",
       "3       user-group       never pay     never pay           soft          good   \n",
       "4            other       never pay     never pay           soft          good   \n",
       "\n",
       "       quantity                source              waterpoint_type  \\\n",
       "0        enough                spring           communal standpipe   \n",
       "1  insufficient  rainwater harvesting           communal standpipe   \n",
       "2        enough                   dam  communal standpipe multiple   \n",
       "3           dry           machine dbh  communal standpipe multiple   \n",
       "4      seasonal  rainwater harvesting           communal standpipe   \n",
       "\n",
       "     status_group  age  \n",
       "0      functional   23  \n",
       "1      functional   12  \n",
       "2      functional   13  \n",
       "3  non functional   36  \n",
       "4      functional   22  \n",
       "\n",
       "[5 rows x 34 columns]"
      ]
     },
     "execution_count": 79,
     "metadata": {},
     "output_type": "execute_result"
    }
   ],
   "source": [
    "df.head()"
   ]
  },
  {
   "cell_type": "code",
   "execution_count": 80,
   "id": "34f990d5",
   "metadata": {},
   "outputs": [
    {
     "name": "stdout",
     "output_type": "stream",
     "text": [
      "<class 'pandas.core.frame.DataFrame'>\n",
      "Int64Index: 59029 entries, 0 to 59399\n",
      "Data columns (total 34 columns):\n",
      " #   Column                 Non-Null Count  Dtype  \n",
      "---  ------                 --------------  -----  \n",
      " 0   id                     59029 non-null  int64  \n",
      " 1   amount_tsh             59029 non-null  float64\n",
      " 2   date_recorded          59029 non-null  object \n",
      " 3   funder                 59029 non-null  object \n",
      " 4   gps_height             59029 non-null  int64  \n",
      " 5   installer              59029 non-null  object \n",
      " 6   longitude              59029 non-null  float64\n",
      " 7   latitude               59029 non-null  float64\n",
      " 8   wpt_name               59029 non-null  object \n",
      " 9   basin                  59029 non-null  object \n",
      " 10  subvillage             59029 non-null  object \n",
      " 11  region                 59029 non-null  object \n",
      " 12  region_code            59029 non-null  int64  \n",
      " 13  district_code          59029 non-null  int64  \n",
      " 14  lga                    59029 non-null  object \n",
      " 15  ward                   59029 non-null  object \n",
      " 16  population             59029 non-null  int64  \n",
      " 17  public_meeting         59029 non-null  object \n",
      " 18  scheme_management      59029 non-null  object \n",
      " 19  permit                 59029 non-null  bool   \n",
      " 20  extraction_type        59029 non-null  object \n",
      " 21  extraction_type_group  59029 non-null  object \n",
      " 22  extraction_type_class  59029 non-null  object \n",
      " 23  management             59029 non-null  object \n",
      " 24  management_group       59029 non-null  object \n",
      " 25  payment                59029 non-null  object \n",
      " 26  payment_type           59029 non-null  object \n",
      " 27  water_quality          59029 non-null  object \n",
      " 28  quality_group          59029 non-null  object \n",
      " 29  quantity               59029 non-null  object \n",
      " 30  source                 59029 non-null  object \n",
      " 31  waterpoint_type        59029 non-null  object \n",
      " 32  status_group           59029 non-null  object \n",
      " 33  age                    59029 non-null  int64  \n",
      "dtypes: bool(1), float64(3), int64(6), object(24)\n",
      "memory usage: 15.4+ MB\n"
     ]
    }
   ],
   "source": [
    "df.info()"
   ]
  },
  {
   "cell_type": "markdown",
   "id": "5dd8eb03",
   "metadata": {},
   "source": [
    "We decide to drop ID column as it contains no pertinent info regardng the condition of the well and is simply an identifier."
   ]
  },
  {
   "cell_type": "code",
   "execution_count": 81,
   "id": "f47a34ca",
   "metadata": {},
   "outputs": [],
   "source": [
    "df.drop(columns=['id'], inplace=True)"
   ]
  },
  {
   "cell_type": "code",
   "execution_count": 82,
   "id": "0fb2225a",
   "metadata": {},
   "outputs": [
    {
     "data": {
      "text/plain": [
       "2011-03-17    558\n",
       "2013-02-03    546\n",
       "2011-03-15    546\n",
       "2011-03-14    504\n",
       "2011-03-16    491\n",
       "             ... \n",
       "2011-09-13      1\n",
       "2011-09-27      1\n",
       "2011-09-19      1\n",
       "2011-08-30      1\n",
       "2011-09-26      1\n",
       "Name: date_recorded, Length: 356, dtype: int64"
      ]
     },
     "execution_count": 82,
     "metadata": {},
     "output_type": "execute_result"
    }
   ],
   "source": [
    "df.date_recorded.value_counts()"
   ]
  },
  {
   "cell_type": "markdown",
   "id": "1c8ed1aa",
   "metadata": {},
   "source": [
    "We decide to drop date_recorded as it also captures no important info for our analysis."
   ]
  },
  {
   "cell_type": "code",
   "execution_count": 83,
   "id": "7456eb33",
   "metadata": {},
   "outputs": [],
   "source": [
    "df.drop(columns=['date_recorded'], inplace=True)"
   ]
  },
  {
   "cell_type": "code",
   "execution_count": 84,
   "id": "41dfa103",
   "metadata": {},
   "outputs": [
    {
     "name": "stdout",
     "output_type": "stream",
     "text": [
      "<class 'pandas.core.frame.DataFrame'>\n",
      "Int64Index: 59029 entries, 0 to 59399\n",
      "Data columns (total 32 columns):\n",
      " #   Column                 Non-Null Count  Dtype  \n",
      "---  ------                 --------------  -----  \n",
      " 0   amount_tsh             59029 non-null  float64\n",
      " 1   funder                 59029 non-null  object \n",
      " 2   gps_height             59029 non-null  int64  \n",
      " 3   installer              59029 non-null  object \n",
      " 4   longitude              59029 non-null  float64\n",
      " 5   latitude               59029 non-null  float64\n",
      " 6   wpt_name               59029 non-null  object \n",
      " 7   basin                  59029 non-null  object \n",
      " 8   subvillage             59029 non-null  object \n",
      " 9   region                 59029 non-null  object \n",
      " 10  region_code            59029 non-null  int64  \n",
      " 11  district_code          59029 non-null  int64  \n",
      " 12  lga                    59029 non-null  object \n",
      " 13  ward                   59029 non-null  object \n",
      " 14  population             59029 non-null  int64  \n",
      " 15  public_meeting         59029 non-null  object \n",
      " 16  scheme_management      59029 non-null  object \n",
      " 17  permit                 59029 non-null  bool   \n",
      " 18  extraction_type        59029 non-null  object \n",
      " 19  extraction_type_group  59029 non-null  object \n",
      " 20  extraction_type_class  59029 non-null  object \n",
      " 21  management             59029 non-null  object \n",
      " 22  management_group       59029 non-null  object \n",
      " 23  payment                59029 non-null  object \n",
      " 24  payment_type           59029 non-null  object \n",
      " 25  water_quality          59029 non-null  object \n",
      " 26  quality_group          59029 non-null  object \n",
      " 27  quantity               59029 non-null  object \n",
      " 28  source                 59029 non-null  object \n",
      " 29  waterpoint_type        59029 non-null  object \n",
      " 30  status_group           59029 non-null  object \n",
      " 31  age                    59029 non-null  int64  \n",
      "dtypes: bool(1), float64(3), int64(5), object(23)\n",
      "memory usage: 14.5+ MB\n"
     ]
    }
   ],
   "source": [
    "df.info()"
   ]
  },
  {
   "cell_type": "markdown",
   "id": "bbe61a7f",
   "metadata": {},
   "source": [
    "Due to having many different variables regarding location, we want to narrow down our data and pick which variables will work best with our model."
   ]
  },
  {
   "cell_type": "code",
   "execution_count": 85,
   "id": "63921145",
   "metadata": {},
   "outputs": [
    {
     "data": {
      "text/plain": [
       " 0       20077\n",
       "-15         60\n",
       "-16         55\n",
       "-13         55\n",
       "-20         52\n",
       "         ...  \n",
       " 2285        1\n",
       " 2424        1\n",
       " 2552        1\n",
       " 2413        1\n",
       " 2385        1\n",
       "Name: gps_height, Length: 2428, dtype: int64"
      ]
     },
     "execution_count": 85,
     "metadata": {},
     "output_type": "execute_result"
    }
   ],
   "source": [
    "df.gps_height.value_counts()"
   ]
  },
  {
   "cell_type": "code",
   "execution_count": 86,
   "id": "a96087db",
   "metadata": {},
   "outputs": [
    {
     "data": {
      "text/plain": [
       "0.000000     1812\n",
       "32.919861       2\n",
       "39.090880       2\n",
       "39.101244       2\n",
       "39.095087       2\n",
       "             ... \n",
       "37.371204       1\n",
       "35.455622       1\n",
       "34.628176       1\n",
       "31.530352       1\n",
       "32.971425       1\n",
       "Name: longitude, Length: 57145, dtype: int64"
      ]
     },
     "execution_count": 86,
     "metadata": {},
     "output_type": "execute_result"
    }
   ],
   "source": [
    "df.longitude.value_counts()"
   ]
  },
  {
   "cell_type": "code",
   "execution_count": 87,
   "id": "1155ce79",
   "metadata": {},
   "outputs": [
    {
     "data": {
      "text/plain": [
       "-2.000000e-08    1812\n",
       "-2.476680e+00       2\n",
       "-2.480043e+00       2\n",
       "-6.962475e+00       2\n",
       "-2.494546e+00       2\n",
       "                 ... \n",
       "-5.435762e+00       1\n",
       "-4.476671e+00       1\n",
       "-5.726001e+00       1\n",
       "-9.646831e+00       1\n",
       "-2.598965e+00       1\n",
       "Name: latitude, Length: 57146, dtype: int64"
      ]
     },
     "execution_count": 87,
     "metadata": {},
     "output_type": "execute_result"
    }
   ],
   "source": [
    "df.latitude.value_counts()"
   ]
  },
  {
   "cell_type": "code",
   "execution_count": 88,
   "id": "a4351cf8",
   "metadata": {},
   "outputs": [
    {
     "data": {
      "text/plain": [
       "none                    3559\n",
       "Shuleni                 1714\n",
       "Zahanati                 811\n",
       "Msikitini                533\n",
       "Kanisani                 313\n",
       "                        ... \n",
       "Hamis Uweso                1\n",
       "Kwa Mwanaeke               1\n",
       "Kwa Mzee Fokanya           1\n",
       "Kwa Patric Tanganyik       1\n",
       "Olovolusi                  1\n",
       "Name: wpt_name, Length: 37231, dtype: int64"
      ]
     },
     "execution_count": 88,
     "metadata": {},
     "output_type": "execute_result"
    }
   ],
   "source": [
    "df.wpt_name.value_counts()"
   ]
  },
  {
   "cell_type": "code",
   "execution_count": 89,
   "id": "3e545aff",
   "metadata": {},
   "outputs": [],
   "source": [
    "#we see large lenghts/number of variables for these columns, would not be feasible to OHE"
   ]
  },
  {
   "cell_type": "code",
   "execution_count": 90,
   "id": "fbff995c",
   "metadata": {},
   "outputs": [
    {
     "data": {
      "text/plain": [
       "Iringa           5294\n",
       "Shinyanga        4982\n",
       "Mbeya            4639\n",
       "Kilimanjaro      4379\n",
       "Morogoro         4006\n",
       "Arusha           3350\n",
       "Kagera           3316\n",
       "Mwanza           3092\n",
       "Kigoma           2816\n",
       "Ruvuma           2640\n",
       "Pwani            2635\n",
       "Tanga            2547\n",
       "Singida          2093\n",
       "Mara             1969\n",
       "Tabora           1959\n",
       "Dodoma           1840\n",
       "Rukwa            1808\n",
       "Mtwara           1730\n",
       "Manyara          1583\n",
       "Lindi            1546\n",
       "Dar es Salaam     805\n",
       "Name: region, dtype: int64"
      ]
     },
     "execution_count": 90,
     "metadata": {},
     "output_type": "execute_result"
    }
   ],
   "source": [
    "df.region.value_counts()"
   ]
  },
  {
   "cell_type": "code",
   "execution_count": 91,
   "id": "c77d0213",
   "metadata": {},
   "outputs": [
    {
     "data": {
      "text/plain": [
       "11    5300\n",
       "17    5011\n",
       "12    4639\n",
       "3     4379\n",
       "5     4040\n",
       "18    3324\n",
       "19    3037\n",
       "2     3024\n",
       "16    2816\n",
       "10    2640\n",
       "4     2513\n",
       "13    2093\n",
       "14    1979\n",
       "20    1969\n",
       "1     1840\n",
       "15    1808\n",
       "6     1609\n",
       "21    1583\n",
       "80    1238\n",
       "60    1025\n",
       "90     917\n",
       "7      805\n",
       "99     423\n",
       "9      390\n",
       "24     326\n",
       "8      300\n",
       "40       1\n",
       "Name: region_code, dtype: int64"
      ]
     },
     "execution_count": 91,
     "metadata": {},
     "output_type": "execute_result"
    }
   ],
   "source": [
    "df.region_code.value_counts()"
   ]
  },
  {
   "cell_type": "markdown",
   "id": "a7aa9a80",
   "metadata": {},
   "source": [
    "Since region_code 40 has only 1 value, we will drop that row since it will not be able to split for our train_test_split."
   ]
  },
  {
   "cell_type": "code",
   "execution_count": 92,
   "id": "3838f1d1",
   "metadata": {},
   "outputs": [],
   "source": [
    "df = df[df.region_code != 40]"
   ]
  },
  {
   "cell_type": "code",
   "execution_count": 93,
   "id": "bac5b7b2",
   "metadata": {},
   "outputs": [
    {
     "data": {
      "text/plain": [
       "11    5300\n",
       "17    5011\n",
       "12    4639\n",
       "3     4379\n",
       "5     4040\n",
       "18    3324\n",
       "19    3037\n",
       "2     3024\n",
       "16    2816\n",
       "10    2640\n",
       "4     2513\n",
       "13    2093\n",
       "14    1979\n",
       "20    1969\n",
       "1     1840\n",
       "15    1808\n",
       "6     1609\n",
       "21    1583\n",
       "80    1238\n",
       "60    1025\n",
       "90     917\n",
       "7      805\n",
       "99     423\n",
       "9      390\n",
       "24     326\n",
       "8      300\n",
       "Name: region_code, dtype: int64"
      ]
     },
     "execution_count": 93,
     "metadata": {},
     "output_type": "execute_result"
    }
   ],
   "source": [
    "df.region_code.value_counts()"
   ]
  },
  {
   "cell_type": "code",
   "execution_count": 94,
   "id": "daff74b4",
   "metadata": {},
   "outputs": [
    {
     "data": {
      "text/plain": [
       "1     12193\n",
       "2     11173\n",
       "3      9637\n",
       "4      8999\n",
       "5      4356\n",
       "6      4074\n",
       "7      3343\n",
       "8      1043\n",
       "30      995\n",
       "33      874\n",
       "53      745\n",
       "43      504\n",
       "13      391\n",
       "23      293\n",
       "63      195\n",
       "62      109\n",
       "60       63\n",
       "0        23\n",
       "80       12\n",
       "67        6\n",
       "Name: district_code, dtype: int64"
      ]
     },
     "execution_count": 94,
     "metadata": {},
     "output_type": "execute_result"
    }
   ],
   "source": [
    "df.district_code.value_counts()"
   ]
  },
  {
   "cell_type": "code",
   "execution_count": 95,
   "id": "b99e51e5",
   "metadata": {},
   "outputs": [
    {
     "data": {
      "text/plain": [
       "Njombe          2503\n",
       "Arusha Rural    1252\n",
       "Moshi Rural     1251\n",
       "Bariadi         1177\n",
       "Rungwe          1106\n",
       "                ... \n",
       "Moshi Urban       79\n",
       "Kigoma Urban      71\n",
       "Arusha Urban      63\n",
       "Lindi Urban       21\n",
       "Nyamagana          1\n",
       "Name: lga, Length: 124, dtype: int64"
      ]
     },
     "execution_count": 95,
     "metadata": {},
     "output_type": "execute_result"
    }
   ],
   "source": [
    "df.lga.value_counts()"
   ]
  },
  {
   "cell_type": "code",
   "execution_count": 96,
   "id": "27864f9c",
   "metadata": {},
   "outputs": [
    {
     "data": {
      "text/plain": [
       "Igosi        307\n",
       "Imalinyi     252\n",
       "Siha Kati    232\n",
       "Mdandu       231\n",
       "Nduruma      217\n",
       "            ... \n",
       "Matarawe       1\n",
       "Chinugulu      1\n",
       "Sungwisi       1\n",
       "Mitole         1\n",
       "Nsemulwa       1\n",
       "Name: ward, Length: 2080, dtype: int64"
      ]
     },
     "execution_count": 96,
     "metadata": {},
     "output_type": "execute_result"
    }
   ],
   "source": [
    "df.ward.value_counts()"
   ]
  },
  {
   "cell_type": "markdown",
   "id": "bddadef6",
   "metadata": {},
   "source": [
    "We see region and region code capture the same information. We drop region since region_code is already numeric for interpretable purposes. We also drop longitude, latitude, ward, and lag. We hope to capture geographic info with region and district and the other columns have too many values to One Hot Encode."
   ]
  },
  {
   "cell_type": "code",
   "execution_count": 97,
   "id": "90b75338",
   "metadata": {},
   "outputs": [],
   "source": [
    "df.drop(columns=['region', 'longitude', 'latitude', 'ward', 'lga'], inplace=True)"
   ]
  },
  {
   "cell_type": "code",
   "execution_count": 98,
   "id": "27a51213",
   "metadata": {},
   "outputs": [
    {
     "name": "stdout",
     "output_type": "stream",
     "text": [
      "<class 'pandas.core.frame.DataFrame'>\n",
      "Int64Index: 59028 entries, 0 to 59399\n",
      "Data columns (total 27 columns):\n",
      " #   Column                 Non-Null Count  Dtype  \n",
      "---  ------                 --------------  -----  \n",
      " 0   amount_tsh             59028 non-null  float64\n",
      " 1   funder                 59028 non-null  object \n",
      " 2   gps_height             59028 non-null  int64  \n",
      " 3   installer              59028 non-null  object \n",
      " 4   wpt_name               59028 non-null  object \n",
      " 5   basin                  59028 non-null  object \n",
      " 6   subvillage             59028 non-null  object \n",
      " 7   region_code            59028 non-null  int64  \n",
      " 8   district_code          59028 non-null  int64  \n",
      " 9   population             59028 non-null  int64  \n",
      " 10  public_meeting         59028 non-null  object \n",
      " 11  scheme_management      59028 non-null  object \n",
      " 12  permit                 59028 non-null  bool   \n",
      " 13  extraction_type        59028 non-null  object \n",
      " 14  extraction_type_group  59028 non-null  object \n",
      " 15  extraction_type_class  59028 non-null  object \n",
      " 16  management             59028 non-null  object \n",
      " 17  management_group       59028 non-null  object \n",
      " 18  payment                59028 non-null  object \n",
      " 19  payment_type           59028 non-null  object \n",
      " 20  water_quality          59028 non-null  object \n",
      " 21  quality_group          59028 non-null  object \n",
      " 22  quantity               59028 non-null  object \n",
      " 23  source                 59028 non-null  object \n",
      " 24  waterpoint_type        59028 non-null  object \n",
      " 25  status_group           59028 non-null  object \n",
      " 26  age                    59028 non-null  int64  \n",
      "dtypes: bool(1), float64(1), int64(5), object(20)\n",
      "memory usage: 12.2+ MB\n"
     ]
    }
   ],
   "source": [
    "df.info()"
   ]
  },
  {
   "cell_type": "code",
   "execution_count": 99,
   "id": "ca24985c",
   "metadata": {},
   "outputs": [],
   "source": [
    "#Looking into differences between payment and payment_type"
   ]
  },
  {
   "cell_type": "code",
   "execution_count": 100,
   "id": "b59ba6b2",
   "metadata": {
    "scrolled": true
   },
   "outputs": [
    {
     "data": {
      "text/plain": [
       "never pay                25245\n",
       "pay per bucket            8767\n",
       "pay monthly               8300\n",
       "unknown                   8157\n",
       "pay when scheme fails     3914\n",
       "pay annually              3591\n",
       "other                     1054\n",
       "Name: payment, dtype: int64"
      ]
     },
     "execution_count": 100,
     "metadata": {},
     "output_type": "execute_result"
    }
   ],
   "source": [
    "df.payment.value_counts()"
   ]
  },
  {
   "cell_type": "code",
   "execution_count": 101,
   "id": "117e555c",
   "metadata": {},
   "outputs": [
    {
     "data": {
      "text/plain": [
       "never pay     25245\n",
       "per bucket     8767\n",
       "monthly        8300\n",
       "unknown        8157\n",
       "on failure     3914\n",
       "annually       3591\n",
       "other          1054\n",
       "Name: payment_type, dtype: int64"
      ]
     },
     "execution_count": 101,
     "metadata": {},
     "output_type": "execute_result"
    }
   ],
   "source": [
    "df.payment_type.value_counts()"
   ]
  },
  {
   "cell_type": "code",
   "execution_count": 102,
   "id": "363f56e4",
   "metadata": {},
   "outputs": [],
   "source": [
    "#capture exact same info, will drop payment_type"
   ]
  },
  {
   "cell_type": "code",
   "execution_count": 103,
   "id": "8ed0afb0",
   "metadata": {},
   "outputs": [],
   "source": [
    "df.drop(columns=['payment_type'], inplace=True)"
   ]
  },
  {
   "cell_type": "code",
   "execution_count": 104,
   "id": "204a7d5e",
   "metadata": {},
   "outputs": [
    {
     "data": {
      "text/plain": [
       "Madukani     508\n",
       "Shuleni      506\n",
       "Majengo      502\n",
       "Kati         373\n",
       "Mtakuja      262\n",
       "            ... \n",
       "Riroda         1\n",
       "Lulunga        1\n",
       "Geniver        1\n",
       "Mwabalobi      1\n",
       "Mkazaga        1\n",
       "Name: subvillage, Length: 19287, dtype: int64"
      ]
     },
     "execution_count": 104,
     "metadata": {},
     "output_type": "execute_result"
    }
   ],
   "source": [
    "df.subvillage.value_counts()"
   ]
  },
  {
   "cell_type": "code",
   "execution_count": 105,
   "id": "24c8c896",
   "metadata": {},
   "outputs": [],
   "source": [
    "#will also drop subvillage, capturing locations in other variables"
   ]
  },
  {
   "cell_type": "code",
   "execution_count": 106,
   "id": "391c3f37",
   "metadata": {},
   "outputs": [],
   "source": [
    "df.drop(columns=['subvillage'], inplace=True)"
   ]
  },
  {
   "cell_type": "code",
   "execution_count": 107,
   "id": "c9cd98b4",
   "metadata": {},
   "outputs": [
    {
     "name": "stdout",
     "output_type": "stream",
     "text": [
      "<class 'pandas.core.frame.DataFrame'>\n",
      "Int64Index: 59028 entries, 0 to 59399\n",
      "Data columns (total 25 columns):\n",
      " #   Column                 Non-Null Count  Dtype  \n",
      "---  ------                 --------------  -----  \n",
      " 0   amount_tsh             59028 non-null  float64\n",
      " 1   funder                 59028 non-null  object \n",
      " 2   gps_height             59028 non-null  int64  \n",
      " 3   installer              59028 non-null  object \n",
      " 4   wpt_name               59028 non-null  object \n",
      " 5   basin                  59028 non-null  object \n",
      " 6   region_code            59028 non-null  int64  \n",
      " 7   district_code          59028 non-null  int64  \n",
      " 8   population             59028 non-null  int64  \n",
      " 9   public_meeting         59028 non-null  object \n",
      " 10  scheme_management      59028 non-null  object \n",
      " 11  permit                 59028 non-null  bool   \n",
      " 12  extraction_type        59028 non-null  object \n",
      " 13  extraction_type_group  59028 non-null  object \n",
      " 14  extraction_type_class  59028 non-null  object \n",
      " 15  management             59028 non-null  object \n",
      " 16  management_group       59028 non-null  object \n",
      " 17  payment                59028 non-null  object \n",
      " 18  water_quality          59028 non-null  object \n",
      " 19  quality_group          59028 non-null  object \n",
      " 20  quantity               59028 non-null  object \n",
      " 21  source                 59028 non-null  object \n",
      " 22  waterpoint_type        59028 non-null  object \n",
      " 23  status_group           59028 non-null  object \n",
      " 24  age                    59028 non-null  int64  \n",
      "dtypes: bool(1), float64(1), int64(5), object(18)\n",
      "memory usage: 11.3+ MB\n"
     ]
    }
   ],
   "source": [
    "df.info()"
   ]
  },
  {
   "cell_type": "code",
   "execution_count": 108,
   "id": "7b2d738e",
   "metadata": {},
   "outputs": [
    {
     "data": {
      "text/plain": [
       "0       21020\n",
       "1        7024\n",
       "200      1940\n",
       "150      1892\n",
       "250      1681\n",
       "        ...  \n",
       "3241        1\n",
       "1960        1\n",
       "1685        1\n",
       "2248        1\n",
       "1439        1\n",
       "Name: population, Length: 1049, dtype: int64"
      ]
     },
     "execution_count": 108,
     "metadata": {},
     "output_type": "execute_result"
    }
   ],
   "source": [
    "df.population.value_counts()"
   ]
  },
  {
   "cell_type": "code",
   "execution_count": 109,
   "id": "2b535ec5",
   "metadata": {},
   "outputs": [
    {
     "data": {
      "text/plain": [
       "(59028, 25)"
      ]
     },
     "execution_count": 109,
     "metadata": {},
     "output_type": "execute_result"
    }
   ],
   "source": [
    "df.shape"
   ]
  },
  {
   "cell_type": "code",
   "execution_count": 110,
   "id": "c1b9467c",
   "metadata": {},
   "outputs": [
    {
     "data": {
      "text/plain": [
       "0.35609615612664963"
      ]
     },
     "execution_count": 110,
     "metadata": {},
     "output_type": "execute_result"
    }
   ],
   "source": [
    "(21020)/59029"
   ]
  },
  {
   "cell_type": "code",
   "execution_count": 111,
   "id": "b46508e1",
   "metadata": {},
   "outputs": [
    {
     "data": {
      "text/plain": [
       "0.4750885158142608"
      ]
     },
     "execution_count": 111,
     "metadata": {},
     "output_type": "execute_result"
    }
   ],
   "source": [
    "(21020+7024)/59029"
   ]
  },
  {
   "cell_type": "code",
   "execution_count": 112,
   "id": "247cfce0",
   "metadata": {},
   "outputs": [
    {
     "data": {
      "text/plain": [
       "count    59028.000000\n",
       "mean       180.943146\n",
       "std        472.713650\n",
       "min          0.000000\n",
       "25%          0.000000\n",
       "50%         30.000000\n",
       "75%        220.000000\n",
       "max      30500.000000\n",
       "Name: population, dtype: float64"
      ]
     },
     "execution_count": 112,
     "metadata": {},
     "output_type": "execute_result"
    }
   ],
   "source": [
    "df.population.describe()"
   ]
  },
  {
   "cell_type": "markdown",
   "id": "c111f5c5",
   "metadata": {},
   "source": [
    "Looking deeper into the population column, we see a large proportion of 0s and 1s; we assume these values are missing information and drop the column to large proportion of missing info."
   ]
  },
  {
   "cell_type": "code",
   "execution_count": 113,
   "id": "9f025109",
   "metadata": {},
   "outputs": [],
   "source": [
    "df.drop(columns=['population'], inplace=True)"
   ]
  },
  {
   "cell_type": "code",
   "execution_count": 114,
   "id": "74413e28",
   "metadata": {},
   "outputs": [
    {
     "name": "stdout",
     "output_type": "stream",
     "text": [
      "<class 'pandas.core.frame.DataFrame'>\n",
      "Int64Index: 59028 entries, 0 to 59399\n",
      "Data columns (total 24 columns):\n",
      " #   Column                 Non-Null Count  Dtype  \n",
      "---  ------                 --------------  -----  \n",
      " 0   amount_tsh             59028 non-null  float64\n",
      " 1   funder                 59028 non-null  object \n",
      " 2   gps_height             59028 non-null  int64  \n",
      " 3   installer              59028 non-null  object \n",
      " 4   wpt_name               59028 non-null  object \n",
      " 5   basin                  59028 non-null  object \n",
      " 6   region_code            59028 non-null  int64  \n",
      " 7   district_code          59028 non-null  int64  \n",
      " 8   public_meeting         59028 non-null  object \n",
      " 9   scheme_management      59028 non-null  object \n",
      " 10  permit                 59028 non-null  bool   \n",
      " 11  extraction_type        59028 non-null  object \n",
      " 12  extraction_type_group  59028 non-null  object \n",
      " 13  extraction_type_class  59028 non-null  object \n",
      " 14  management             59028 non-null  object \n",
      " 15  management_group       59028 non-null  object \n",
      " 16  payment                59028 non-null  object \n",
      " 17  water_quality          59028 non-null  object \n",
      " 18  quality_group          59028 non-null  object \n",
      " 19  quantity               59028 non-null  object \n",
      " 20  source                 59028 non-null  object \n",
      " 21  waterpoint_type        59028 non-null  object \n",
      " 22  status_group           59028 non-null  object \n",
      " 23  age                    59028 non-null  int64  \n",
      "dtypes: bool(1), float64(1), int64(4), object(18)\n",
      "memory usage: 10.9+ MB\n"
     ]
    }
   ],
   "source": [
    "df.info()"
   ]
  },
  {
   "cell_type": "code",
   "execution_count": 115,
   "id": "118df898",
   "metadata": {},
   "outputs": [],
   "source": [
    "#Checking for unknown values"
   ]
  },
  {
   "cell_type": "code",
   "execution_count": 116,
   "id": "3962e74a",
   "metadata": {
    "scrolled": true
   },
   "outputs": [
    {
     "data": {
      "text/plain": [
       "Lake Victoria              10238\n",
       "Pangani                     8940\n",
       "Rufiji                      7976\n",
       "Internal                    7785\n",
       "Lake Tanganyika             6432\n",
       "Wami / Ruvu                 5625\n",
       "Lake Nyasa                  5085\n",
       "Ruvuma / Southern Coast     4493\n",
       "Lake Rukwa                  2454\n",
       "Name: basin, dtype: int64"
      ]
     },
     "execution_count": 116,
     "metadata": {},
     "output_type": "execute_result"
    }
   ],
   "source": [
    "df.basin.value_counts()"
   ]
  },
  {
   "cell_type": "code",
   "execution_count": 117,
   "id": "6b8946d9",
   "metadata": {},
   "outputs": [],
   "source": [
    "#Looking into differences between extraction_type, extraction_type_group \n",
    "#and extraction_type_class"
   ]
  },
  {
   "cell_type": "code",
   "execution_count": 118,
   "id": "4cd31b1b",
   "metadata": {},
   "outputs": [
    {
     "data": {
      "text/plain": [
       "gravity                      26646\n",
       "nira/tanira                   8151\n",
       "other                         6420\n",
       "submersible                   4656\n",
       "swn 80                        3670\n",
       "mono                          2748\n",
       "india mark ii                 2400\n",
       "afridev                       1770\n",
       "ksb                           1415\n",
       "other - rope pump              451\n",
       "other - swn 81                 229\n",
       "windmill                       117\n",
       "india mark iii                  98\n",
       "cemo                            90\n",
       "other - play pump               85\n",
       "walimi                          48\n",
       "climax                          32\n",
       "other - mkulima/shinyanga        2\n",
       "Name: extraction_type, dtype: int64"
      ]
     },
     "execution_count": 118,
     "metadata": {},
     "output_type": "execute_result"
    }
   ],
   "source": [
    "df.extraction_type.value_counts()"
   ]
  },
  {
   "cell_type": "code",
   "execution_count": 119,
   "id": "df7fc61e",
   "metadata": {},
   "outputs": [
    {
     "data": {
      "text/plain": [
       "gravity            26646\n",
       "nira/tanira         8151\n",
       "other               6420\n",
       "submersible         6071\n",
       "swn 80              3670\n",
       "mono                2748\n",
       "india mark ii       2400\n",
       "afridev             1770\n",
       "rope pump            451\n",
       "other handpump       364\n",
       "other motorpump      122\n",
       "wind-powered         117\n",
       "india mark iii        98\n",
       "Name: extraction_type_group, dtype: int64"
      ]
     },
     "execution_count": 119,
     "metadata": {},
     "output_type": "execute_result"
    }
   ],
   "source": [
    "df.extraction_type_group.value_counts()"
   ]
  },
  {
   "cell_type": "code",
   "execution_count": 120,
   "id": "355937df",
   "metadata": {},
   "outputs": [
    {
     "data": {
      "text/plain": [
       "gravity         26646\n",
       "handpump        16453\n",
       "other            6420\n",
       "submersible      6071\n",
       "motorpump        2870\n",
       "rope pump         451\n",
       "wind-powered      117\n",
       "Name: extraction_type_class, dtype: int64"
      ]
     },
     "execution_count": 120,
     "metadata": {},
     "output_type": "execute_result"
    }
   ],
   "source": [
    "df.extraction_type_class.value_counts()"
   ]
  },
  {
   "cell_type": "markdown",
   "id": "8dd78991",
   "metadata": {},
   "source": [
    "We drop extraction_type and extraction_type_group because they capture same info as extraction_type_class and extraction_type_class contains more readable information."
   ]
  },
  {
   "cell_type": "code",
   "execution_count": 121,
   "id": "1c5001da",
   "metadata": {},
   "outputs": [],
   "source": [
    "df.drop(columns=['extraction_type', 'extraction_type_group'], inplace=True)"
   ]
  },
  {
   "cell_type": "code",
   "execution_count": 122,
   "id": "a0850b21",
   "metadata": {},
   "outputs": [
    {
     "name": "stdout",
     "output_type": "stream",
     "text": [
      "<class 'pandas.core.frame.DataFrame'>\n",
      "Int64Index: 59028 entries, 0 to 59399\n",
      "Data columns (total 22 columns):\n",
      " #   Column                 Non-Null Count  Dtype  \n",
      "---  ------                 --------------  -----  \n",
      " 0   amount_tsh             59028 non-null  float64\n",
      " 1   funder                 59028 non-null  object \n",
      " 2   gps_height             59028 non-null  int64  \n",
      " 3   installer              59028 non-null  object \n",
      " 4   wpt_name               59028 non-null  object \n",
      " 5   basin                  59028 non-null  object \n",
      " 6   region_code            59028 non-null  int64  \n",
      " 7   district_code          59028 non-null  int64  \n",
      " 8   public_meeting         59028 non-null  object \n",
      " 9   scheme_management      59028 non-null  object \n",
      " 10  permit                 59028 non-null  bool   \n",
      " 11  extraction_type_class  59028 non-null  object \n",
      " 12  management             59028 non-null  object \n",
      " 13  management_group       59028 non-null  object \n",
      " 14  payment                59028 non-null  object \n",
      " 15  water_quality          59028 non-null  object \n",
      " 16  quality_group          59028 non-null  object \n",
      " 17  quantity               59028 non-null  object \n",
      " 18  source                 59028 non-null  object \n",
      " 19  waterpoint_type        59028 non-null  object \n",
      " 20  status_group           59028 non-null  object \n",
      " 21  age                    59028 non-null  int64  \n",
      "dtypes: bool(1), float64(1), int64(4), object(16)\n",
      "memory usage: 10.0+ MB\n"
     ]
    }
   ],
   "source": [
    "df.info()"
   ]
  },
  {
   "cell_type": "code",
   "execution_count": 123,
   "id": "eb61506f",
   "metadata": {},
   "outputs": [],
   "source": [
    "#Looking into differences between management and management_group"
   ]
  },
  {
   "cell_type": "code",
   "execution_count": 124,
   "id": "01fac4e3",
   "metadata": {},
   "outputs": [
    {
     "data": {
      "text/plain": [
       "vwc                 40189\n",
       "wug                  6515\n",
       "water board          2933\n",
       "wua                  2535\n",
       "private operator     1931\n",
       "parastatal           1768\n",
       "water authority       895\n",
       "other                 839\n",
       "company               685\n",
       "unknown               561\n",
       "other - school         99\n",
       "trust                  78\n",
       "Name: management, dtype: int64"
      ]
     },
     "execution_count": 124,
     "metadata": {},
     "output_type": "execute_result"
    }
   ],
   "source": [
    "df.management.value_counts()"
   ]
  },
  {
   "cell_type": "code",
   "execution_count": 125,
   "id": "c90df4e1",
   "metadata": {},
   "outputs": [
    {
     "data": {
      "text/plain": [
       "user-group    52172\n",
       "commercial     3589\n",
       "parastatal     1768\n",
       "other           938\n",
       "unknown         561\n",
       "Name: management_group, dtype: int64"
      ]
     },
     "execution_count": 125,
     "metadata": {},
     "output_type": "execute_result"
    }
   ],
   "source": [
    "df.management_group.value_counts()"
   ]
  },
  {
   "cell_type": "code",
   "execution_count": 126,
   "id": "5caf411f",
   "metadata": {},
   "outputs": [],
   "source": [
    "#will drop management_group since management captures same information, but is more robust"
   ]
  },
  {
   "cell_type": "code",
   "execution_count": 127,
   "id": "8fd50e1c",
   "metadata": {},
   "outputs": [],
   "source": [
    "df.drop(columns=['management_group'], inplace=True)"
   ]
  },
  {
   "cell_type": "code",
   "execution_count": 128,
   "id": "56b26e10",
   "metadata": {},
   "outputs": [],
   "source": [
    "#Looking into differences between quality and water_quality"
   ]
  },
  {
   "cell_type": "code",
   "execution_count": 129,
   "id": "79659db9",
   "metadata": {},
   "outputs": [
    {
     "data": {
      "text/plain": [
       "soft                  50666\n",
       "salty                  4638\n",
       "unknown                1875\n",
       "milky                   804\n",
       "coloured                490\n",
       "salty abandoned         338\n",
       "fluoride                200\n",
       "fluoride abandoned       17\n",
       "Name: water_quality, dtype: int64"
      ]
     },
     "execution_count": 129,
     "metadata": {},
     "output_type": "execute_result"
    }
   ],
   "source": [
    "df.water_quality.value_counts()"
   ]
  },
  {
   "cell_type": "code",
   "execution_count": 130,
   "id": "1f695e1a",
   "metadata": {},
   "outputs": [
    {
     "data": {
      "text/plain": [
       "good        50666\n",
       "salty        4976\n",
       "unknown      1875\n",
       "milky         804\n",
       "colored       490\n",
       "fluoride      217\n",
       "Name: quality_group, dtype: int64"
      ]
     },
     "execution_count": 130,
     "metadata": {},
     "output_type": "execute_result"
    }
   ],
   "source": [
    "df.quality_group.value_counts()"
   ]
  },
  {
   "cell_type": "code",
   "execution_count": 131,
   "id": "4fb43496",
   "metadata": {},
   "outputs": [],
   "source": [
    "#will drop quality group since quality covers the same info"
   ]
  },
  {
   "cell_type": "code",
   "execution_count": 132,
   "id": "2413fa1e",
   "metadata": {},
   "outputs": [],
   "source": [
    "df.drop(columns=['quality_group'], inplace=True)"
   ]
  },
  {
   "cell_type": "code",
   "execution_count": 133,
   "id": "f6969e83",
   "metadata": {},
   "outputs": [
    {
     "name": "stdout",
     "output_type": "stream",
     "text": [
      "<class 'pandas.core.frame.DataFrame'>\n",
      "Int64Index: 59028 entries, 0 to 59399\n",
      "Data columns (total 20 columns):\n",
      " #   Column                 Non-Null Count  Dtype  \n",
      "---  ------                 --------------  -----  \n",
      " 0   amount_tsh             59028 non-null  float64\n",
      " 1   funder                 59028 non-null  object \n",
      " 2   gps_height             59028 non-null  int64  \n",
      " 3   installer              59028 non-null  object \n",
      " 4   wpt_name               59028 non-null  object \n",
      " 5   basin                  59028 non-null  object \n",
      " 6   region_code            59028 non-null  int64  \n",
      " 7   district_code          59028 non-null  int64  \n",
      " 8   public_meeting         59028 non-null  object \n",
      " 9   scheme_management      59028 non-null  object \n",
      " 10  permit                 59028 non-null  bool   \n",
      " 11  extraction_type_class  59028 non-null  object \n",
      " 12  management             59028 non-null  object \n",
      " 13  payment                59028 non-null  object \n",
      " 14  water_quality          59028 non-null  object \n",
      " 15  quantity               59028 non-null  object \n",
      " 16  source                 59028 non-null  object \n",
      " 17  waterpoint_type        59028 non-null  object \n",
      " 18  status_group           59028 non-null  object \n",
      " 19  age                    59028 non-null  int64  \n",
      "dtypes: bool(1), float64(1), int64(4), object(14)\n",
      "memory usage: 9.1+ MB\n"
     ]
    }
   ],
   "source": [
    "df.info()"
   ]
  },
  {
   "cell_type": "code",
   "execution_count": 134,
   "id": "2b762e42",
   "metadata": {},
   "outputs": [],
   "source": [
    "#Checking source values for any unknowns "
   ]
  },
  {
   "cell_type": "code",
   "execution_count": 135,
   "id": "8c35f824",
   "metadata": {},
   "outputs": [
    {
     "data": {
      "text/plain": [
       "spring                  16886\n",
       "shallow well            16817\n",
       "machine dbh             10848\n",
       "river                    9612\n",
       "rainwater harvesting     2293\n",
       "hand dtw                  874\n",
       "lake                      764\n",
       "dam                       656\n",
       "other                     212\n",
       "unknown                    66\n",
       "Name: source, dtype: int64"
      ]
     },
     "execution_count": 135,
     "metadata": {},
     "output_type": "execute_result"
    }
   ],
   "source": [
    "df.source.value_counts()"
   ]
  },
  {
   "cell_type": "code",
   "execution_count": 136,
   "id": "0edbe7ad",
   "metadata": {},
   "outputs": [
    {
     "name": "stdout",
     "output_type": "stream",
     "text": [
      "<class 'pandas.core.frame.DataFrame'>\n",
      "Int64Index: 59028 entries, 0 to 59399\n",
      "Data columns (total 20 columns):\n",
      " #   Column                 Non-Null Count  Dtype  \n",
      "---  ------                 --------------  -----  \n",
      " 0   amount_tsh             59028 non-null  float64\n",
      " 1   funder                 59028 non-null  object \n",
      " 2   gps_height             59028 non-null  int64  \n",
      " 3   installer              59028 non-null  object \n",
      " 4   wpt_name               59028 non-null  object \n",
      " 5   basin                  59028 non-null  object \n",
      " 6   region_code            59028 non-null  int64  \n",
      " 7   district_code          59028 non-null  int64  \n",
      " 8   public_meeting         59028 non-null  object \n",
      " 9   scheme_management      59028 non-null  object \n",
      " 10  permit                 59028 non-null  bool   \n",
      " 11  extraction_type_class  59028 non-null  object \n",
      " 12  management             59028 non-null  object \n",
      " 13  payment                59028 non-null  object \n",
      " 14  water_quality          59028 non-null  object \n",
      " 15  quantity               59028 non-null  object \n",
      " 16  source                 59028 non-null  object \n",
      " 17  waterpoint_type        59028 non-null  object \n",
      " 18  status_group           59028 non-null  object \n",
      " 19  age                    59028 non-null  int64  \n",
      "dtypes: bool(1), float64(1), int64(4), object(14)\n",
      "memory usage: 9.1+ MB\n"
     ]
    }
   ],
   "source": [
    "df.info()"
   ]
  },
  {
   "cell_type": "code",
   "execution_count": 137,
   "id": "253359b7",
   "metadata": {},
   "outputs": [
    {
     "data": {
      "text/plain": [
       "functional                 32054\n",
       "non functional             22658\n",
       "functional needs repair     4316\n",
       "Name: status_group, dtype: int64"
      ]
     },
     "execution_count": 137,
     "metadata": {},
     "output_type": "execute_result"
    }
   ],
   "source": [
    "df.status_group.value_counts()"
   ]
  },
  {
   "cell_type": "code",
   "execution_count": 138,
   "id": "f0f55fd3",
   "metadata": {},
   "outputs": [
    {
     "data": {
      "text/html": [
       "<div>\n",
       "<style scoped>\n",
       "    .dataframe tbody tr th:only-of-type {\n",
       "        vertical-align: middle;\n",
       "    }\n",
       "\n",
       "    .dataframe tbody tr th {\n",
       "        vertical-align: top;\n",
       "    }\n",
       "\n",
       "    .dataframe thead th {\n",
       "        text-align: right;\n",
       "    }\n",
       "</style>\n",
       "<table border=\"1\" class=\"dataframe\">\n",
       "  <thead>\n",
       "    <tr style=\"text-align: right;\">\n",
       "      <th></th>\n",
       "      <th>amount_tsh</th>\n",
       "      <th>funder</th>\n",
       "      <th>gps_height</th>\n",
       "      <th>installer</th>\n",
       "      <th>wpt_name</th>\n",
       "      <th>basin</th>\n",
       "      <th>region_code</th>\n",
       "      <th>district_code</th>\n",
       "      <th>public_meeting</th>\n",
       "      <th>scheme_management</th>\n",
       "      <th>permit</th>\n",
       "      <th>extraction_type_class</th>\n",
       "      <th>management</th>\n",
       "      <th>payment</th>\n",
       "      <th>water_quality</th>\n",
       "      <th>quantity</th>\n",
       "      <th>source</th>\n",
       "      <th>waterpoint_type</th>\n",
       "      <th>status_group</th>\n",
       "      <th>age</th>\n",
       "    </tr>\n",
       "  </thead>\n",
       "  <tbody>\n",
       "    <tr>\n",
       "      <th>0</th>\n",
       "      <td>6000.0</td>\n",
       "      <td>Roman</td>\n",
       "      <td>1390</td>\n",
       "      <td>Roman</td>\n",
       "      <td>none</td>\n",
       "      <td>Lake Nyasa</td>\n",
       "      <td>11</td>\n",
       "      <td>5</td>\n",
       "      <td>True</td>\n",
       "      <td>VWC</td>\n",
       "      <td>False</td>\n",
       "      <td>gravity</td>\n",
       "      <td>vwc</td>\n",
       "      <td>pay annually</td>\n",
       "      <td>soft</td>\n",
       "      <td>enough</td>\n",
       "      <td>spring</td>\n",
       "      <td>communal standpipe</td>\n",
       "      <td>functional</td>\n",
       "      <td>23</td>\n",
       "    </tr>\n",
       "    <tr>\n",
       "      <th>1</th>\n",
       "      <td>0.0</td>\n",
       "      <td>Grumeti</td>\n",
       "      <td>1399</td>\n",
       "      <td>GRUMETI</td>\n",
       "      <td>Zahanati</td>\n",
       "      <td>Lake Victoria</td>\n",
       "      <td>20</td>\n",
       "      <td>2</td>\n",
       "      <td>Unknown</td>\n",
       "      <td>Other</td>\n",
       "      <td>True</td>\n",
       "      <td>gravity</td>\n",
       "      <td>wug</td>\n",
       "      <td>never pay</td>\n",
       "      <td>soft</td>\n",
       "      <td>insufficient</td>\n",
       "      <td>rainwater harvesting</td>\n",
       "      <td>communal standpipe</td>\n",
       "      <td>functional</td>\n",
       "      <td>12</td>\n",
       "    </tr>\n",
       "    <tr>\n",
       "      <th>2</th>\n",
       "      <td>25.0</td>\n",
       "      <td>Lottery Club</td>\n",
       "      <td>686</td>\n",
       "      <td>World vision</td>\n",
       "      <td>Kwa Mahundi</td>\n",
       "      <td>Pangani</td>\n",
       "      <td>21</td>\n",
       "      <td>4</td>\n",
       "      <td>True</td>\n",
       "      <td>VWC</td>\n",
       "      <td>True</td>\n",
       "      <td>gravity</td>\n",
       "      <td>vwc</td>\n",
       "      <td>pay per bucket</td>\n",
       "      <td>soft</td>\n",
       "      <td>enough</td>\n",
       "      <td>dam</td>\n",
       "      <td>communal standpipe multiple</td>\n",
       "      <td>functional</td>\n",
       "      <td>13</td>\n",
       "    </tr>\n",
       "    <tr>\n",
       "      <th>3</th>\n",
       "      <td>0.0</td>\n",
       "      <td>Unicef</td>\n",
       "      <td>263</td>\n",
       "      <td>UNICEF</td>\n",
       "      <td>Zahanati Ya Nanyumbu</td>\n",
       "      <td>Ruvuma / Southern Coast</td>\n",
       "      <td>90</td>\n",
       "      <td>63</td>\n",
       "      <td>True</td>\n",
       "      <td>VWC</td>\n",
       "      <td>True</td>\n",
       "      <td>submersible</td>\n",
       "      <td>vwc</td>\n",
       "      <td>never pay</td>\n",
       "      <td>soft</td>\n",
       "      <td>dry</td>\n",
       "      <td>machine dbh</td>\n",
       "      <td>communal standpipe multiple</td>\n",
       "      <td>non functional</td>\n",
       "      <td>36</td>\n",
       "    </tr>\n",
       "    <tr>\n",
       "      <th>4</th>\n",
       "      <td>0.0</td>\n",
       "      <td>Action In A</td>\n",
       "      <td>0</td>\n",
       "      <td>Artisan</td>\n",
       "      <td>Shuleni</td>\n",
       "      <td>Lake Victoria</td>\n",
       "      <td>18</td>\n",
       "      <td>1</td>\n",
       "      <td>True</td>\n",
       "      <td>Unknown</td>\n",
       "      <td>True</td>\n",
       "      <td>gravity</td>\n",
       "      <td>other</td>\n",
       "      <td>never pay</td>\n",
       "      <td>soft</td>\n",
       "      <td>seasonal</td>\n",
       "      <td>rainwater harvesting</td>\n",
       "      <td>communal standpipe</td>\n",
       "      <td>functional</td>\n",
       "      <td>22</td>\n",
       "    </tr>\n",
       "  </tbody>\n",
       "</table>\n",
       "</div>"
      ],
      "text/plain": [
       "   amount_tsh        funder  gps_height     installer              wpt_name  \\\n",
       "0      6000.0         Roman        1390         Roman                  none   \n",
       "1         0.0       Grumeti        1399       GRUMETI              Zahanati   \n",
       "2        25.0  Lottery Club         686  World vision           Kwa Mahundi   \n",
       "3         0.0        Unicef         263        UNICEF  Zahanati Ya Nanyumbu   \n",
       "4         0.0   Action In A           0       Artisan               Shuleni   \n",
       "\n",
       "                     basin  region_code  district_code public_meeting  \\\n",
       "0               Lake Nyasa           11              5           True   \n",
       "1            Lake Victoria           20              2        Unknown   \n",
       "2                  Pangani           21              4           True   \n",
       "3  Ruvuma / Southern Coast           90             63           True   \n",
       "4            Lake Victoria           18              1           True   \n",
       "\n",
       "  scheme_management  permit extraction_type_class management         payment  \\\n",
       "0               VWC   False               gravity        vwc    pay annually   \n",
       "1             Other    True               gravity        wug       never pay   \n",
       "2               VWC    True               gravity        vwc  pay per bucket   \n",
       "3               VWC    True           submersible        vwc       never pay   \n",
       "4           Unknown    True               gravity      other       never pay   \n",
       "\n",
       "  water_quality      quantity                source  \\\n",
       "0          soft        enough                spring   \n",
       "1          soft  insufficient  rainwater harvesting   \n",
       "2          soft        enough                   dam   \n",
       "3          soft           dry           machine dbh   \n",
       "4          soft      seasonal  rainwater harvesting   \n",
       "\n",
       "               waterpoint_type    status_group  age  \n",
       "0           communal standpipe      functional   23  \n",
       "1           communal standpipe      functional   12  \n",
       "2  communal standpipe multiple      functional   13  \n",
       "3  communal standpipe multiple  non functional   36  \n",
       "4           communal standpipe      functional   22  "
      ]
     },
     "execution_count": 138,
     "metadata": {},
     "output_type": "execute_result"
    }
   ],
   "source": [
    "df.head()"
   ]
  },
  {
   "cell_type": "code",
   "execution_count": 139,
   "id": "a1ebf54a",
   "metadata": {},
   "outputs": [],
   "source": [
    "#looking at vaulues for amount_tsh"
   ]
  },
  {
   "cell_type": "code",
   "execution_count": 140,
   "id": "d19b5218",
   "metadata": {},
   "outputs": [
    {
     "data": {
      "text/plain": [
       "0.0         41267\n",
       "500.0        3102\n",
       "50.0         2472\n",
       "1000.0       1488\n",
       "20.0         1463\n",
       "            ...  \n",
       "8500.0          1\n",
       "6300.0          1\n",
       "220.0           1\n",
       "138000.0        1\n",
       "12.0            1\n",
       "Name: amount_tsh, Length: 98, dtype: int64"
      ]
     },
     "execution_count": 140,
     "metadata": {},
     "output_type": "execute_result"
    }
   ],
   "source": [
    "df.amount_tsh.value_counts()"
   ]
  },
  {
   "cell_type": "markdown",
   "id": "48566026",
   "metadata": {},
   "source": [
    "Since some of our columns have many different values, we decide how to scale our values for certain columns."
   ]
  },
  {
   "cell_type": "code",
   "execution_count": 141,
   "id": "08fb32e5",
   "metadata": {},
   "outputs": [
    {
     "data": {
      "text/plain": [
       "Government Of Tanzania            9014\n",
       "Unknown                           3639\n",
       "Danida                            3114\n",
       "Hesawa                            2200\n",
       "Rwssp                             1374\n",
       "Kkkt                              1286\n",
       "World Vision                      1246\n",
       "World Bank                        1244\n",
       "Unicef                            1057\n",
       "Tasaf                              876\n",
       "District Council                   843\n",
       "Dhv                                829\n",
       "Private Individual                 825\n",
       "Dwsp                               811\n",
       "0                                  777\n",
       "Norad                              765\n",
       "Germany Republi                    610\n",
       "Tcrs                               602\n",
       "Ministry Of Water                  590\n",
       "Water                              510\n",
       "Dwe                                484\n",
       "Netherlands                        470\n",
       "Hifab                              450\n",
       "Adb                                447\n",
       "Lga                                442\n",
       "Amref                              425\n",
       "Fini Water                         393\n",
       "Oxfam                              359\n",
       "Wateraid                           333\n",
       "Rc Church                          321\n",
       "Isf                                316\n",
       "Rudep                              312\n",
       "Mission                            301\n",
       "Private                            294\n",
       "Jaica                              280\n",
       "Roman                              275\n",
       "Rural Water Supply And Sanitat     270\n",
       "Adra                               263\n",
       "Ces(gmbh)                          260\n",
       "Jica                               259\n",
       "Shipo                              241\n",
       "Wsdp                               234\n",
       "Rc                                 230\n",
       "Finw                               219\n",
       "Dh                                 213\n",
       "Ded                                198\n",
       "Plan Int                           195\n",
       "Kiliwater                          189\n",
       "Dmdd                               186\n",
       "Go                                 181\n",
       "Name: funder, dtype: int64"
      ]
     },
     "execution_count": 141,
     "metadata": {},
     "output_type": "execute_result"
    }
   ],
   "source": [
    "df.funder.value_counts()[:50]"
   ]
  },
  {
   "cell_type": "markdown",
   "id": "56d22b60",
   "metadata": {},
   "source": [
    "We see a \"0\" value, which we are assuming is the funder is unknown. Replacing 0 value with \"Unknown\"."
   ]
  },
  {
   "cell_type": "code",
   "execution_count": 142,
   "id": "985a0652",
   "metadata": {},
   "outputs": [],
   "source": [
    "df.funder.replace(to_replace='0', value='Unknown', inplace=True)"
   ]
  },
  {
   "cell_type": "code",
   "execution_count": 143,
   "id": "f6e4a537",
   "metadata": {},
   "outputs": [
    {
     "data": {
      "text/plain": [
       "(59028,)"
      ]
     },
     "execution_count": 143,
     "metadata": {},
     "output_type": "execute_result"
    }
   ],
   "source": [
    "df.funder.shape"
   ]
  },
  {
   "cell_type": "markdown",
   "id": "06bd67c5",
   "metadata": {},
   "source": [
    "We will look at all funders with over 1% of our inital data (>= 590 wells); Will replace other values with \"Other\""
   ]
  },
  {
   "cell_type": "code",
   "execution_count": 144,
   "id": "08606354",
   "metadata": {},
   "outputs": [
    {
     "data": {
      "text/plain": [
       "Government Of Tanzania            9014\n",
       "Unknown                           4416\n",
       "Danida                            3114\n",
       "Hesawa                            2200\n",
       "Rwssp                             1374\n",
       "Kkkt                              1286\n",
       "World Vision                      1246\n",
       "World Bank                        1244\n",
       "Unicef                            1057\n",
       "Tasaf                              876\n",
       "District Council                   843\n",
       "Dhv                                829\n",
       "Private Individual                 825\n",
       "Dwsp                               811\n",
       "Norad                              765\n",
       "Germany Republi                    610\n",
       "Tcrs                               602\n",
       "Ministry Of Water                  590\n",
       "Water                              510\n",
       "Dwe                                484\n",
       "Netherlands                        470\n",
       "Hifab                              450\n",
       "Adb                                447\n",
       "Lga                                442\n",
       "Amref                              425\n",
       "Fini Water                         393\n",
       "Oxfam                              359\n",
       "Wateraid                           333\n",
       "Rc Church                          321\n",
       "Isf                                316\n",
       "Rudep                              312\n",
       "Mission                            301\n",
       "Private                            294\n",
       "Jaica                              280\n",
       "Roman                              275\n",
       "Rural Water Supply And Sanitat     270\n",
       "Adra                               263\n",
       "Ces(gmbh)                          260\n",
       "Jica                               259\n",
       "Shipo                              241\n",
       "Wsdp                               234\n",
       "Rc                                 230\n",
       "Finw                               219\n",
       "Dh                                 213\n",
       "Ded                                198\n",
       "Plan Int                           195\n",
       "Kiliwater                          189\n",
       "Dmdd                               186\n",
       "Go                                 181\n",
       "Lawatefuka Water Supply            180\n",
       "Name: funder, dtype: int64"
      ]
     },
     "execution_count": 144,
     "metadata": {},
     "output_type": "execute_result"
    }
   ],
   "source": [
    "df.funder.value_counts()[:50]"
   ]
  },
  {
   "cell_type": "code",
   "execution_count": 145,
   "id": "f91871e9",
   "metadata": {},
   "outputs": [],
   "source": [
    "#creating list of funders >= 590 wells; we are keeping unknown as it may\n",
    "#be significant (may be underlying reason those funders are unknown)"
   ]
  },
  {
   "cell_type": "code",
   "execution_count": 146,
   "id": "74732f5b",
   "metadata": {},
   "outputs": [],
   "source": [
    "top_funders = list(df.funder.value_counts()[:18].index)"
   ]
  },
  {
   "cell_type": "code",
   "execution_count": 147,
   "id": "097522b6",
   "metadata": {},
   "outputs": [
    {
     "data": {
      "text/plain": [
       "['Government Of Tanzania',\n",
       " 'Unknown',\n",
       " 'Danida',\n",
       " 'Hesawa',\n",
       " 'Rwssp',\n",
       " 'Kkkt',\n",
       " 'World Vision',\n",
       " 'World Bank',\n",
       " 'Unicef',\n",
       " 'Tasaf',\n",
       " 'District Council',\n",
       " 'Dhv',\n",
       " 'Private Individual',\n",
       " 'Dwsp',\n",
       " 'Norad',\n",
       " 'Germany Republi',\n",
       " 'Tcrs',\n",
       " 'Ministry Of Water']"
      ]
     },
     "execution_count": 147,
     "metadata": {},
     "output_type": "execute_result"
    }
   ],
   "source": [
    "top_funders"
   ]
  },
  {
   "cell_type": "code",
   "execution_count": 148,
   "id": "93bd5afb",
   "metadata": {
    "scrolled": true
   },
   "outputs": [],
   "source": [
    "df.funder = df.funder.map(lambda x: x if x in top_funders else x.replace(x, \"Other\"))"
   ]
  },
  {
   "cell_type": "code",
   "execution_count": 149,
   "id": "f129d6bb",
   "metadata": {},
   "outputs": [
    {
     "data": {
      "text/plain": [
       "Other                     27326\n",
       "Government Of Tanzania     9014\n",
       "Unknown                    4416\n",
       "Danida                     3114\n",
       "Hesawa                     2200\n",
       "Rwssp                      1374\n",
       "Kkkt                       1286\n",
       "World Vision               1246\n",
       "World Bank                 1244\n",
       "Unicef                     1057\n",
       "Tasaf                       876\n",
       "District Council            843\n",
       "Dhv                         829\n",
       "Private Individual          825\n",
       "Dwsp                        811\n",
       "Norad                       765\n",
       "Germany Republi             610\n",
       "Tcrs                        602\n",
       "Ministry Of Water           590\n",
       "Name: funder, dtype: int64"
      ]
     },
     "execution_count": 149,
     "metadata": {},
     "output_type": "execute_result"
    }
   ],
   "source": [
    "df.funder.value_counts()"
   ]
  },
  {
   "cell_type": "code",
   "execution_count": 150,
   "id": "774bbb3a",
   "metadata": {},
   "outputs": [
    {
     "data": {
      "text/plain": [
       "DWE                         17361\n",
       "Unknown                      3658\n",
       "Government                   1825\n",
       "RWE                          1205\n",
       "DANIDA                       1050\n",
       "                            ...  \n",
       "Dawasco                         1\n",
       "MACK DONALD CO LTD              1\n",
       "Kanamama                        1\n",
       "BGSS                            1\n",
       "UMOJA DRILLING CONTRUCTO        1\n",
       "Name: installer, Length: 2134, dtype: int64"
      ]
     },
     "execution_count": 150,
     "metadata": {},
     "output_type": "execute_result"
    }
   ],
   "source": [
    "df.installer.value_counts()"
   ]
  },
  {
   "cell_type": "markdown",
   "id": "680fe9b4",
   "metadata": {},
   "source": [
    "We will look at all funders with over 1% of our inital data (>= 590 wells); Will replace other values with \"Other\""
   ]
  },
  {
   "cell_type": "code",
   "execution_count": 151,
   "id": "cda83627",
   "metadata": {},
   "outputs": [
    {
     "data": {
      "text/plain": [
       "DWE                           17361\n",
       "Unknown                        3658\n",
       "Government                     1825\n",
       "RWE                            1205\n",
       "DANIDA                         1050\n",
       "KKKT                            898\n",
       "Commu                           894\n",
       "Hesawa                          840\n",
       "0                               777\n",
       "TCRS                            707\n",
       "Central government              622\n",
       "CES                             610\n",
       "Community                       553\n",
       "DANID                           552\n",
       "District Council                551\n",
       "HESAWA                          539\n",
       "World vision                    408\n",
       "LGA                             408\n",
       "WEDECO                          397\n",
       "TASAF                           396\n",
       "District council                392\n",
       "Gover                           352\n",
       "AMREF                           329\n",
       "TWESA                           316\n",
       "WU                              301\n",
       "Dmdd                            287\n",
       "ACRA                            278\n",
       "World Vision                    270\n",
       "SEMA                            249\n",
       "DW                              246\n",
       "OXFAM                           234\n",
       "Da                              224\n",
       "UNICEF                          222\n",
       "Idara ya maji                   222\n",
       "Gove                            222\n",
       "Sengerema Water Department      214\n",
       "Kiliwater                       210\n",
       "FinW                            208\n",
       "NORAD                           208\n",
       "DH                              202\n",
       "Villagers                       199\n",
       "DWSP                            192\n",
       "Distri                          181\n",
       "Lawatefuka water sup            180\n",
       "Magadini-Makiwaru wa            175\n",
       "RC                              174\n",
       "FW                              173\n",
       "KKKT _ Konde and DWE            166\n",
       "Centr                           162\n",
       "WVT                             158\n",
       "Name: installer, dtype: int64"
      ]
     },
     "execution_count": 151,
     "metadata": {},
     "output_type": "execute_result"
    }
   ],
   "source": [
    "df.installer.value_counts()[:50]"
   ]
  },
  {
   "cell_type": "code",
   "execution_count": 152,
   "id": "8e857603",
   "metadata": {},
   "outputs": [],
   "source": [
    "#creating list of installers >= 590 wells; we are keeping unknown as it may\n",
    "#be significant (may be underlying reason those funders are unknown)"
   ]
  },
  {
   "cell_type": "code",
   "execution_count": 153,
   "id": "077bc47f",
   "metadata": {},
   "outputs": [],
   "source": [
    "df.installer.replace(to_replace='0', value='Unknown', inplace=True)"
   ]
  },
  {
   "cell_type": "code",
   "execution_count": 154,
   "id": "04b554f7",
   "metadata": {},
   "outputs": [
    {
     "data": {
      "text/plain": [
       "DWE                   17361\n",
       "Unknown                4435\n",
       "Government             1825\n",
       "RWE                    1205\n",
       "DANIDA                 1050\n",
       "KKKT                    898\n",
       "Commu                   894\n",
       "Hesawa                  840\n",
       "TCRS                    707\n",
       "Central government      622\n",
       "CES                     610\n",
       "Community               553\n",
       "DANID                   552\n",
       "District Council        551\n",
       "HESAWA                  539\n",
       "Name: installer, dtype: int64"
      ]
     },
     "execution_count": 154,
     "metadata": {},
     "output_type": "execute_result"
    }
   ],
   "source": [
    "df.installer.value_counts() [:15]"
   ]
  },
  {
   "cell_type": "code",
   "execution_count": 155,
   "id": "7f76f91f",
   "metadata": {},
   "outputs": [],
   "source": [
    "top_installers = list(df.installer.value_counts()[:11].index)"
   ]
  },
  {
   "cell_type": "code",
   "execution_count": 156,
   "id": "a057d89d",
   "metadata": {},
   "outputs": [],
   "source": [
    "df.installer = df.installer.map(lambda x: x if x in top_installers else x.replace(x, \"Other\"))"
   ]
  },
  {
   "cell_type": "code",
   "execution_count": 157,
   "id": "2c8b713a",
   "metadata": {},
   "outputs": [
    {
     "data": {
      "text/plain": [
       "Other                 28581\n",
       "DWE                   17361\n",
       "Unknown                4435\n",
       "Government             1825\n",
       "RWE                    1205\n",
       "DANIDA                 1050\n",
       "KKKT                    898\n",
       "Commu                   894\n",
       "Hesawa                  840\n",
       "TCRS                    707\n",
       "Central government      622\n",
       "CES                     610\n",
       "Name: installer, dtype: int64"
      ]
     },
     "execution_count": 157,
     "metadata": {},
     "output_type": "execute_result"
    }
   ],
   "source": [
    "df.installer.value_counts()"
   ]
  },
  {
   "cell_type": "code",
   "execution_count": 158,
   "id": "9e819f48",
   "metadata": {},
   "outputs": [
    {
     "data": {
      "text/plain": [
       "none                    3559\n",
       "Shuleni                 1714\n",
       "Zahanati                 811\n",
       "Msikitini                533\n",
       "Kanisani                 313\n",
       "                        ... \n",
       "Hamis Uweso                1\n",
       "Kwa Mwanaeke               1\n",
       "Kwa Mzee Fokanya           1\n",
       "Kwa Patric Tanganyik       1\n",
       "Olovolusi                  1\n",
       "Name: wpt_name, Length: 37230, dtype: int64"
      ]
     },
     "execution_count": 158,
     "metadata": {},
     "output_type": "execute_result"
    }
   ],
   "source": [
    "df.wpt_name.value_counts()"
   ]
  },
  {
   "cell_type": "code",
   "execution_count": 159,
   "id": "74e86307",
   "metadata": {},
   "outputs": [],
   "source": [
    "#will drop wpt_name due to 'none' being mode and over 37000 different values"
   ]
  },
  {
   "cell_type": "code",
   "execution_count": 160,
   "id": "9a745cb8",
   "metadata": {},
   "outputs": [],
   "source": [
    "df.drop(columns=['wpt_name'], inplace=True)"
   ]
  },
  {
   "cell_type": "code",
   "execution_count": 161,
   "id": "ffd58e6e",
   "metadata": {},
   "outputs": [
    {
     "name": "stdout",
     "output_type": "stream",
     "text": [
      "<class 'pandas.core.frame.DataFrame'>\n",
      "Int64Index: 59028 entries, 0 to 59399\n",
      "Data columns (total 19 columns):\n",
      " #   Column                 Non-Null Count  Dtype  \n",
      "---  ------                 --------------  -----  \n",
      " 0   amount_tsh             59028 non-null  float64\n",
      " 1   funder                 59028 non-null  object \n",
      " 2   gps_height             59028 non-null  int64  \n",
      " 3   installer              59028 non-null  object \n",
      " 4   basin                  59028 non-null  object \n",
      " 5   region_code            59028 non-null  int64  \n",
      " 6   district_code          59028 non-null  int64  \n",
      " 7   public_meeting         59028 non-null  object \n",
      " 8   scheme_management      59028 non-null  object \n",
      " 9   permit                 59028 non-null  bool   \n",
      " 10  extraction_type_class  59028 non-null  object \n",
      " 11  management             59028 non-null  object \n",
      " 12  payment                59028 non-null  object \n",
      " 13  water_quality          59028 non-null  object \n",
      " 14  quantity               59028 non-null  object \n",
      " 15  source                 59028 non-null  object \n",
      " 16  waterpoint_type        59028 non-null  object \n",
      " 17  status_group           59028 non-null  object \n",
      " 18  age                    59028 non-null  int64  \n",
      "dtypes: bool(1), float64(1), int64(4), object(13)\n",
      "memory usage: 8.6+ MB\n"
     ]
    }
   ],
   "source": [
    "df.info()"
   ]
  },
  {
   "cell_type": "markdown",
   "id": "1f5dd2d0",
   "metadata": {},
   "source": [
    "Saving our finalized clean data set as 'final_data.csv'. "
   ]
  },
  {
   "cell_type": "code",
   "execution_count": 162,
   "id": "a7a7b8bd",
   "metadata": {},
   "outputs": [],
   "source": [
    "df.to_csv('final_data.csv')"
   ]
  },
  {
   "cell_type": "markdown",
   "id": "93b8102e",
   "metadata": {},
   "source": [
    "Data analysis and modeling continues in notebook named 'modeling_notebook'."
   ]
  }
 ],
 "metadata": {
  "kernelspec": {
   "display_name": "Python 3",
   "language": "python",
   "name": "python3"
  },
  "language_info": {
   "codemirror_mode": {
    "name": "ipython",
    "version": 3
   },
   "file_extension": ".py",
   "mimetype": "text/x-python",
   "name": "python",
   "nbconvert_exporter": "python",
   "pygments_lexer": "ipython3",
   "version": "3.8.5"
  }
 },
 "nbformat": 4,
 "nbformat_minor": 5
}
