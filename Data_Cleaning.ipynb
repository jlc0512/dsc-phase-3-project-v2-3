{
 "cells": [
  {
   "cell_type": "code",
   "execution_count": 233,
   "id": "73dca51c",
   "metadata": {},
   "outputs": [],
   "source": [
    "#Looking at accuracy and recall to minimize our false negatives."
   ]
  },
  {
   "cell_type": "code",
   "execution_count": 234,
   "id": "90cbb412",
   "metadata": {},
   "outputs": [],
   "source": [
    "import pandas as pd\n",
    "import matplotlib as plt\n",
    "import seaborn as sns\n",
    "%matplotlib inline\n",
    "from sklearn.model_selection import train_test_split"
   ]
  },
  {
   "cell_type": "code",
   "execution_count": 235,
   "id": "e0b018c3",
   "metadata": {},
   "outputs": [],
   "source": [
    "data_targets= pd.read_csv('./data/target.csv')"
   ]
  },
  {
   "cell_type": "code",
   "execution_count": 236,
   "id": "30489d0c",
   "metadata": {},
   "outputs": [
    {
     "data": {
      "text/html": [
       "<div>\n",
       "<style scoped>\n",
       "    .dataframe tbody tr th:only-of-type {\n",
       "        vertical-align: middle;\n",
       "    }\n",
       "\n",
       "    .dataframe tbody tr th {\n",
       "        vertical-align: top;\n",
       "    }\n",
       "\n",
       "    .dataframe thead th {\n",
       "        text-align: right;\n",
       "    }\n",
       "</style>\n",
       "<table border=\"1\" class=\"dataframe\">\n",
       "  <thead>\n",
       "    <tr style=\"text-align: right;\">\n",
       "      <th></th>\n",
       "      <th>id</th>\n",
       "      <th>status_group</th>\n",
       "    </tr>\n",
       "  </thead>\n",
       "  <tbody>\n",
       "    <tr>\n",
       "      <th>0</th>\n",
       "      <td>69572</td>\n",
       "      <td>functional</td>\n",
       "    </tr>\n",
       "    <tr>\n",
       "      <th>1</th>\n",
       "      <td>8776</td>\n",
       "      <td>functional</td>\n",
       "    </tr>\n",
       "    <tr>\n",
       "      <th>2</th>\n",
       "      <td>34310</td>\n",
       "      <td>functional</td>\n",
       "    </tr>\n",
       "    <tr>\n",
       "      <th>3</th>\n",
       "      <td>67743</td>\n",
       "      <td>non functional</td>\n",
       "    </tr>\n",
       "    <tr>\n",
       "      <th>4</th>\n",
       "      <td>19728</td>\n",
       "      <td>functional</td>\n",
       "    </tr>\n",
       "  </tbody>\n",
       "</table>\n",
       "</div>"
      ],
      "text/plain": [
       "      id    status_group\n",
       "0  69572      functional\n",
       "1   8776      functional\n",
       "2  34310      functional\n",
       "3  67743  non functional\n",
       "4  19728      functional"
      ]
     },
     "execution_count": 236,
     "metadata": {},
     "output_type": "execute_result"
    }
   ],
   "source": [
    "data_targets.head()"
   ]
  },
  {
   "cell_type": "code",
   "execution_count": 237,
   "id": "d9b8c30b",
   "metadata": {},
   "outputs": [],
   "source": [
    "data_features = pd.read_csv('./data/features.csv')"
   ]
  },
  {
   "cell_type": "code",
   "execution_count": 238,
   "id": "00dfb89d",
   "metadata": {},
   "outputs": [
    {
     "data": {
      "text/html": [
       "<div>\n",
       "<style scoped>\n",
       "    .dataframe tbody tr th:only-of-type {\n",
       "        vertical-align: middle;\n",
       "    }\n",
       "\n",
       "    .dataframe tbody tr th {\n",
       "        vertical-align: top;\n",
       "    }\n",
       "\n",
       "    .dataframe thead th {\n",
       "        text-align: right;\n",
       "    }\n",
       "</style>\n",
       "<table border=\"1\" class=\"dataframe\">\n",
       "  <thead>\n",
       "    <tr style=\"text-align: right;\">\n",
       "      <th></th>\n",
       "      <th>id</th>\n",
       "      <th>amount_tsh</th>\n",
       "      <th>date_recorded</th>\n",
       "      <th>funder</th>\n",
       "      <th>gps_height</th>\n",
       "      <th>installer</th>\n",
       "      <th>longitude</th>\n",
       "      <th>latitude</th>\n",
       "      <th>wpt_name</th>\n",
       "      <th>num_private</th>\n",
       "      <th>...</th>\n",
       "      <th>payment_type</th>\n",
       "      <th>water_quality</th>\n",
       "      <th>quality_group</th>\n",
       "      <th>quantity</th>\n",
       "      <th>quantity_group</th>\n",
       "      <th>source</th>\n",
       "      <th>source_type</th>\n",
       "      <th>source_class</th>\n",
       "      <th>waterpoint_type</th>\n",
       "      <th>waterpoint_type_group</th>\n",
       "    </tr>\n",
       "  </thead>\n",
       "  <tbody>\n",
       "    <tr>\n",
       "      <th>0</th>\n",
       "      <td>69572</td>\n",
       "      <td>6000.0</td>\n",
       "      <td>2011-03-14</td>\n",
       "      <td>Roman</td>\n",
       "      <td>1390</td>\n",
       "      <td>Roman</td>\n",
       "      <td>34.938093</td>\n",
       "      <td>-9.856322</td>\n",
       "      <td>none</td>\n",
       "      <td>0</td>\n",
       "      <td>...</td>\n",
       "      <td>annually</td>\n",
       "      <td>soft</td>\n",
       "      <td>good</td>\n",
       "      <td>enough</td>\n",
       "      <td>enough</td>\n",
       "      <td>spring</td>\n",
       "      <td>spring</td>\n",
       "      <td>groundwater</td>\n",
       "      <td>communal standpipe</td>\n",
       "      <td>communal standpipe</td>\n",
       "    </tr>\n",
       "    <tr>\n",
       "      <th>1</th>\n",
       "      <td>8776</td>\n",
       "      <td>0.0</td>\n",
       "      <td>2013-03-06</td>\n",
       "      <td>Grumeti</td>\n",
       "      <td>1399</td>\n",
       "      <td>GRUMETI</td>\n",
       "      <td>34.698766</td>\n",
       "      <td>-2.147466</td>\n",
       "      <td>Zahanati</td>\n",
       "      <td>0</td>\n",
       "      <td>...</td>\n",
       "      <td>never pay</td>\n",
       "      <td>soft</td>\n",
       "      <td>good</td>\n",
       "      <td>insufficient</td>\n",
       "      <td>insufficient</td>\n",
       "      <td>rainwater harvesting</td>\n",
       "      <td>rainwater harvesting</td>\n",
       "      <td>surface</td>\n",
       "      <td>communal standpipe</td>\n",
       "      <td>communal standpipe</td>\n",
       "    </tr>\n",
       "    <tr>\n",
       "      <th>2</th>\n",
       "      <td>34310</td>\n",
       "      <td>25.0</td>\n",
       "      <td>2013-02-25</td>\n",
       "      <td>Lottery Club</td>\n",
       "      <td>686</td>\n",
       "      <td>World vision</td>\n",
       "      <td>37.460664</td>\n",
       "      <td>-3.821329</td>\n",
       "      <td>Kwa Mahundi</td>\n",
       "      <td>0</td>\n",
       "      <td>...</td>\n",
       "      <td>per bucket</td>\n",
       "      <td>soft</td>\n",
       "      <td>good</td>\n",
       "      <td>enough</td>\n",
       "      <td>enough</td>\n",
       "      <td>dam</td>\n",
       "      <td>dam</td>\n",
       "      <td>surface</td>\n",
       "      <td>communal standpipe multiple</td>\n",
       "      <td>communal standpipe</td>\n",
       "    </tr>\n",
       "    <tr>\n",
       "      <th>3</th>\n",
       "      <td>67743</td>\n",
       "      <td>0.0</td>\n",
       "      <td>2013-01-28</td>\n",
       "      <td>Unicef</td>\n",
       "      <td>263</td>\n",
       "      <td>UNICEF</td>\n",
       "      <td>38.486161</td>\n",
       "      <td>-11.155298</td>\n",
       "      <td>Zahanati Ya Nanyumbu</td>\n",
       "      <td>0</td>\n",
       "      <td>...</td>\n",
       "      <td>never pay</td>\n",
       "      <td>soft</td>\n",
       "      <td>good</td>\n",
       "      <td>dry</td>\n",
       "      <td>dry</td>\n",
       "      <td>machine dbh</td>\n",
       "      <td>borehole</td>\n",
       "      <td>groundwater</td>\n",
       "      <td>communal standpipe multiple</td>\n",
       "      <td>communal standpipe</td>\n",
       "    </tr>\n",
       "    <tr>\n",
       "      <th>4</th>\n",
       "      <td>19728</td>\n",
       "      <td>0.0</td>\n",
       "      <td>2011-07-13</td>\n",
       "      <td>Action In A</td>\n",
       "      <td>0</td>\n",
       "      <td>Artisan</td>\n",
       "      <td>31.130847</td>\n",
       "      <td>-1.825359</td>\n",
       "      <td>Shuleni</td>\n",
       "      <td>0</td>\n",
       "      <td>...</td>\n",
       "      <td>never pay</td>\n",
       "      <td>soft</td>\n",
       "      <td>good</td>\n",
       "      <td>seasonal</td>\n",
       "      <td>seasonal</td>\n",
       "      <td>rainwater harvesting</td>\n",
       "      <td>rainwater harvesting</td>\n",
       "      <td>surface</td>\n",
       "      <td>communal standpipe</td>\n",
       "      <td>communal standpipe</td>\n",
       "    </tr>\n",
       "    <tr>\n",
       "      <th>...</th>\n",
       "      <td>...</td>\n",
       "      <td>...</td>\n",
       "      <td>...</td>\n",
       "      <td>...</td>\n",
       "      <td>...</td>\n",
       "      <td>...</td>\n",
       "      <td>...</td>\n",
       "      <td>...</td>\n",
       "      <td>...</td>\n",
       "      <td>...</td>\n",
       "      <td>...</td>\n",
       "      <td>...</td>\n",
       "      <td>...</td>\n",
       "      <td>...</td>\n",
       "      <td>...</td>\n",
       "      <td>...</td>\n",
       "      <td>...</td>\n",
       "      <td>...</td>\n",
       "      <td>...</td>\n",
       "      <td>...</td>\n",
       "      <td>...</td>\n",
       "    </tr>\n",
       "    <tr>\n",
       "      <th>59395</th>\n",
       "      <td>60739</td>\n",
       "      <td>10.0</td>\n",
       "      <td>2013-05-03</td>\n",
       "      <td>Germany Republi</td>\n",
       "      <td>1210</td>\n",
       "      <td>CES</td>\n",
       "      <td>37.169807</td>\n",
       "      <td>-3.253847</td>\n",
       "      <td>Area Three Namba 27</td>\n",
       "      <td>0</td>\n",
       "      <td>...</td>\n",
       "      <td>per bucket</td>\n",
       "      <td>soft</td>\n",
       "      <td>good</td>\n",
       "      <td>enough</td>\n",
       "      <td>enough</td>\n",
       "      <td>spring</td>\n",
       "      <td>spring</td>\n",
       "      <td>groundwater</td>\n",
       "      <td>communal standpipe</td>\n",
       "      <td>communal standpipe</td>\n",
       "    </tr>\n",
       "    <tr>\n",
       "      <th>59396</th>\n",
       "      <td>27263</td>\n",
       "      <td>4700.0</td>\n",
       "      <td>2011-05-07</td>\n",
       "      <td>Cefa-njombe</td>\n",
       "      <td>1212</td>\n",
       "      <td>Cefa</td>\n",
       "      <td>35.249991</td>\n",
       "      <td>-9.070629</td>\n",
       "      <td>Kwa Yahona Kuvala</td>\n",
       "      <td>0</td>\n",
       "      <td>...</td>\n",
       "      <td>annually</td>\n",
       "      <td>soft</td>\n",
       "      <td>good</td>\n",
       "      <td>enough</td>\n",
       "      <td>enough</td>\n",
       "      <td>river</td>\n",
       "      <td>river/lake</td>\n",
       "      <td>surface</td>\n",
       "      <td>communal standpipe</td>\n",
       "      <td>communal standpipe</td>\n",
       "    </tr>\n",
       "    <tr>\n",
       "      <th>59397</th>\n",
       "      <td>37057</td>\n",
       "      <td>0.0</td>\n",
       "      <td>2011-04-11</td>\n",
       "      <td>NaN</td>\n",
       "      <td>0</td>\n",
       "      <td>NaN</td>\n",
       "      <td>34.017087</td>\n",
       "      <td>-8.750434</td>\n",
       "      <td>Mashine</td>\n",
       "      <td>0</td>\n",
       "      <td>...</td>\n",
       "      <td>monthly</td>\n",
       "      <td>fluoride</td>\n",
       "      <td>fluoride</td>\n",
       "      <td>enough</td>\n",
       "      <td>enough</td>\n",
       "      <td>machine dbh</td>\n",
       "      <td>borehole</td>\n",
       "      <td>groundwater</td>\n",
       "      <td>hand pump</td>\n",
       "      <td>hand pump</td>\n",
       "    </tr>\n",
       "    <tr>\n",
       "      <th>59398</th>\n",
       "      <td>31282</td>\n",
       "      <td>0.0</td>\n",
       "      <td>2011-03-08</td>\n",
       "      <td>Malec</td>\n",
       "      <td>0</td>\n",
       "      <td>Musa</td>\n",
       "      <td>35.861315</td>\n",
       "      <td>-6.378573</td>\n",
       "      <td>Mshoro</td>\n",
       "      <td>0</td>\n",
       "      <td>...</td>\n",
       "      <td>never pay</td>\n",
       "      <td>soft</td>\n",
       "      <td>good</td>\n",
       "      <td>insufficient</td>\n",
       "      <td>insufficient</td>\n",
       "      <td>shallow well</td>\n",
       "      <td>shallow well</td>\n",
       "      <td>groundwater</td>\n",
       "      <td>hand pump</td>\n",
       "      <td>hand pump</td>\n",
       "    </tr>\n",
       "    <tr>\n",
       "      <th>59399</th>\n",
       "      <td>26348</td>\n",
       "      <td>0.0</td>\n",
       "      <td>2011-03-23</td>\n",
       "      <td>World Bank</td>\n",
       "      <td>191</td>\n",
       "      <td>World</td>\n",
       "      <td>38.104048</td>\n",
       "      <td>-6.747464</td>\n",
       "      <td>Kwa Mzee Lugawa</td>\n",
       "      <td>0</td>\n",
       "      <td>...</td>\n",
       "      <td>on failure</td>\n",
       "      <td>salty</td>\n",
       "      <td>salty</td>\n",
       "      <td>enough</td>\n",
       "      <td>enough</td>\n",
       "      <td>shallow well</td>\n",
       "      <td>shallow well</td>\n",
       "      <td>groundwater</td>\n",
       "      <td>hand pump</td>\n",
       "      <td>hand pump</td>\n",
       "    </tr>\n",
       "  </tbody>\n",
       "</table>\n",
       "<p>59400 rows × 40 columns</p>\n",
       "</div>"
      ],
      "text/plain": [
       "          id  amount_tsh date_recorded           funder  gps_height  \\\n",
       "0      69572      6000.0    2011-03-14            Roman        1390   \n",
       "1       8776         0.0    2013-03-06          Grumeti        1399   \n",
       "2      34310        25.0    2013-02-25     Lottery Club         686   \n",
       "3      67743         0.0    2013-01-28           Unicef         263   \n",
       "4      19728         0.0    2011-07-13      Action In A           0   \n",
       "...      ...         ...           ...              ...         ...   \n",
       "59395  60739        10.0    2013-05-03  Germany Republi        1210   \n",
       "59396  27263      4700.0    2011-05-07      Cefa-njombe        1212   \n",
       "59397  37057         0.0    2011-04-11              NaN           0   \n",
       "59398  31282         0.0    2011-03-08            Malec           0   \n",
       "59399  26348         0.0    2011-03-23       World Bank         191   \n",
       "\n",
       "          installer  longitude   latitude              wpt_name  num_private  \\\n",
       "0             Roman  34.938093  -9.856322                  none            0   \n",
       "1           GRUMETI  34.698766  -2.147466              Zahanati            0   \n",
       "2      World vision  37.460664  -3.821329           Kwa Mahundi            0   \n",
       "3            UNICEF  38.486161 -11.155298  Zahanati Ya Nanyumbu            0   \n",
       "4           Artisan  31.130847  -1.825359               Shuleni            0   \n",
       "...             ...        ...        ...                   ...          ...   \n",
       "59395           CES  37.169807  -3.253847   Area Three Namba 27            0   \n",
       "59396          Cefa  35.249991  -9.070629     Kwa Yahona Kuvala            0   \n",
       "59397           NaN  34.017087  -8.750434               Mashine            0   \n",
       "59398          Musa  35.861315  -6.378573                Mshoro            0   \n",
       "59399         World  38.104048  -6.747464       Kwa Mzee Lugawa            0   \n",
       "\n",
       "       ... payment_type water_quality quality_group      quantity  \\\n",
       "0      ...     annually          soft          good        enough   \n",
       "1      ...    never pay          soft          good  insufficient   \n",
       "2      ...   per bucket          soft          good        enough   \n",
       "3      ...    never pay          soft          good           dry   \n",
       "4      ...    never pay          soft          good      seasonal   \n",
       "...    ...          ...           ...           ...           ...   \n",
       "59395  ...   per bucket          soft          good        enough   \n",
       "59396  ...     annually          soft          good        enough   \n",
       "59397  ...      monthly      fluoride      fluoride        enough   \n",
       "59398  ...    never pay          soft          good  insufficient   \n",
       "59399  ...   on failure         salty         salty        enough   \n",
       "\n",
       "       quantity_group                source           source_type  \\\n",
       "0              enough                spring                spring   \n",
       "1        insufficient  rainwater harvesting  rainwater harvesting   \n",
       "2              enough                   dam                   dam   \n",
       "3                 dry           machine dbh              borehole   \n",
       "4            seasonal  rainwater harvesting  rainwater harvesting   \n",
       "...               ...                   ...                   ...   \n",
       "59395          enough                spring                spring   \n",
       "59396          enough                 river            river/lake   \n",
       "59397          enough           machine dbh              borehole   \n",
       "59398    insufficient          shallow well          shallow well   \n",
       "59399          enough          shallow well          shallow well   \n",
       "\n",
       "       source_class              waterpoint_type waterpoint_type_group  \n",
       "0       groundwater           communal standpipe    communal standpipe  \n",
       "1           surface           communal standpipe    communal standpipe  \n",
       "2           surface  communal standpipe multiple    communal standpipe  \n",
       "3       groundwater  communal standpipe multiple    communal standpipe  \n",
       "4           surface           communal standpipe    communal standpipe  \n",
       "...             ...                          ...                   ...  \n",
       "59395   groundwater           communal standpipe    communal standpipe  \n",
       "59396       surface           communal standpipe    communal standpipe  \n",
       "59397   groundwater                    hand pump             hand pump  \n",
       "59398   groundwater                    hand pump             hand pump  \n",
       "59399   groundwater                    hand pump             hand pump  \n",
       "\n",
       "[59400 rows x 40 columns]"
      ]
     },
     "execution_count": 238,
     "metadata": {},
     "output_type": "execute_result"
    }
   ],
   "source": [
    "data_features"
   ]
  },
  {
   "cell_type": "code",
   "execution_count": 239,
   "id": "202b2df5",
   "metadata": {},
   "outputs": [
    {
     "data": {
      "text/html": [
       "<div>\n",
       "<style scoped>\n",
       "    .dataframe tbody tr th:only-of-type {\n",
       "        vertical-align: middle;\n",
       "    }\n",
       "\n",
       "    .dataframe tbody tr th {\n",
       "        vertical-align: top;\n",
       "    }\n",
       "\n",
       "    .dataframe thead th {\n",
       "        text-align: right;\n",
       "    }\n",
       "</style>\n",
       "<table border=\"1\" class=\"dataframe\">\n",
       "  <thead>\n",
       "    <tr style=\"text-align: right;\">\n",
       "      <th></th>\n",
       "      <th>id</th>\n",
       "      <th>status_group</th>\n",
       "    </tr>\n",
       "  </thead>\n",
       "  <tbody>\n",
       "    <tr>\n",
       "      <th>0</th>\n",
       "      <td>69572</td>\n",
       "      <td>functional</td>\n",
       "    </tr>\n",
       "    <tr>\n",
       "      <th>1</th>\n",
       "      <td>8776</td>\n",
       "      <td>functional</td>\n",
       "    </tr>\n",
       "    <tr>\n",
       "      <th>2</th>\n",
       "      <td>34310</td>\n",
       "      <td>functional</td>\n",
       "    </tr>\n",
       "    <tr>\n",
       "      <th>3</th>\n",
       "      <td>67743</td>\n",
       "      <td>non functional</td>\n",
       "    </tr>\n",
       "    <tr>\n",
       "      <th>4</th>\n",
       "      <td>19728</td>\n",
       "      <td>functional</td>\n",
       "    </tr>\n",
       "  </tbody>\n",
       "</table>\n",
       "</div>"
      ],
      "text/plain": [
       "      id    status_group\n",
       "0  69572      functional\n",
       "1   8776      functional\n",
       "2  34310      functional\n",
       "3  67743  non functional\n",
       "4  19728      functional"
      ]
     },
     "execution_count": 239,
     "metadata": {},
     "output_type": "execute_result"
    }
   ],
   "source": [
    "data_targets.head()"
   ]
  },
  {
   "cell_type": "code",
   "execution_count": 240,
   "id": "4a654f5e",
   "metadata": {},
   "outputs": [
    {
     "data": {
      "text/plain": [
       "(59400, 2)"
      ]
     },
     "execution_count": 240,
     "metadata": {},
     "output_type": "execute_result"
    }
   ],
   "source": [
    "data_targets.shape"
   ]
  },
  {
   "cell_type": "code",
   "execution_count": 241,
   "id": "6c015e2e",
   "metadata": {},
   "outputs": [
    {
     "data": {
      "text/plain": [
       "(59400, 40)"
      ]
     },
     "execution_count": 241,
     "metadata": {},
     "output_type": "execute_result"
    }
   ],
   "source": [
    "data_features.shape"
   ]
  },
  {
   "cell_type": "code",
   "execution_count": 242,
   "id": "22544c5a",
   "metadata": {},
   "outputs": [],
   "source": [
    "df= data_features.merge(data_targets)"
   ]
  },
  {
   "cell_type": "code",
   "execution_count": 243,
   "id": "2bf53f34",
   "metadata": {},
   "outputs": [
    {
     "data": {
      "text/html": [
       "<div>\n",
       "<style scoped>\n",
       "    .dataframe tbody tr th:only-of-type {\n",
       "        vertical-align: middle;\n",
       "    }\n",
       "\n",
       "    .dataframe tbody tr th {\n",
       "        vertical-align: top;\n",
       "    }\n",
       "\n",
       "    .dataframe thead th {\n",
       "        text-align: right;\n",
       "    }\n",
       "</style>\n",
       "<table border=\"1\" class=\"dataframe\">\n",
       "  <thead>\n",
       "    <tr style=\"text-align: right;\">\n",
       "      <th></th>\n",
       "      <th>id</th>\n",
       "      <th>amount_tsh</th>\n",
       "      <th>date_recorded</th>\n",
       "      <th>funder</th>\n",
       "      <th>gps_height</th>\n",
       "      <th>installer</th>\n",
       "      <th>longitude</th>\n",
       "      <th>latitude</th>\n",
       "      <th>wpt_name</th>\n",
       "      <th>num_private</th>\n",
       "      <th>...</th>\n",
       "      <th>water_quality</th>\n",
       "      <th>quality_group</th>\n",
       "      <th>quantity</th>\n",
       "      <th>quantity_group</th>\n",
       "      <th>source</th>\n",
       "      <th>source_type</th>\n",
       "      <th>source_class</th>\n",
       "      <th>waterpoint_type</th>\n",
       "      <th>waterpoint_type_group</th>\n",
       "      <th>status_group</th>\n",
       "    </tr>\n",
       "  </thead>\n",
       "  <tbody>\n",
       "    <tr>\n",
       "      <th>0</th>\n",
       "      <td>69572</td>\n",
       "      <td>6000.0</td>\n",
       "      <td>2011-03-14</td>\n",
       "      <td>Roman</td>\n",
       "      <td>1390</td>\n",
       "      <td>Roman</td>\n",
       "      <td>34.938093</td>\n",
       "      <td>-9.856322</td>\n",
       "      <td>none</td>\n",
       "      <td>0</td>\n",
       "      <td>...</td>\n",
       "      <td>soft</td>\n",
       "      <td>good</td>\n",
       "      <td>enough</td>\n",
       "      <td>enough</td>\n",
       "      <td>spring</td>\n",
       "      <td>spring</td>\n",
       "      <td>groundwater</td>\n",
       "      <td>communal standpipe</td>\n",
       "      <td>communal standpipe</td>\n",
       "      <td>functional</td>\n",
       "    </tr>\n",
       "    <tr>\n",
       "      <th>1</th>\n",
       "      <td>8776</td>\n",
       "      <td>0.0</td>\n",
       "      <td>2013-03-06</td>\n",
       "      <td>Grumeti</td>\n",
       "      <td>1399</td>\n",
       "      <td>GRUMETI</td>\n",
       "      <td>34.698766</td>\n",
       "      <td>-2.147466</td>\n",
       "      <td>Zahanati</td>\n",
       "      <td>0</td>\n",
       "      <td>...</td>\n",
       "      <td>soft</td>\n",
       "      <td>good</td>\n",
       "      <td>insufficient</td>\n",
       "      <td>insufficient</td>\n",
       "      <td>rainwater harvesting</td>\n",
       "      <td>rainwater harvesting</td>\n",
       "      <td>surface</td>\n",
       "      <td>communal standpipe</td>\n",
       "      <td>communal standpipe</td>\n",
       "      <td>functional</td>\n",
       "    </tr>\n",
       "    <tr>\n",
       "      <th>2</th>\n",
       "      <td>34310</td>\n",
       "      <td>25.0</td>\n",
       "      <td>2013-02-25</td>\n",
       "      <td>Lottery Club</td>\n",
       "      <td>686</td>\n",
       "      <td>World vision</td>\n",
       "      <td>37.460664</td>\n",
       "      <td>-3.821329</td>\n",
       "      <td>Kwa Mahundi</td>\n",
       "      <td>0</td>\n",
       "      <td>...</td>\n",
       "      <td>soft</td>\n",
       "      <td>good</td>\n",
       "      <td>enough</td>\n",
       "      <td>enough</td>\n",
       "      <td>dam</td>\n",
       "      <td>dam</td>\n",
       "      <td>surface</td>\n",
       "      <td>communal standpipe multiple</td>\n",
       "      <td>communal standpipe</td>\n",
       "      <td>functional</td>\n",
       "    </tr>\n",
       "    <tr>\n",
       "      <th>3</th>\n",
       "      <td>67743</td>\n",
       "      <td>0.0</td>\n",
       "      <td>2013-01-28</td>\n",
       "      <td>Unicef</td>\n",
       "      <td>263</td>\n",
       "      <td>UNICEF</td>\n",
       "      <td>38.486161</td>\n",
       "      <td>-11.155298</td>\n",
       "      <td>Zahanati Ya Nanyumbu</td>\n",
       "      <td>0</td>\n",
       "      <td>...</td>\n",
       "      <td>soft</td>\n",
       "      <td>good</td>\n",
       "      <td>dry</td>\n",
       "      <td>dry</td>\n",
       "      <td>machine dbh</td>\n",
       "      <td>borehole</td>\n",
       "      <td>groundwater</td>\n",
       "      <td>communal standpipe multiple</td>\n",
       "      <td>communal standpipe</td>\n",
       "      <td>non functional</td>\n",
       "    </tr>\n",
       "    <tr>\n",
       "      <th>4</th>\n",
       "      <td>19728</td>\n",
       "      <td>0.0</td>\n",
       "      <td>2011-07-13</td>\n",
       "      <td>Action In A</td>\n",
       "      <td>0</td>\n",
       "      <td>Artisan</td>\n",
       "      <td>31.130847</td>\n",
       "      <td>-1.825359</td>\n",
       "      <td>Shuleni</td>\n",
       "      <td>0</td>\n",
       "      <td>...</td>\n",
       "      <td>soft</td>\n",
       "      <td>good</td>\n",
       "      <td>seasonal</td>\n",
       "      <td>seasonal</td>\n",
       "      <td>rainwater harvesting</td>\n",
       "      <td>rainwater harvesting</td>\n",
       "      <td>surface</td>\n",
       "      <td>communal standpipe</td>\n",
       "      <td>communal standpipe</td>\n",
       "      <td>functional</td>\n",
       "    </tr>\n",
       "  </tbody>\n",
       "</table>\n",
       "<p>5 rows × 41 columns</p>\n",
       "</div>"
      ],
      "text/plain": [
       "      id  amount_tsh date_recorded        funder  gps_height     installer  \\\n",
       "0  69572      6000.0    2011-03-14         Roman        1390         Roman   \n",
       "1   8776         0.0    2013-03-06       Grumeti        1399       GRUMETI   \n",
       "2  34310        25.0    2013-02-25  Lottery Club         686  World vision   \n",
       "3  67743         0.0    2013-01-28        Unicef         263        UNICEF   \n",
       "4  19728         0.0    2011-07-13   Action In A           0       Artisan   \n",
       "\n",
       "   longitude   latitude              wpt_name  num_private  ... water_quality  \\\n",
       "0  34.938093  -9.856322                  none            0  ...          soft   \n",
       "1  34.698766  -2.147466              Zahanati            0  ...          soft   \n",
       "2  37.460664  -3.821329           Kwa Mahundi            0  ...          soft   \n",
       "3  38.486161 -11.155298  Zahanati Ya Nanyumbu            0  ...          soft   \n",
       "4  31.130847  -1.825359               Shuleni            0  ...          soft   \n",
       "\n",
       "  quality_group      quantity  quantity_group                source  \\\n",
       "0          good        enough          enough                spring   \n",
       "1          good  insufficient    insufficient  rainwater harvesting   \n",
       "2          good        enough          enough                   dam   \n",
       "3          good           dry             dry           machine dbh   \n",
       "4          good      seasonal        seasonal  rainwater harvesting   \n",
       "\n",
       "            source_type source_class              waterpoint_type  \\\n",
       "0                spring  groundwater           communal standpipe   \n",
       "1  rainwater harvesting      surface           communal standpipe   \n",
       "2                   dam      surface  communal standpipe multiple   \n",
       "3              borehole  groundwater  communal standpipe multiple   \n",
       "4  rainwater harvesting      surface           communal standpipe   \n",
       "\n",
       "  waterpoint_type_group    status_group  \n",
       "0    communal standpipe      functional  \n",
       "1    communal standpipe      functional  \n",
       "2    communal standpipe      functional  \n",
       "3    communal standpipe  non functional  \n",
       "4    communal standpipe      functional  \n",
       "\n",
       "[5 rows x 41 columns]"
      ]
     },
     "execution_count": 243,
     "metadata": {},
     "output_type": "execute_result"
    }
   ],
   "source": [
    "df.head()"
   ]
  },
  {
   "cell_type": "code",
   "execution_count": 244,
   "id": "23cd178b",
   "metadata": {},
   "outputs": [
    {
     "data": {
      "text/plain": [
       "functional                 32259\n",
       "non functional             22824\n",
       "functional needs repair     4317\n",
       "Name: status_group, dtype: int64"
      ]
     },
     "execution_count": 244,
     "metadata": {},
     "output_type": "execute_result"
    }
   ],
   "source": [
    "df['status_group'].value_counts()"
   ]
  },
  {
   "cell_type": "code",
   "execution_count": 245,
   "id": "0807fbcc",
   "metadata": {},
   "outputs": [
    {
     "data": {
      "text/plain": [
       "id                           0\n",
       "amount_tsh                   0\n",
       "date_recorded                0\n",
       "funder                    3635\n",
       "gps_height                   0\n",
       "installer                 3655\n",
       "longitude                    0\n",
       "latitude                     0\n",
       "wpt_name                     0\n",
       "num_private                  0\n",
       "basin                        0\n",
       "subvillage                 371\n",
       "region                       0\n",
       "region_code                  0\n",
       "district_code                0\n",
       "lga                          0\n",
       "ward                         0\n",
       "population                   0\n",
       "public_meeting            3334\n",
       "recorded_by                  0\n",
       "scheme_management         3877\n",
       "scheme_name              28166\n",
       "permit                    3056\n",
       "construction_year            0\n",
       "extraction_type              0\n",
       "extraction_type_group        0\n",
       "extraction_type_class        0\n",
       "management                   0\n",
       "management_group             0\n",
       "payment                      0\n",
       "payment_type                 0\n",
       "water_quality                0\n",
       "quality_group                0\n",
       "quantity                     0\n",
       "quantity_group               0\n",
       "source                       0\n",
       "source_type                  0\n",
       "source_class                 0\n",
       "waterpoint_type              0\n",
       "waterpoint_type_group        0\n",
       "status_group                 0\n",
       "dtype: int64"
      ]
     },
     "execution_count": 245,
     "metadata": {},
     "output_type": "execute_result"
    }
   ],
   "source": [
    "df.isnull().sum()"
   ]
  },
  {
   "cell_type": "code",
   "execution_count": 246,
   "id": "d99b0fa5",
   "metadata": {},
   "outputs": [
    {
     "data": {
      "text/plain": [
       "0      58643\n",
       "6         81\n",
       "1         73\n",
       "5         46\n",
       "8         46\n",
       "       ...  \n",
       "180        1\n",
       "213        1\n",
       "23         1\n",
       "55         1\n",
       "94         1\n",
       "Name: num_private, Length: 65, dtype: int64"
      ]
     },
     "execution_count": 246,
     "metadata": {},
     "output_type": "execute_result"
    }
   ],
   "source": [
    "df['num_private'].value_counts()"
   ]
  },
  {
   "cell_type": "code",
   "execution_count": 247,
   "id": "5608620d",
   "metadata": {},
   "outputs": [],
   "source": [
    "##num private; will drop since no description and 99% of data = 0 (possibly missing data)"
   ]
  },
  {
   "cell_type": "code",
   "execution_count": 248,
   "id": "cc9df62e",
   "metadata": {},
   "outputs": [],
   "source": [
    "df.drop(columns=['num_private'],inplace=True)"
   ]
  },
  {
   "cell_type": "code",
   "execution_count": 249,
   "id": "8e3ab693",
   "metadata": {},
   "outputs": [
    {
     "data": {
      "text/html": [
       "<div>\n",
       "<style scoped>\n",
       "    .dataframe tbody tr th:only-of-type {\n",
       "        vertical-align: middle;\n",
       "    }\n",
       "\n",
       "    .dataframe tbody tr th {\n",
       "        vertical-align: top;\n",
       "    }\n",
       "\n",
       "    .dataframe thead th {\n",
       "        text-align: right;\n",
       "    }\n",
       "</style>\n",
       "<table border=\"1\" class=\"dataframe\">\n",
       "  <thead>\n",
       "    <tr style=\"text-align: right;\">\n",
       "      <th></th>\n",
       "      <th>id</th>\n",
       "      <th>amount_tsh</th>\n",
       "      <th>date_recorded</th>\n",
       "      <th>funder</th>\n",
       "      <th>gps_height</th>\n",
       "      <th>installer</th>\n",
       "      <th>longitude</th>\n",
       "      <th>latitude</th>\n",
       "      <th>wpt_name</th>\n",
       "      <th>basin</th>\n",
       "      <th>...</th>\n",
       "      <th>water_quality</th>\n",
       "      <th>quality_group</th>\n",
       "      <th>quantity</th>\n",
       "      <th>quantity_group</th>\n",
       "      <th>source</th>\n",
       "      <th>source_type</th>\n",
       "      <th>source_class</th>\n",
       "      <th>waterpoint_type</th>\n",
       "      <th>waterpoint_type_group</th>\n",
       "      <th>status_group</th>\n",
       "    </tr>\n",
       "  </thead>\n",
       "  <tbody>\n",
       "    <tr>\n",
       "      <th>0</th>\n",
       "      <td>69572</td>\n",
       "      <td>6000.0</td>\n",
       "      <td>2011-03-14</td>\n",
       "      <td>Roman</td>\n",
       "      <td>1390</td>\n",
       "      <td>Roman</td>\n",
       "      <td>34.938093</td>\n",
       "      <td>-9.856322</td>\n",
       "      <td>none</td>\n",
       "      <td>Lake Nyasa</td>\n",
       "      <td>...</td>\n",
       "      <td>soft</td>\n",
       "      <td>good</td>\n",
       "      <td>enough</td>\n",
       "      <td>enough</td>\n",
       "      <td>spring</td>\n",
       "      <td>spring</td>\n",
       "      <td>groundwater</td>\n",
       "      <td>communal standpipe</td>\n",
       "      <td>communal standpipe</td>\n",
       "      <td>functional</td>\n",
       "    </tr>\n",
       "    <tr>\n",
       "      <th>1</th>\n",
       "      <td>8776</td>\n",
       "      <td>0.0</td>\n",
       "      <td>2013-03-06</td>\n",
       "      <td>Grumeti</td>\n",
       "      <td>1399</td>\n",
       "      <td>GRUMETI</td>\n",
       "      <td>34.698766</td>\n",
       "      <td>-2.147466</td>\n",
       "      <td>Zahanati</td>\n",
       "      <td>Lake Victoria</td>\n",
       "      <td>...</td>\n",
       "      <td>soft</td>\n",
       "      <td>good</td>\n",
       "      <td>insufficient</td>\n",
       "      <td>insufficient</td>\n",
       "      <td>rainwater harvesting</td>\n",
       "      <td>rainwater harvesting</td>\n",
       "      <td>surface</td>\n",
       "      <td>communal standpipe</td>\n",
       "      <td>communal standpipe</td>\n",
       "      <td>functional</td>\n",
       "    </tr>\n",
       "    <tr>\n",
       "      <th>2</th>\n",
       "      <td>34310</td>\n",
       "      <td>25.0</td>\n",
       "      <td>2013-02-25</td>\n",
       "      <td>Lottery Club</td>\n",
       "      <td>686</td>\n",
       "      <td>World vision</td>\n",
       "      <td>37.460664</td>\n",
       "      <td>-3.821329</td>\n",
       "      <td>Kwa Mahundi</td>\n",
       "      <td>Pangani</td>\n",
       "      <td>...</td>\n",
       "      <td>soft</td>\n",
       "      <td>good</td>\n",
       "      <td>enough</td>\n",
       "      <td>enough</td>\n",
       "      <td>dam</td>\n",
       "      <td>dam</td>\n",
       "      <td>surface</td>\n",
       "      <td>communal standpipe multiple</td>\n",
       "      <td>communal standpipe</td>\n",
       "      <td>functional</td>\n",
       "    </tr>\n",
       "    <tr>\n",
       "      <th>3</th>\n",
       "      <td>67743</td>\n",
       "      <td>0.0</td>\n",
       "      <td>2013-01-28</td>\n",
       "      <td>Unicef</td>\n",
       "      <td>263</td>\n",
       "      <td>UNICEF</td>\n",
       "      <td>38.486161</td>\n",
       "      <td>-11.155298</td>\n",
       "      <td>Zahanati Ya Nanyumbu</td>\n",
       "      <td>Ruvuma / Southern Coast</td>\n",
       "      <td>...</td>\n",
       "      <td>soft</td>\n",
       "      <td>good</td>\n",
       "      <td>dry</td>\n",
       "      <td>dry</td>\n",
       "      <td>machine dbh</td>\n",
       "      <td>borehole</td>\n",
       "      <td>groundwater</td>\n",
       "      <td>communal standpipe multiple</td>\n",
       "      <td>communal standpipe</td>\n",
       "      <td>non functional</td>\n",
       "    </tr>\n",
       "    <tr>\n",
       "      <th>4</th>\n",
       "      <td>19728</td>\n",
       "      <td>0.0</td>\n",
       "      <td>2011-07-13</td>\n",
       "      <td>Action In A</td>\n",
       "      <td>0</td>\n",
       "      <td>Artisan</td>\n",
       "      <td>31.130847</td>\n",
       "      <td>-1.825359</td>\n",
       "      <td>Shuleni</td>\n",
       "      <td>Lake Victoria</td>\n",
       "      <td>...</td>\n",
       "      <td>soft</td>\n",
       "      <td>good</td>\n",
       "      <td>seasonal</td>\n",
       "      <td>seasonal</td>\n",
       "      <td>rainwater harvesting</td>\n",
       "      <td>rainwater harvesting</td>\n",
       "      <td>surface</td>\n",
       "      <td>communal standpipe</td>\n",
       "      <td>communal standpipe</td>\n",
       "      <td>functional</td>\n",
       "    </tr>\n",
       "  </tbody>\n",
       "</table>\n",
       "<p>5 rows × 40 columns</p>\n",
       "</div>"
      ],
      "text/plain": [
       "      id  amount_tsh date_recorded        funder  gps_height     installer  \\\n",
       "0  69572      6000.0    2011-03-14         Roman        1390         Roman   \n",
       "1   8776         0.0    2013-03-06       Grumeti        1399       GRUMETI   \n",
       "2  34310        25.0    2013-02-25  Lottery Club         686  World vision   \n",
       "3  67743         0.0    2013-01-28        Unicef         263        UNICEF   \n",
       "4  19728         0.0    2011-07-13   Action In A           0       Artisan   \n",
       "\n",
       "   longitude   latitude              wpt_name                    basin  ...  \\\n",
       "0  34.938093  -9.856322                  none               Lake Nyasa  ...   \n",
       "1  34.698766  -2.147466              Zahanati            Lake Victoria  ...   \n",
       "2  37.460664  -3.821329           Kwa Mahundi                  Pangani  ...   \n",
       "3  38.486161 -11.155298  Zahanati Ya Nanyumbu  Ruvuma / Southern Coast  ...   \n",
       "4  31.130847  -1.825359               Shuleni            Lake Victoria  ...   \n",
       "\n",
       "  water_quality quality_group      quantity  quantity_group  \\\n",
       "0          soft          good        enough          enough   \n",
       "1          soft          good  insufficient    insufficient   \n",
       "2          soft          good        enough          enough   \n",
       "3          soft          good           dry             dry   \n",
       "4          soft          good      seasonal        seasonal   \n",
       "\n",
       "                 source           source_type  source_class  \\\n",
       "0                spring                spring   groundwater   \n",
       "1  rainwater harvesting  rainwater harvesting       surface   \n",
       "2                   dam                   dam       surface   \n",
       "3           machine dbh              borehole   groundwater   \n",
       "4  rainwater harvesting  rainwater harvesting       surface   \n",
       "\n",
       "               waterpoint_type waterpoint_type_group    status_group  \n",
       "0           communal standpipe    communal standpipe      functional  \n",
       "1           communal standpipe    communal standpipe      functional  \n",
       "2  communal standpipe multiple    communal standpipe      functional  \n",
       "3  communal standpipe multiple    communal standpipe  non functional  \n",
       "4           communal standpipe    communal standpipe      functional  \n",
       "\n",
       "[5 rows x 40 columns]"
      ]
     },
     "execution_count": 249,
     "metadata": {},
     "output_type": "execute_result"
    }
   ],
   "source": [
    "df.head()"
   ]
  },
  {
   "cell_type": "code",
   "execution_count": 250,
   "id": "987af9b1",
   "metadata": {},
   "outputs": [],
   "source": [
    "##potentially drop public meeting"
   ]
  },
  {
   "cell_type": "code",
   "execution_count": 251,
   "id": "3e773969",
   "metadata": {},
   "outputs": [
    {
     "data": {
      "text/plain": [
       "True     51011\n",
       "False     5055\n",
       "Name: public_meeting, dtype: int64"
      ]
     },
     "execution_count": 251,
     "metadata": {},
     "output_type": "execute_result"
    }
   ],
   "source": [
    "df['public_meeting'].value_counts()"
   ]
  },
  {
   "cell_type": "code",
   "execution_count": 252,
   "id": "5b12f2a4",
   "metadata": {},
   "outputs": [],
   "source": [
    "#assuming people recording data are recording true values so will drop row"
   ]
  },
  {
   "cell_type": "code",
   "execution_count": 253,
   "id": "afad49c6",
   "metadata": {},
   "outputs": [],
   "source": [
    "df.drop(columns=['recorded_by'], inplace=True)"
   ]
  },
  {
   "cell_type": "code",
   "execution_count": 254,
   "id": "4a93deba",
   "metadata": {},
   "outputs": [
    {
     "data": {
      "text/plain": [
       "enough          33186\n",
       "insufficient    15129\n",
       "dry              6246\n",
       "seasonal         4050\n",
       "unknown           789\n",
       "Name: quantity, dtype: int64"
      ]
     },
     "execution_count": 254,
     "metadata": {},
     "output_type": "execute_result"
    }
   ],
   "source": [
    "df.quantity.value_counts()"
   ]
  },
  {
   "cell_type": "code",
   "execution_count": 255,
   "id": "482fd96e",
   "metadata": {},
   "outputs": [
    {
     "data": {
      "text/plain": [
       "enough          33186\n",
       "insufficient    15129\n",
       "dry              6246\n",
       "seasonal         4050\n",
       "unknown           789\n",
       "Name: quantity_group, dtype: int64"
      ]
     },
     "execution_count": 255,
     "metadata": {},
     "output_type": "execute_result"
    }
   ],
   "source": [
    "df.quantity_group.value_counts()"
   ]
  },
  {
   "cell_type": "code",
   "execution_count": 256,
   "id": "8e6c58a4",
   "metadata": {},
   "outputs": [],
   "source": [
    "#columns represent same values, will drop quantity_group"
   ]
  },
  {
   "cell_type": "code",
   "execution_count": 257,
   "id": "8476a993",
   "metadata": {},
   "outputs": [],
   "source": [
    "df.drop(columns=['quantity_group'], inplace=True)"
   ]
  },
  {
   "cell_type": "code",
   "execution_count": 258,
   "id": "bfe702fd",
   "metadata": {},
   "outputs": [
    {
     "data": {
      "text/plain": [
       "spring                  17021\n",
       "shallow well            16824\n",
       "machine dbh             11075\n",
       "river                    9612\n",
       "rainwater harvesting     2295\n",
       "hand dtw                  874\n",
       "lake                      765\n",
       "dam                       656\n",
       "other                     212\n",
       "unknown                    66\n",
       "Name: source, dtype: int64"
      ]
     },
     "execution_count": 258,
     "metadata": {},
     "output_type": "execute_result"
    }
   ],
   "source": [
    "df.source.value_counts()\n"
   ]
  },
  {
   "cell_type": "code",
   "execution_count": 259,
   "id": "1f40e3ec",
   "metadata": {},
   "outputs": [
    {
     "data": {
      "text/plain": [
       "spring                  17021\n",
       "shallow well            16824\n",
       "borehole                11949\n",
       "river/lake              10377\n",
       "rainwater harvesting     2295\n",
       "dam                       656\n",
       "other                     278\n",
       "Name: source_type, dtype: int64"
      ]
     },
     "execution_count": 259,
     "metadata": {},
     "output_type": "execute_result"
    }
   ],
   "source": [
    "df.source_type.value_counts()"
   ]
  },
  {
   "cell_type": "code",
   "execution_count": 260,
   "id": "51f93b58",
   "metadata": {},
   "outputs": [
    {
     "data": {
      "text/plain": [
       "groundwater    45794\n",
       "surface        13328\n",
       "unknown          278\n",
       "Name: source_class, dtype: int64"
      ]
     },
     "execution_count": 260,
     "metadata": {},
     "output_type": "execute_result"
    }
   ],
   "source": [
    "df.source_class.value_counts()"
   ]
  },
  {
   "cell_type": "code",
   "execution_count": 261,
   "id": "283a52d5",
   "metadata": {},
   "outputs": [],
   "source": [
    "#dropping source_type since it contains same info as source and source is more robust"
   ]
  },
  {
   "cell_type": "code",
   "execution_count": 262,
   "id": "c704e069",
   "metadata": {},
   "outputs": [],
   "source": [
    "df.drop(columns=['source_type'], inplace=True)"
   ]
  },
  {
   "cell_type": "code",
   "execution_count": 263,
   "id": "653dfcfe",
   "metadata": {},
   "outputs": [
    {
     "data": {
      "text/plain": [
       "communal standpipe             28522\n",
       "hand pump                      17488\n",
       "other                           6380\n",
       "communal standpipe multiple     6103\n",
       "improved spring                  784\n",
       "cattle trough                    116\n",
       "dam                                7\n",
       "Name: waterpoint_type, dtype: int64"
      ]
     },
     "execution_count": 263,
     "metadata": {},
     "output_type": "execute_result"
    }
   ],
   "source": [
    "df.waterpoint_type.value_counts()"
   ]
  },
  {
   "cell_type": "code",
   "execution_count": 264,
   "id": "ede766dc",
   "metadata": {},
   "outputs": [
    {
     "data": {
      "text/plain": [
       "communal standpipe    34625\n",
       "hand pump             17488\n",
       "other                  6380\n",
       "improved spring         784\n",
       "cattle trough           116\n",
       "dam                       7\n",
       "Name: waterpoint_type_group, dtype: int64"
      ]
     },
     "execution_count": 264,
     "metadata": {},
     "output_type": "execute_result"
    }
   ],
   "source": [
    "df.waterpoint_type_group.value_counts()"
   ]
  },
  {
   "cell_type": "code",
   "execution_count": 265,
   "id": "53df5520",
   "metadata": {},
   "outputs": [],
   "source": [
    "#dropping waterpoint_type_group, duplicate info from waterpoint_type"
   ]
  },
  {
   "cell_type": "code",
   "execution_count": 266,
   "id": "fa7fecb7",
   "metadata": {},
   "outputs": [],
   "source": [
    "df.drop(columns=['waterpoint_type_group'], inplace=True)"
   ]
  },
  {
   "cell_type": "code",
   "execution_count": 267,
   "id": "6afe9e51",
   "metadata": {},
   "outputs": [
    {
     "data": {
      "text/plain": [
       "id                           0\n",
       "amount_tsh                   0\n",
       "date_recorded                0\n",
       "funder                    3635\n",
       "gps_height                   0\n",
       "installer                 3655\n",
       "longitude                    0\n",
       "latitude                     0\n",
       "wpt_name                     0\n",
       "basin                        0\n",
       "subvillage                 371\n",
       "region                       0\n",
       "region_code                  0\n",
       "district_code                0\n",
       "lga                          0\n",
       "ward                         0\n",
       "population                   0\n",
       "public_meeting            3334\n",
       "scheme_management         3877\n",
       "scheme_name              28166\n",
       "permit                    3056\n",
       "construction_year            0\n",
       "extraction_type              0\n",
       "extraction_type_group        0\n",
       "extraction_type_class        0\n",
       "management                   0\n",
       "management_group             0\n",
       "payment                      0\n",
       "payment_type                 0\n",
       "water_quality                0\n",
       "quality_group                0\n",
       "quantity                     0\n",
       "source                       0\n",
       "source_class                 0\n",
       "waterpoint_type              0\n",
       "status_group                 0\n",
       "dtype: int64"
      ]
     },
     "execution_count": 267,
     "metadata": {},
     "output_type": "execute_result"
    }
   ],
   "source": [
    "df.isna().sum()"
   ]
  },
  {
   "cell_type": "code",
   "execution_count": 268,
   "id": "f3f1a0a6",
   "metadata": {},
   "outputs": [
    {
     "data": {
      "text/plain": [
       "Government Of Tanzania    9084\n",
       "NaN                       3635\n",
       "Danida                    3114\n",
       "Hesawa                    2202\n",
       "Rwssp                     1374\n",
       "                          ... \n",
       "Mwita Lucas                  1\n",
       "Dwsdp                        1\n",
       "Cathoric                     1\n",
       "Uaacc                        1\n",
       "Dwe/anglican Church          1\n",
       "Name: funder, Length: 1898, dtype: int64"
      ]
     },
     "execution_count": 268,
     "metadata": {},
     "output_type": "execute_result"
    }
   ],
   "source": [
    "df.funder.value_counts(dropna=False)"
   ]
  },
  {
   "cell_type": "code",
   "execution_count": 269,
   "id": "94e72887",
   "metadata": {},
   "outputs": [
    {
     "data": {
      "text/plain": [
       "count                      55765\n",
       "unique                      1897\n",
       "top       Government Of Tanzania\n",
       "freq                        9084\n",
       "Name: funder, dtype: object"
      ]
     },
     "execution_count": 269,
     "metadata": {},
     "output_type": "execute_result"
    }
   ],
   "source": [
    "df.funder.describe()"
   ]
  },
  {
   "cell_type": "code",
   "execution_count": 270,
   "id": "c53ec264",
   "metadata": {},
   "outputs": [
    {
     "data": {
      "text/plain": [
       "(59400, 36)"
      ]
     },
     "execution_count": 270,
     "metadata": {},
     "output_type": "execute_result"
    }
   ],
   "source": [
    "df.shape"
   ]
  },
  {
   "cell_type": "code",
   "execution_count": 271,
   "id": "e0fdc6b8",
   "metadata": {},
   "outputs": [
    {
     "data": {
      "text/plain": [
       "0.0611952861952862"
      ]
     },
     "execution_count": 271,
     "metadata": {},
     "output_type": "execute_result"
    }
   ],
   "source": [
    "3635/59400"
   ]
  },
  {
   "cell_type": "code",
   "execution_count": 272,
   "id": "aaefb068",
   "metadata": {},
   "outputs": [],
   "source": [
    "#nulls in 6% of our data for funder and installer and 2nd highest value, do not want to drop, will change nulls to value of \"Unknown\""
   ]
  },
  {
   "cell_type": "code",
   "execution_count": 273,
   "id": "96dc635a",
   "metadata": {},
   "outputs": [],
   "source": [
    "df.funder.fillna(value='Unknown', inplace=True)"
   ]
  },
  {
   "cell_type": "code",
   "execution_count": 274,
   "id": "06749e41",
   "metadata": {},
   "outputs": [
    {
     "data": {
      "text/plain": [
       "Government Of Tanzania    9084\n",
       "Unknown                   3639\n",
       "Danida                    3114\n",
       "Hesawa                    2202\n",
       "Rwssp                     1374\n",
       "                          ... \n",
       "Pori La Akiba Kigosi         1\n",
       "Doctor Mwambi                1\n",
       "Pentecost                    1\n",
       "Water /sema                  1\n",
       "Village Res                  1\n",
       "Name: funder, Length: 1897, dtype: int64"
      ]
     },
     "execution_count": 274,
     "metadata": {},
     "output_type": "execute_result"
    }
   ],
   "source": [
    "df.funder.value_counts(dropna=False)"
   ]
  },
  {
   "cell_type": "code",
   "execution_count": 275,
   "id": "18cf9dbc",
   "metadata": {},
   "outputs": [],
   "source": [
    "df.installer.fillna(value='Unknown', inplace=True)"
   ]
  },
  {
   "cell_type": "code",
   "execution_count": 276,
   "id": "52b8f008",
   "metadata": {},
   "outputs": [
    {
     "data": {
      "text/plain": [
       "id                           0\n",
       "amount_tsh                   0\n",
       "date_recorded                0\n",
       "funder                       0\n",
       "gps_height                   0\n",
       "installer                    0\n",
       "longitude                    0\n",
       "latitude                     0\n",
       "wpt_name                     0\n",
       "basin                        0\n",
       "subvillage                 371\n",
       "region                       0\n",
       "region_code                  0\n",
       "district_code                0\n",
       "lga                          0\n",
       "ward                         0\n",
       "population                   0\n",
       "public_meeting            3334\n",
       "scheme_management         3877\n",
       "scheme_name              28166\n",
       "permit                    3056\n",
       "construction_year            0\n",
       "extraction_type              0\n",
       "extraction_type_group        0\n",
       "extraction_type_class        0\n",
       "management                   0\n",
       "management_group             0\n",
       "payment                      0\n",
       "payment_type                 0\n",
       "water_quality                0\n",
       "quality_group                0\n",
       "quantity                     0\n",
       "source                       0\n",
       "source_class                 0\n",
       "waterpoint_type              0\n",
       "status_group                 0\n",
       "dtype: int64"
      ]
     },
     "execution_count": 276,
     "metadata": {},
     "output_type": "execute_result"
    }
   ],
   "source": [
    "df.isna().sum()"
   ]
  },
  {
   "cell_type": "code",
   "execution_count": 277,
   "id": "d9eb7efd",
   "metadata": {},
   "outputs": [
    {
     "data": {
      "text/plain": [
       "Madukani             508\n",
       "Shuleni              506\n",
       "Majengo              502\n",
       "Kati                 373\n",
       "Mtakuja              262\n",
       "                    ... \n",
       "Kigo                   1\n",
       "Kwawanyasa             1\n",
       "Chechenza              1\n",
       "Parokiani Kimbiji      1\n",
       "Mwazwagi A             1\n",
       "Name: subvillage, Length: 19287, dtype: int64"
      ]
     },
     "execution_count": 277,
     "metadata": {},
     "output_type": "execute_result"
    }
   ],
   "source": [
    "df.subvillage.value_counts()"
   ]
  },
  {
   "cell_type": "code",
   "execution_count": 278,
   "id": "a3edaf85",
   "metadata": {},
   "outputs": [
    {
     "data": {
      "text/plain": [
       "count        59029\n",
       "unique       19287\n",
       "top       Madukani\n",
       "freq           508\n",
       "Name: subvillage, dtype: object"
      ]
     },
     "execution_count": 278,
     "metadata": {},
     "output_type": "execute_result"
    }
   ],
   "source": [
    "df.subvillage.describe()"
   ]
  },
  {
   "cell_type": "code",
   "execution_count": 279,
   "id": "71879cf9",
   "metadata": {},
   "outputs": [
    {
     "data": {
      "text/plain": [
       "0.0062457912457912455"
      ]
     },
     "execution_count": 279,
     "metadata": {},
     "output_type": "execute_result"
    }
   ],
   "source": [
    "371/59400"
   ]
  },
  {
   "cell_type": "code",
   "execution_count": 280,
   "id": "4be6d0b0",
   "metadata": {},
   "outputs": [],
   "source": [
    "#Since Nan values of subvillage are <1% of data, will drop rows"
   ]
  },
  {
   "cell_type": "code",
   "execution_count": 281,
   "id": "114849fa",
   "metadata": {},
   "outputs": [],
   "source": [
    "df.dropna(subset=['subvillage'], inplace=True)"
   ]
  },
  {
   "cell_type": "code",
   "execution_count": 282,
   "id": "e0edc097",
   "metadata": {},
   "outputs": [
    {
     "data": {
      "text/plain": [
       "(59029, 36)"
      ]
     },
     "execution_count": 282,
     "metadata": {},
     "output_type": "execute_result"
    }
   ],
   "source": [
    "df.shape"
   ]
  },
  {
   "cell_type": "code",
   "execution_count": 283,
   "id": "fcf35e12",
   "metadata": {},
   "outputs": [
    {
     "data": {
      "text/plain": [
       "id                           0\n",
       "amount_tsh                   0\n",
       "date_recorded                0\n",
       "funder                       0\n",
       "gps_height                   0\n",
       "installer                    0\n",
       "longitude                    0\n",
       "latitude                     0\n",
       "wpt_name                     0\n",
       "basin                        0\n",
       "subvillage                   0\n",
       "region                       0\n",
       "region_code                  0\n",
       "district_code                0\n",
       "lga                          0\n",
       "ward                         0\n",
       "population                   0\n",
       "public_meeting            3333\n",
       "scheme_management         3869\n",
       "scheme_name              28157\n",
       "permit                    3056\n",
       "construction_year            0\n",
       "extraction_type              0\n",
       "extraction_type_group        0\n",
       "extraction_type_class        0\n",
       "management                   0\n",
       "management_group             0\n",
       "payment                      0\n",
       "payment_type                 0\n",
       "water_quality                0\n",
       "quality_group                0\n",
       "quantity                     0\n",
       "source                       0\n",
       "source_class                 0\n",
       "waterpoint_type              0\n",
       "status_group                 0\n",
       "dtype: int64"
      ]
     },
     "execution_count": 283,
     "metadata": {},
     "output_type": "execute_result"
    }
   ],
   "source": [
    "df.isna().sum()"
   ]
  },
  {
   "cell_type": "code",
   "execution_count": 284,
   "id": "e7846377",
   "metadata": {},
   "outputs": [
    {
     "data": {
      "text/plain": [
       "True     50642\n",
       "False     5054\n",
       "Name: public_meeting, dtype: int64"
      ]
     },
     "execution_count": 284,
     "metadata": {},
     "output_type": "execute_result"
    }
   ],
   "source": [
    "df.public_meeting.value_counts()"
   ]
  },
  {
   "cell_type": "code",
   "execution_count": 285,
   "id": "a8cfb8dc",
   "metadata": {},
   "outputs": [],
   "source": [
    "df.public_meeting.fillna(value='Unknown', inplace=True)"
   ]
  },
  {
   "cell_type": "code",
   "execution_count": 286,
   "id": "1e1728f7",
   "metadata": {},
   "outputs": [
    {
     "data": {
      "text/plain": [
       "VWC                 36437\n",
       "WUG                  5206\n",
       "Water authority      3147\n",
       "WUA                  2883\n",
       "Water Board          2747\n",
       "Parastatal           1680\n",
       "Private operator     1063\n",
       "Company              1061\n",
       "Other                 766\n",
       "SWC                    97\n",
       "Trust                  72\n",
       "None                    1\n",
       "Name: scheme_management, dtype: int64"
      ]
     },
     "execution_count": 286,
     "metadata": {},
     "output_type": "execute_result"
    }
   ],
   "source": [
    "df.scheme_management.value_counts()"
   ]
  },
  {
   "cell_type": "code",
   "execution_count": 287,
   "id": "e2c9ddd0",
   "metadata": {},
   "outputs": [
    {
     "data": {
      "text/plain": [
       "K                          682\n",
       "None                       644\n",
       "Borehole                   546\n",
       "Chalinze wate              405\n",
       "M                          400\n",
       "                          ... \n",
       "Lake Tanganyika Basin        1\n",
       "Ngiresi  pipe line           1\n",
       "Ruvu Gwata water supply      1\n",
       "TM Lawate  water supply      1\n",
       "Visiga water Suplly          1\n",
       "Name: scheme_name, Length: 2652, dtype: int64"
      ]
     },
     "execution_count": 287,
     "metadata": {},
     "output_type": "execute_result"
    }
   ],
   "source": [
    "df.scheme_name.value_counts()"
   ]
  },
  {
   "cell_type": "code",
   "execution_count": 288,
   "id": "442bddc7",
   "metadata": {},
   "outputs": [],
   "source": [
    "#will drop scheme name, scheme management captures similar data more cleanly; \n",
    "#scheme name has large amount of NaNs as well"
   ]
  },
  {
   "cell_type": "code",
   "execution_count": 289,
   "id": "788ddfc0",
   "metadata": {},
   "outputs": [],
   "source": [
    "df.drop(columns=['scheme_name'], inplace=True)"
   ]
  },
  {
   "cell_type": "code",
   "execution_count": 290,
   "id": "f04c53d9",
   "metadata": {},
   "outputs": [],
   "source": [
    "df.scheme_management.fillna(value='Unknown', inplace=True)"
   ]
  },
  {
   "cell_type": "code",
   "execution_count": 291,
   "id": "bff589c7",
   "metadata": {},
   "outputs": [
    {
     "data": {
      "text/plain": [
       "True     38793\n",
       "False    17180\n",
       "NaN       3056\n",
       "Name: permit, dtype: int64"
      ]
     },
     "execution_count": 291,
     "metadata": {},
     "output_type": "execute_result"
    }
   ],
   "source": [
    "df.permit.value_counts(dropna=False)"
   ]
  },
  {
   "cell_type": "code",
   "execution_count": 292,
   "id": "e9a3c0d5",
   "metadata": {},
   "outputs": [
    {
     "data": {
      "text/plain": [
       "0.07877709896115279"
      ]
     },
     "execution_count": 292,
     "metadata": {},
     "output_type": "execute_result"
    }
   ],
   "source": [
    "3056/38793"
   ]
  },
  {
   "cell_type": "code",
   "execution_count": 293,
   "id": "4f4c38cc",
   "metadata": {},
   "outputs": [],
   "source": [
    "#replacing NaNs with the mode (True)"
   ]
  },
  {
   "cell_type": "code",
   "execution_count": 294,
   "id": "14ac0ab4",
   "metadata": {},
   "outputs": [],
   "source": [
    "df.permit.fillna(value=True, inplace=True)"
   ]
  },
  {
   "cell_type": "code",
   "execution_count": 295,
   "id": "adca9a28",
   "metadata": {},
   "outputs": [
    {
     "data": {
      "text/plain": [
       "True     41849\n",
       "False    17180\n",
       "Name: permit, dtype: int64"
      ]
     },
     "execution_count": 295,
     "metadata": {},
     "output_type": "execute_result"
    }
   ],
   "source": [
    "df.permit.value_counts()"
   ]
  },
  {
   "cell_type": "code",
   "execution_count": 296,
   "id": "37aca53b",
   "metadata": {},
   "outputs": [
    {
     "data": {
      "text/plain": [
       "id                       0\n",
       "amount_tsh               0\n",
       "date_recorded            0\n",
       "funder                   0\n",
       "gps_height               0\n",
       "installer                0\n",
       "longitude                0\n",
       "latitude                 0\n",
       "wpt_name                 0\n",
       "basin                    0\n",
       "subvillage               0\n",
       "region                   0\n",
       "region_code              0\n",
       "district_code            0\n",
       "lga                      0\n",
       "ward                     0\n",
       "population               0\n",
       "public_meeting           0\n",
       "scheme_management        0\n",
       "permit                   0\n",
       "construction_year        0\n",
       "extraction_type          0\n",
       "extraction_type_group    0\n",
       "extraction_type_class    0\n",
       "management               0\n",
       "management_group         0\n",
       "payment                  0\n",
       "payment_type             0\n",
       "water_quality            0\n",
       "quality_group            0\n",
       "quantity                 0\n",
       "source                   0\n",
       "source_class             0\n",
       "waterpoint_type          0\n",
       "status_group             0\n",
       "dtype: int64"
      ]
     },
     "execution_count": 296,
     "metadata": {},
     "output_type": "execute_result"
    }
   ],
   "source": [
    "df.isna().sum()"
   ]
  },
  {
   "cell_type": "code",
   "execution_count": 297,
   "id": "2cd9952b",
   "metadata": {},
   "outputs": [],
   "source": [
    "#addressed all of our null values, will reformat necessary columns\n",
    "#convert construction year to age \n",
    "#best variables to think about location"
   ]
  },
  {
   "cell_type": "code",
   "execution_count": 298,
   "id": "393a37ec",
   "metadata": {},
   "outputs": [
    {
     "data": {
      "text/plain": [
       "0       20348\n",
       "2010     2644\n",
       "2008     2613\n",
       "2009     2533\n",
       "2000     2091\n",
       "2007     1586\n",
       "2006     1471\n",
       "2003     1286\n",
       "2011     1254\n",
       "2004     1123\n",
       "2012     1084\n",
       "2002     1075\n",
       "1978     1037\n",
       "1995     1013\n",
       "2005     1009\n",
       "1999      978\n",
       "1998      966\n",
       "1990      954\n",
       "1985      945\n",
       "1980      811\n",
       "1996      811\n",
       "1984      779\n",
       "1982      744\n",
       "1994      738\n",
       "1972      707\n",
       "1974      676\n",
       "1997      644\n",
       "1992      640\n",
       "1993      608\n",
       "2001      539\n",
       "1988      521\n",
       "1983      488\n",
       "1975      437\n",
       "1986      434\n",
       "1976      414\n",
       "1970      411\n",
       "1991      324\n",
       "1989      316\n",
       "1987      302\n",
       "1981      238\n",
       "1977      202\n",
       "1979      192\n",
       "1973      184\n",
       "2013      176\n",
       "1971      145\n",
       "1960      102\n",
       "1967       88\n",
       "1963       85\n",
       "1968       77\n",
       "1969       59\n",
       "1964       40\n",
       "1962       30\n",
       "1961       21\n",
       "1965       19\n",
       "1966       17\n",
       "Name: construction_year, dtype: int64"
      ]
     },
     "execution_count": 298,
     "metadata": {},
     "output_type": "execute_result"
    }
   ],
   "source": [
    "df.construction_year.value_counts()"
   ]
  },
  {
   "cell_type": "code",
   "execution_count": 299,
   "id": "efa70cf2",
   "metadata": {},
   "outputs": [
    {
     "data": {
      "text/plain": [
       "(59029,)"
      ]
     },
     "execution_count": 299,
     "metadata": {},
     "output_type": "execute_result"
    }
   ],
   "source": [
    "df.construction_year.shape"
   ]
  },
  {
   "cell_type": "code",
   "execution_count": 300,
   "id": "cc5c3269",
   "metadata": {},
   "outputs": [
    {
     "data": {
      "text/plain": [
       "0.34471192125904215"
      ]
     },
     "execution_count": 300,
     "metadata": {},
     "output_type": "execute_result"
    }
   ],
   "source": [
    "20348/59029"
   ]
  },
  {
   "cell_type": "code",
   "execution_count": 301,
   "id": "d5908af1",
   "metadata": {},
   "outputs": [],
   "source": [
    "#Upon further exploration, we see 34% of our data is missing the year construction"
   ]
  },
  {
   "cell_type": "code",
   "execution_count": 302,
   "id": "c2d8c3c1",
   "metadata": {},
   "outputs": [
    {
     "data": {
      "text/plain": [
       "count    59029.000000\n",
       "mean      1308.488048\n",
       "std        949.095754\n",
       "min          0.000000\n",
       "25%          0.000000\n",
       "50%       1986.000000\n",
       "75%       2004.000000\n",
       "max       2013.000000\n",
       "Name: construction_year, dtype: float64"
      ]
     },
     "execution_count": 302,
     "metadata": {},
     "output_type": "execute_result"
    }
   ],
   "source": [
    "df.construction_year.describe()"
   ]
  },
  {
   "cell_type": "code",
   "execution_count": 303,
   "id": "8b032953",
   "metadata": {},
   "outputs": [],
   "source": [
    "df_years = df.construction_year"
   ]
  },
  {
   "cell_type": "code",
   "execution_count": 304,
   "id": "9d5a5bf2",
   "metadata": {},
   "outputs": [
    {
     "data": {
      "text/plain": [
       "0        1999\n",
       "1        2010\n",
       "2        2009\n",
       "3        1986\n",
       "4           0\n",
       "         ... \n",
       "59395    1999\n",
       "59396    1996\n",
       "59397       0\n",
       "59398       0\n",
       "59399    2002\n",
       "Name: construction_year, Length: 59029, dtype: int64"
      ]
     },
     "execution_count": 304,
     "metadata": {},
     "output_type": "execute_result"
    }
   ],
   "source": [
    "df_years"
   ]
  },
  {
   "cell_type": "code",
   "execution_count": 305,
   "id": "3dfa7d1f",
   "metadata": {},
   "outputs": [],
   "source": [
    "df_years = df_years[df_years != 0]"
   ]
  },
  {
   "cell_type": "code",
   "execution_count": 306,
   "id": "a0ce0450",
   "metadata": {},
   "outputs": [
    {
     "data": {
      "text/plain": [
       "0        1999\n",
       "1        2010\n",
       "2        2009\n",
       "3        1986\n",
       "5        2009\n",
       "         ... \n",
       "59391    1967\n",
       "59394    2007\n",
       "59395    1999\n",
       "59396    1996\n",
       "59399    2002\n",
       "Name: construction_year, Length: 38681, dtype: int64"
      ]
     },
     "execution_count": 306,
     "metadata": {},
     "output_type": "execute_result"
    }
   ],
   "source": [
    "df_years"
   ]
  },
  {
   "cell_type": "code",
   "execution_count": 307,
   "id": "6402996c",
   "metadata": {},
   "outputs": [
    {
     "data": {
      "text/plain": [
       "count    38681.000000\n",
       "mean      1996.813448\n",
       "std         12.472149\n",
       "min       1960.000000\n",
       "25%       1987.000000\n",
       "50%       2000.000000\n",
       "75%       2008.000000\n",
       "max       2013.000000\n",
       "Name: construction_year, dtype: float64"
      ]
     },
     "execution_count": 307,
     "metadata": {},
     "output_type": "execute_result"
    }
   ],
   "source": [
    "df_years.describe()"
   ]
  },
  {
   "cell_type": "code",
   "execution_count": 308,
   "id": "d4fe4ccc",
   "metadata": {},
   "outputs": [],
   "source": [
    "#Obtaining median value once we removed all of the 0s; we get a median of 2000. \n",
    "#We will replace our missing values with 2000 for construction year"
   ]
  },
  {
   "cell_type": "code",
   "execution_count": 309,
   "id": "11b3797a",
   "metadata": {},
   "outputs": [],
   "source": [
    "df.construction_year.replace(to_replace=0, value=2000, inplace=True)"
   ]
  },
  {
   "cell_type": "code",
   "execution_count": 310,
   "id": "07088e06",
   "metadata": {},
   "outputs": [
    {
     "data": {
      "text/plain": [
       "2000    22439\n",
       "2010     2644\n",
       "2008     2613\n",
       "2009     2533\n",
       "2007     1586\n",
       "2006     1471\n",
       "2003     1286\n",
       "2011     1254\n",
       "2004     1123\n",
       "2012     1084\n",
       "2002     1075\n",
       "1978     1037\n",
       "1995     1013\n",
       "2005     1009\n",
       "1999      978\n",
       "1998      966\n",
       "1990      954\n",
       "1985      945\n",
       "1996      811\n",
       "1980      811\n",
       "1984      779\n",
       "1982      744\n",
       "1994      738\n",
       "1972      707\n",
       "1974      676\n",
       "1997      644\n",
       "1992      640\n",
       "1993      608\n",
       "2001      539\n",
       "1988      521\n",
       "1983      488\n",
       "1975      437\n",
       "1986      434\n",
       "1976      414\n",
       "1970      411\n",
       "1991      324\n",
       "1989      316\n",
       "1987      302\n",
       "1981      238\n",
       "1977      202\n",
       "1979      192\n",
       "1973      184\n",
       "2013      176\n",
       "1971      145\n",
       "1960      102\n",
       "1967       88\n",
       "1963       85\n",
       "1968       77\n",
       "1969       59\n",
       "1964       40\n",
       "1962       30\n",
       "1961       21\n",
       "1965       19\n",
       "1966       17\n",
       "Name: construction_year, dtype: int64"
      ]
     },
     "execution_count": 310,
     "metadata": {},
     "output_type": "execute_result"
    }
   ],
   "source": [
    "df.construction_year.value_counts()"
   ]
  },
  {
   "cell_type": "code",
   "execution_count": 311,
   "id": "6774cfcd",
   "metadata": {},
   "outputs": [],
   "source": [
    "df['age'] = 2022 - df['construction_year']"
   ]
  },
  {
   "cell_type": "code",
   "execution_count": 312,
   "id": "933eadc8",
   "metadata": {},
   "outputs": [
    {
     "data": {
      "text/html": [
       "<div>\n",
       "<style scoped>\n",
       "    .dataframe tbody tr th:only-of-type {\n",
       "        vertical-align: middle;\n",
       "    }\n",
       "\n",
       "    .dataframe tbody tr th {\n",
       "        vertical-align: top;\n",
       "    }\n",
       "\n",
       "    .dataframe thead th {\n",
       "        text-align: right;\n",
       "    }\n",
       "</style>\n",
       "<table border=\"1\" class=\"dataframe\">\n",
       "  <thead>\n",
       "    <tr style=\"text-align: right;\">\n",
       "      <th></th>\n",
       "      <th>id</th>\n",
       "      <th>amount_tsh</th>\n",
       "      <th>date_recorded</th>\n",
       "      <th>funder</th>\n",
       "      <th>gps_height</th>\n",
       "      <th>installer</th>\n",
       "      <th>longitude</th>\n",
       "      <th>latitude</th>\n",
       "      <th>wpt_name</th>\n",
       "      <th>basin</th>\n",
       "      <th>...</th>\n",
       "      <th>payment</th>\n",
       "      <th>payment_type</th>\n",
       "      <th>water_quality</th>\n",
       "      <th>quality_group</th>\n",
       "      <th>quantity</th>\n",
       "      <th>source</th>\n",
       "      <th>source_class</th>\n",
       "      <th>waterpoint_type</th>\n",
       "      <th>status_group</th>\n",
       "      <th>age</th>\n",
       "    </tr>\n",
       "  </thead>\n",
       "  <tbody>\n",
       "    <tr>\n",
       "      <th>0</th>\n",
       "      <td>69572</td>\n",
       "      <td>6000.0</td>\n",
       "      <td>2011-03-14</td>\n",
       "      <td>Roman</td>\n",
       "      <td>1390</td>\n",
       "      <td>Roman</td>\n",
       "      <td>34.938093</td>\n",
       "      <td>-9.856322</td>\n",
       "      <td>none</td>\n",
       "      <td>Lake Nyasa</td>\n",
       "      <td>...</td>\n",
       "      <td>pay annually</td>\n",
       "      <td>annually</td>\n",
       "      <td>soft</td>\n",
       "      <td>good</td>\n",
       "      <td>enough</td>\n",
       "      <td>spring</td>\n",
       "      <td>groundwater</td>\n",
       "      <td>communal standpipe</td>\n",
       "      <td>functional</td>\n",
       "      <td>23</td>\n",
       "    </tr>\n",
       "    <tr>\n",
       "      <th>1</th>\n",
       "      <td>8776</td>\n",
       "      <td>0.0</td>\n",
       "      <td>2013-03-06</td>\n",
       "      <td>Grumeti</td>\n",
       "      <td>1399</td>\n",
       "      <td>GRUMETI</td>\n",
       "      <td>34.698766</td>\n",
       "      <td>-2.147466</td>\n",
       "      <td>Zahanati</td>\n",
       "      <td>Lake Victoria</td>\n",
       "      <td>...</td>\n",
       "      <td>never pay</td>\n",
       "      <td>never pay</td>\n",
       "      <td>soft</td>\n",
       "      <td>good</td>\n",
       "      <td>insufficient</td>\n",
       "      <td>rainwater harvesting</td>\n",
       "      <td>surface</td>\n",
       "      <td>communal standpipe</td>\n",
       "      <td>functional</td>\n",
       "      <td>12</td>\n",
       "    </tr>\n",
       "    <tr>\n",
       "      <th>2</th>\n",
       "      <td>34310</td>\n",
       "      <td>25.0</td>\n",
       "      <td>2013-02-25</td>\n",
       "      <td>Lottery Club</td>\n",
       "      <td>686</td>\n",
       "      <td>World vision</td>\n",
       "      <td>37.460664</td>\n",
       "      <td>-3.821329</td>\n",
       "      <td>Kwa Mahundi</td>\n",
       "      <td>Pangani</td>\n",
       "      <td>...</td>\n",
       "      <td>pay per bucket</td>\n",
       "      <td>per bucket</td>\n",
       "      <td>soft</td>\n",
       "      <td>good</td>\n",
       "      <td>enough</td>\n",
       "      <td>dam</td>\n",
       "      <td>surface</td>\n",
       "      <td>communal standpipe multiple</td>\n",
       "      <td>functional</td>\n",
       "      <td>13</td>\n",
       "    </tr>\n",
       "    <tr>\n",
       "      <th>3</th>\n",
       "      <td>67743</td>\n",
       "      <td>0.0</td>\n",
       "      <td>2013-01-28</td>\n",
       "      <td>Unicef</td>\n",
       "      <td>263</td>\n",
       "      <td>UNICEF</td>\n",
       "      <td>38.486161</td>\n",
       "      <td>-11.155298</td>\n",
       "      <td>Zahanati Ya Nanyumbu</td>\n",
       "      <td>Ruvuma / Southern Coast</td>\n",
       "      <td>...</td>\n",
       "      <td>never pay</td>\n",
       "      <td>never pay</td>\n",
       "      <td>soft</td>\n",
       "      <td>good</td>\n",
       "      <td>dry</td>\n",
       "      <td>machine dbh</td>\n",
       "      <td>groundwater</td>\n",
       "      <td>communal standpipe multiple</td>\n",
       "      <td>non functional</td>\n",
       "      <td>36</td>\n",
       "    </tr>\n",
       "    <tr>\n",
       "      <th>4</th>\n",
       "      <td>19728</td>\n",
       "      <td>0.0</td>\n",
       "      <td>2011-07-13</td>\n",
       "      <td>Action In A</td>\n",
       "      <td>0</td>\n",
       "      <td>Artisan</td>\n",
       "      <td>31.130847</td>\n",
       "      <td>-1.825359</td>\n",
       "      <td>Shuleni</td>\n",
       "      <td>Lake Victoria</td>\n",
       "      <td>...</td>\n",
       "      <td>never pay</td>\n",
       "      <td>never pay</td>\n",
       "      <td>soft</td>\n",
       "      <td>good</td>\n",
       "      <td>seasonal</td>\n",
       "      <td>rainwater harvesting</td>\n",
       "      <td>surface</td>\n",
       "      <td>communal standpipe</td>\n",
       "      <td>functional</td>\n",
       "      <td>22</td>\n",
       "    </tr>\n",
       "  </tbody>\n",
       "</table>\n",
       "<p>5 rows × 36 columns</p>\n",
       "</div>"
      ],
      "text/plain": [
       "      id  amount_tsh date_recorded        funder  gps_height     installer  \\\n",
       "0  69572      6000.0    2011-03-14         Roman        1390         Roman   \n",
       "1   8776         0.0    2013-03-06       Grumeti        1399       GRUMETI   \n",
       "2  34310        25.0    2013-02-25  Lottery Club         686  World vision   \n",
       "3  67743         0.0    2013-01-28        Unicef         263        UNICEF   \n",
       "4  19728         0.0    2011-07-13   Action In A           0       Artisan   \n",
       "\n",
       "   longitude   latitude              wpt_name                    basin  ...  \\\n",
       "0  34.938093  -9.856322                  none               Lake Nyasa  ...   \n",
       "1  34.698766  -2.147466              Zahanati            Lake Victoria  ...   \n",
       "2  37.460664  -3.821329           Kwa Mahundi                  Pangani  ...   \n",
       "3  38.486161 -11.155298  Zahanati Ya Nanyumbu  Ruvuma / Southern Coast  ...   \n",
       "4  31.130847  -1.825359               Shuleni            Lake Victoria  ...   \n",
       "\n",
       "          payment payment_type  water_quality  quality_group      quantity  \\\n",
       "0    pay annually     annually           soft           good        enough   \n",
       "1       never pay    never pay           soft           good  insufficient   \n",
       "2  pay per bucket   per bucket           soft           good        enough   \n",
       "3       never pay    never pay           soft           good           dry   \n",
       "4       never pay    never pay           soft           good      seasonal   \n",
       "\n",
       "                 source  source_class              waterpoint_type  \\\n",
       "0                spring   groundwater           communal standpipe   \n",
       "1  rainwater harvesting       surface           communal standpipe   \n",
       "2                   dam       surface  communal standpipe multiple   \n",
       "3           machine dbh   groundwater  communal standpipe multiple   \n",
       "4  rainwater harvesting       surface           communal standpipe   \n",
       "\n",
       "     status_group  age  \n",
       "0      functional   23  \n",
       "1      functional   12  \n",
       "2      functional   13  \n",
       "3  non functional   36  \n",
       "4      functional   22  \n",
       "\n",
       "[5 rows x 36 columns]"
      ]
     },
     "execution_count": 312,
     "metadata": {},
     "output_type": "execute_result"
    }
   ],
   "source": [
    "df.head()"
   ]
  },
  {
   "cell_type": "code",
   "execution_count": 313,
   "id": "4f70b3af",
   "metadata": {},
   "outputs": [],
   "source": [
    "#will drop construction year as we have converted that column to age"
   ]
  },
  {
   "cell_type": "code",
   "execution_count": 314,
   "id": "2d5eb9c5",
   "metadata": {},
   "outputs": [],
   "source": [
    "df.drop(columns=['construction_year'], inplace=True)"
   ]
  },
  {
   "cell_type": "code",
   "execution_count": 315,
   "id": "5262b1ea",
   "metadata": {},
   "outputs": [
    {
     "data": {
      "text/html": [
       "<div>\n",
       "<style scoped>\n",
       "    .dataframe tbody tr th:only-of-type {\n",
       "        vertical-align: middle;\n",
       "    }\n",
       "\n",
       "    .dataframe tbody tr th {\n",
       "        vertical-align: top;\n",
       "    }\n",
       "\n",
       "    .dataframe thead th {\n",
       "        text-align: right;\n",
       "    }\n",
       "</style>\n",
       "<table border=\"1\" class=\"dataframe\">\n",
       "  <thead>\n",
       "    <tr style=\"text-align: right;\">\n",
       "      <th></th>\n",
       "      <th>id</th>\n",
       "      <th>amount_tsh</th>\n",
       "      <th>date_recorded</th>\n",
       "      <th>funder</th>\n",
       "      <th>gps_height</th>\n",
       "      <th>installer</th>\n",
       "      <th>longitude</th>\n",
       "      <th>latitude</th>\n",
       "      <th>wpt_name</th>\n",
       "      <th>basin</th>\n",
       "      <th>...</th>\n",
       "      <th>payment</th>\n",
       "      <th>payment_type</th>\n",
       "      <th>water_quality</th>\n",
       "      <th>quality_group</th>\n",
       "      <th>quantity</th>\n",
       "      <th>source</th>\n",
       "      <th>source_class</th>\n",
       "      <th>waterpoint_type</th>\n",
       "      <th>status_group</th>\n",
       "      <th>age</th>\n",
       "    </tr>\n",
       "  </thead>\n",
       "  <tbody>\n",
       "    <tr>\n",
       "      <th>0</th>\n",
       "      <td>69572</td>\n",
       "      <td>6000.0</td>\n",
       "      <td>2011-03-14</td>\n",
       "      <td>Roman</td>\n",
       "      <td>1390</td>\n",
       "      <td>Roman</td>\n",
       "      <td>34.938093</td>\n",
       "      <td>-9.856322</td>\n",
       "      <td>none</td>\n",
       "      <td>Lake Nyasa</td>\n",
       "      <td>...</td>\n",
       "      <td>pay annually</td>\n",
       "      <td>annually</td>\n",
       "      <td>soft</td>\n",
       "      <td>good</td>\n",
       "      <td>enough</td>\n",
       "      <td>spring</td>\n",
       "      <td>groundwater</td>\n",
       "      <td>communal standpipe</td>\n",
       "      <td>functional</td>\n",
       "      <td>23</td>\n",
       "    </tr>\n",
       "    <tr>\n",
       "      <th>1</th>\n",
       "      <td>8776</td>\n",
       "      <td>0.0</td>\n",
       "      <td>2013-03-06</td>\n",
       "      <td>Grumeti</td>\n",
       "      <td>1399</td>\n",
       "      <td>GRUMETI</td>\n",
       "      <td>34.698766</td>\n",
       "      <td>-2.147466</td>\n",
       "      <td>Zahanati</td>\n",
       "      <td>Lake Victoria</td>\n",
       "      <td>...</td>\n",
       "      <td>never pay</td>\n",
       "      <td>never pay</td>\n",
       "      <td>soft</td>\n",
       "      <td>good</td>\n",
       "      <td>insufficient</td>\n",
       "      <td>rainwater harvesting</td>\n",
       "      <td>surface</td>\n",
       "      <td>communal standpipe</td>\n",
       "      <td>functional</td>\n",
       "      <td>12</td>\n",
       "    </tr>\n",
       "    <tr>\n",
       "      <th>2</th>\n",
       "      <td>34310</td>\n",
       "      <td>25.0</td>\n",
       "      <td>2013-02-25</td>\n",
       "      <td>Lottery Club</td>\n",
       "      <td>686</td>\n",
       "      <td>World vision</td>\n",
       "      <td>37.460664</td>\n",
       "      <td>-3.821329</td>\n",
       "      <td>Kwa Mahundi</td>\n",
       "      <td>Pangani</td>\n",
       "      <td>...</td>\n",
       "      <td>pay per bucket</td>\n",
       "      <td>per bucket</td>\n",
       "      <td>soft</td>\n",
       "      <td>good</td>\n",
       "      <td>enough</td>\n",
       "      <td>dam</td>\n",
       "      <td>surface</td>\n",
       "      <td>communal standpipe multiple</td>\n",
       "      <td>functional</td>\n",
       "      <td>13</td>\n",
       "    </tr>\n",
       "    <tr>\n",
       "      <th>3</th>\n",
       "      <td>67743</td>\n",
       "      <td>0.0</td>\n",
       "      <td>2013-01-28</td>\n",
       "      <td>Unicef</td>\n",
       "      <td>263</td>\n",
       "      <td>UNICEF</td>\n",
       "      <td>38.486161</td>\n",
       "      <td>-11.155298</td>\n",
       "      <td>Zahanati Ya Nanyumbu</td>\n",
       "      <td>Ruvuma / Southern Coast</td>\n",
       "      <td>...</td>\n",
       "      <td>never pay</td>\n",
       "      <td>never pay</td>\n",
       "      <td>soft</td>\n",
       "      <td>good</td>\n",
       "      <td>dry</td>\n",
       "      <td>machine dbh</td>\n",
       "      <td>groundwater</td>\n",
       "      <td>communal standpipe multiple</td>\n",
       "      <td>non functional</td>\n",
       "      <td>36</td>\n",
       "    </tr>\n",
       "    <tr>\n",
       "      <th>4</th>\n",
       "      <td>19728</td>\n",
       "      <td>0.0</td>\n",
       "      <td>2011-07-13</td>\n",
       "      <td>Action In A</td>\n",
       "      <td>0</td>\n",
       "      <td>Artisan</td>\n",
       "      <td>31.130847</td>\n",
       "      <td>-1.825359</td>\n",
       "      <td>Shuleni</td>\n",
       "      <td>Lake Victoria</td>\n",
       "      <td>...</td>\n",
       "      <td>never pay</td>\n",
       "      <td>never pay</td>\n",
       "      <td>soft</td>\n",
       "      <td>good</td>\n",
       "      <td>seasonal</td>\n",
       "      <td>rainwater harvesting</td>\n",
       "      <td>surface</td>\n",
       "      <td>communal standpipe</td>\n",
       "      <td>functional</td>\n",
       "      <td>22</td>\n",
       "    </tr>\n",
       "  </tbody>\n",
       "</table>\n",
       "<p>5 rows × 35 columns</p>\n",
       "</div>"
      ],
      "text/plain": [
       "      id  amount_tsh date_recorded        funder  gps_height     installer  \\\n",
       "0  69572      6000.0    2011-03-14         Roman        1390         Roman   \n",
       "1   8776         0.0    2013-03-06       Grumeti        1399       GRUMETI   \n",
       "2  34310        25.0    2013-02-25  Lottery Club         686  World vision   \n",
       "3  67743         0.0    2013-01-28        Unicef         263        UNICEF   \n",
       "4  19728         0.0    2011-07-13   Action In A           0       Artisan   \n",
       "\n",
       "   longitude   latitude              wpt_name                    basin  ...  \\\n",
       "0  34.938093  -9.856322                  none               Lake Nyasa  ...   \n",
       "1  34.698766  -2.147466              Zahanati            Lake Victoria  ...   \n",
       "2  37.460664  -3.821329           Kwa Mahundi                  Pangani  ...   \n",
       "3  38.486161 -11.155298  Zahanati Ya Nanyumbu  Ruvuma / Southern Coast  ...   \n",
       "4  31.130847  -1.825359               Shuleni            Lake Victoria  ...   \n",
       "\n",
       "          payment payment_type  water_quality  quality_group      quantity  \\\n",
       "0    pay annually     annually           soft           good        enough   \n",
       "1       never pay    never pay           soft           good  insufficient   \n",
       "2  pay per bucket   per bucket           soft           good        enough   \n",
       "3       never pay    never pay           soft           good           dry   \n",
       "4       never pay    never pay           soft           good      seasonal   \n",
       "\n",
       "                 source  source_class              waterpoint_type  \\\n",
       "0                spring   groundwater           communal standpipe   \n",
       "1  rainwater harvesting       surface           communal standpipe   \n",
       "2                   dam       surface  communal standpipe multiple   \n",
       "3           machine dbh   groundwater  communal standpipe multiple   \n",
       "4  rainwater harvesting       surface           communal standpipe   \n",
       "\n",
       "     status_group  age  \n",
       "0      functional   23  \n",
       "1      functional   12  \n",
       "2      functional   13  \n",
       "3  non functional   36  \n",
       "4      functional   22  \n",
       "\n",
       "[5 rows x 35 columns]"
      ]
     },
     "execution_count": 315,
     "metadata": {},
     "output_type": "execute_result"
    }
   ],
   "source": [
    "df.head()"
   ]
  },
  {
   "cell_type": "code",
   "execution_count": 316,
   "id": "90f94b82",
   "metadata": {},
   "outputs": [
    {
     "name": "stdout",
     "output_type": "stream",
     "text": [
      "<class 'pandas.core.frame.DataFrame'>\n",
      "Int64Index: 59029 entries, 0 to 59399\n",
      "Data columns (total 35 columns):\n",
      " #   Column                 Non-Null Count  Dtype  \n",
      "---  ------                 --------------  -----  \n",
      " 0   id                     59029 non-null  int64  \n",
      " 1   amount_tsh             59029 non-null  float64\n",
      " 2   date_recorded          59029 non-null  object \n",
      " 3   funder                 59029 non-null  object \n",
      " 4   gps_height             59029 non-null  int64  \n",
      " 5   installer              59029 non-null  object \n",
      " 6   longitude              59029 non-null  float64\n",
      " 7   latitude               59029 non-null  float64\n",
      " 8   wpt_name               59029 non-null  object \n",
      " 9   basin                  59029 non-null  object \n",
      " 10  subvillage             59029 non-null  object \n",
      " 11  region                 59029 non-null  object \n",
      " 12  region_code            59029 non-null  int64  \n",
      " 13  district_code          59029 non-null  int64  \n",
      " 14  lga                    59029 non-null  object \n",
      " 15  ward                   59029 non-null  object \n",
      " 16  population             59029 non-null  int64  \n",
      " 17  public_meeting         59029 non-null  object \n",
      " 18  scheme_management      59029 non-null  object \n",
      " 19  permit                 59029 non-null  bool   \n",
      " 20  extraction_type        59029 non-null  object \n",
      " 21  extraction_type_group  59029 non-null  object \n",
      " 22  extraction_type_class  59029 non-null  object \n",
      " 23  management             59029 non-null  object \n",
      " 24  management_group       59029 non-null  object \n",
      " 25  payment                59029 non-null  object \n",
      " 26  payment_type           59029 non-null  object \n",
      " 27  water_quality          59029 non-null  object \n",
      " 28  quality_group          59029 non-null  object \n",
      " 29  quantity               59029 non-null  object \n",
      " 30  source                 59029 non-null  object \n",
      " 31  source_class           59029 non-null  object \n",
      " 32  waterpoint_type        59029 non-null  object \n",
      " 33  status_group           59029 non-null  object \n",
      " 34  age                    59029 non-null  int64  \n",
      "dtypes: bool(1), float64(3), int64(6), object(25)\n",
      "memory usage: 15.8+ MB\n"
     ]
    }
   ],
   "source": [
    "df.info()"
   ]
  },
  {
   "cell_type": "code",
   "execution_count": 317,
   "id": "c87caddc",
   "metadata": {},
   "outputs": [],
   "source": [
    "#can drop ID as it contains no describing info of well"
   ]
  },
  {
   "cell_type": "code",
   "execution_count": 318,
   "id": "48e9409d",
   "metadata": {},
   "outputs": [],
   "source": [
    "df.drop(columns=['id'], inplace=True)"
   ]
  },
  {
   "cell_type": "code",
   "execution_count": 319,
   "id": "ecf1caef",
   "metadata": {},
   "outputs": [
    {
     "data": {
      "text/plain": [
       "2011-03-17    558\n",
       "2011-03-15    546\n",
       "2013-02-03    546\n",
       "2011-03-14    504\n",
       "2011-03-16    491\n",
       "             ... \n",
       "2011-09-05      1\n",
       "2013-01-06      1\n",
       "2011-09-25      1\n",
       "2013-12-01      1\n",
       "2011-09-28      1\n",
       "Name: date_recorded, Length: 356, dtype: int64"
      ]
     },
     "execution_count": 319,
     "metadata": {},
     "output_type": "execute_result"
    }
   ],
   "source": [
    "df.date_recorded.value_counts()"
   ]
  },
  {
   "cell_type": "code",
   "execution_count": 320,
   "id": "75948874",
   "metadata": {},
   "outputs": [],
   "source": [
    "#can drop date_recorded, captures no important info"
   ]
  },
  {
   "cell_type": "code",
   "execution_count": 321,
   "id": "0f287a41",
   "metadata": {},
   "outputs": [],
   "source": [
    "df.drop(columns=['date_recorded'], inplace=True)"
   ]
  },
  {
   "cell_type": "code",
   "execution_count": 322,
   "id": "336c9834",
   "metadata": {},
   "outputs": [
    {
     "name": "stdout",
     "output_type": "stream",
     "text": [
      "<class 'pandas.core.frame.DataFrame'>\n",
      "Int64Index: 59029 entries, 0 to 59399\n",
      "Data columns (total 33 columns):\n",
      " #   Column                 Non-Null Count  Dtype  \n",
      "---  ------                 --------------  -----  \n",
      " 0   amount_tsh             59029 non-null  float64\n",
      " 1   funder                 59029 non-null  object \n",
      " 2   gps_height             59029 non-null  int64  \n",
      " 3   installer              59029 non-null  object \n",
      " 4   longitude              59029 non-null  float64\n",
      " 5   latitude               59029 non-null  float64\n",
      " 6   wpt_name               59029 non-null  object \n",
      " 7   basin                  59029 non-null  object \n",
      " 8   subvillage             59029 non-null  object \n",
      " 9   region                 59029 non-null  object \n",
      " 10  region_code            59029 non-null  int64  \n",
      " 11  district_code          59029 non-null  int64  \n",
      " 12  lga                    59029 non-null  object \n",
      " 13  ward                   59029 non-null  object \n",
      " 14  population             59029 non-null  int64  \n",
      " 15  public_meeting         59029 non-null  object \n",
      " 16  scheme_management      59029 non-null  object \n",
      " 17  permit                 59029 non-null  bool   \n",
      " 18  extraction_type        59029 non-null  object \n",
      " 19  extraction_type_group  59029 non-null  object \n",
      " 20  extraction_type_class  59029 non-null  object \n",
      " 21  management             59029 non-null  object \n",
      " 22  management_group       59029 non-null  object \n",
      " 23  payment                59029 non-null  object \n",
      " 24  payment_type           59029 non-null  object \n",
      " 25  water_quality          59029 non-null  object \n",
      " 26  quality_group          59029 non-null  object \n",
      " 27  quantity               59029 non-null  object \n",
      " 28  source                 59029 non-null  object \n",
      " 29  source_class           59029 non-null  object \n",
      " 30  waterpoint_type        59029 non-null  object \n",
      " 31  status_group           59029 non-null  object \n",
      " 32  age                    59029 non-null  int64  \n",
      "dtypes: bool(1), float64(3), int64(5), object(24)\n",
      "memory usage: 14.9+ MB\n"
     ]
    }
   ],
   "source": [
    "df.info()"
   ]
  },
  {
   "cell_type": "code",
   "execution_count": 323,
   "id": "4d9b1efc",
   "metadata": {},
   "outputs": [
    {
     "data": {
      "text/plain": [
       " 0       20077\n",
       "-15         60\n",
       "-16         55\n",
       "-13         55\n",
       "-20         52\n",
       "         ...  \n",
       " 2285        1\n",
       " 2424        1\n",
       " 2552        1\n",
       " 2413        1\n",
       " 2385        1\n",
       "Name: gps_height, Length: 2428, dtype: int64"
      ]
     },
     "execution_count": 323,
     "metadata": {},
     "output_type": "execute_result"
    }
   ],
   "source": [
    "df.gps_height.value_counts()"
   ]
  },
  {
   "cell_type": "code",
   "execution_count": 324,
   "id": "7610e8ca",
   "metadata": {},
   "outputs": [
    {
     "data": {
      "text/plain": [
       "0.000000     1812\n",
       "32.919861       2\n",
       "39.090880       2\n",
       "39.101244       2\n",
       "39.095087       2\n",
       "             ... \n",
       "37.371204       1\n",
       "35.455622       1\n",
       "34.628176       1\n",
       "31.530352       1\n",
       "32.971425       1\n",
       "Name: longitude, Length: 57145, dtype: int64"
      ]
     },
     "execution_count": 324,
     "metadata": {},
     "output_type": "execute_result"
    }
   ],
   "source": [
    "df.longitude.value_counts()"
   ]
  },
  {
   "cell_type": "code",
   "execution_count": 325,
   "id": "adbb1413",
   "metadata": {},
   "outputs": [
    {
     "data": {
      "text/plain": [
       "-2.000000e-08    1812\n",
       "-2.476680e+00       2\n",
       "-2.480043e+00       2\n",
       "-6.962475e+00       2\n",
       "-2.494546e+00       2\n",
       "                 ... \n",
       "-5.435762e+00       1\n",
       "-4.476671e+00       1\n",
       "-5.726001e+00       1\n",
       "-9.646831e+00       1\n",
       "-2.598965e+00       1\n",
       "Name: latitude, Length: 57146, dtype: int64"
      ]
     },
     "execution_count": 325,
     "metadata": {},
     "output_type": "execute_result"
    }
   ],
   "source": [
    "df.latitude.value_counts()"
   ]
  },
  {
   "cell_type": "code",
   "execution_count": 326,
   "id": "8ffca1bb",
   "metadata": {},
   "outputs": [
    {
     "data": {
      "text/plain": [
       "none                       3559\n",
       "Shuleni                    1714\n",
       "Zahanati                    811\n",
       "Msikitini                   533\n",
       "Kanisani                    313\n",
       "                           ... \n",
       "Kwa Richard Mwedzi            1\n",
       "Kwa Mzee Kaniki               1\n",
       "Kwa Kasimu Mwakanyamala       1\n",
       "Kwa Esau Msongoe              1\n",
       "Kwa Njavike                   1\n",
       "Name: wpt_name, Length: 37231, dtype: int64"
      ]
     },
     "execution_count": 326,
     "metadata": {},
     "output_type": "execute_result"
    }
   ],
   "source": [
    "df.wpt_name.value_counts()"
   ]
  },
  {
   "cell_type": "code",
   "execution_count": 327,
   "id": "d7dd3511",
   "metadata": {},
   "outputs": [],
   "source": [
    "#over 37231 values, would not be feasible to OHE"
   ]
  },
  {
   "cell_type": "code",
   "execution_count": 328,
   "id": "9e343320",
   "metadata": {},
   "outputs": [
    {
     "data": {
      "text/plain": [
       "Iringa           5294\n",
       "Shinyanga        4982\n",
       "Mbeya            4639\n",
       "Kilimanjaro      4379\n",
       "Morogoro         4006\n",
       "Arusha           3350\n",
       "Kagera           3316\n",
       "Mwanza           3092\n",
       "Kigoma           2816\n",
       "Ruvuma           2640\n",
       "Pwani            2635\n",
       "Tanga            2547\n",
       "Singida          2093\n",
       "Mara             1969\n",
       "Tabora           1959\n",
       "Dodoma           1840\n",
       "Rukwa            1808\n",
       "Mtwara           1730\n",
       "Manyara          1583\n",
       "Lindi            1546\n",
       "Dar es Salaam     805\n",
       "Name: region, dtype: int64"
      ]
     },
     "execution_count": 328,
     "metadata": {},
     "output_type": "execute_result"
    }
   ],
   "source": [
    "df.region.value_counts()"
   ]
  },
  {
   "cell_type": "code",
   "execution_count": 329,
   "id": "00b22d3b",
   "metadata": {},
   "outputs": [
    {
     "data": {
      "text/plain": [
       "11    5300\n",
       "17    5011\n",
       "12    4639\n",
       "3     4379\n",
       "5     4040\n",
       "18    3324\n",
       "19    3037\n",
       "2     3024\n",
       "16    2816\n",
       "10    2640\n",
       "4     2513\n",
       "13    2093\n",
       "14    1979\n",
       "20    1969\n",
       "1     1840\n",
       "15    1808\n",
       "6     1609\n",
       "21    1583\n",
       "80    1238\n",
       "60    1025\n",
       "90     917\n",
       "7      805\n",
       "99     423\n",
       "9      390\n",
       "24     326\n",
       "8      300\n",
       "40       1\n",
       "Name: region_code, dtype: int64"
      ]
     },
     "execution_count": 329,
     "metadata": {},
     "output_type": "execute_result"
    }
   ],
   "source": [
    "df.region_code.value_counts()"
   ]
  },
  {
   "cell_type": "code",
   "execution_count": 330,
   "id": "d04f4515",
   "metadata": {},
   "outputs": [
    {
     "data": {
      "text/plain": [
       "1     12193\n",
       "2     11173\n",
       "3      9637\n",
       "4      8999\n",
       "5      4356\n",
       "6      4074\n",
       "7      3343\n",
       "8      1043\n",
       "30      995\n",
       "33      874\n",
       "53      745\n",
       "43      505\n",
       "13      391\n",
       "23      293\n",
       "63      195\n",
       "62      109\n",
       "60       63\n",
       "0        23\n",
       "80       12\n",
       "67        6\n",
       "Name: district_code, dtype: int64"
      ]
     },
     "execution_count": 330,
     "metadata": {},
     "output_type": "execute_result"
    }
   ],
   "source": [
    "df.district_code.value_counts()"
   ]
  },
  {
   "cell_type": "code",
   "execution_count": 331,
   "id": "d629cdb9",
   "metadata": {},
   "outputs": [
    {
     "data": {
      "text/plain": [
       "Njombe          2503\n",
       "Arusha Rural    1252\n",
       "Moshi Rural     1251\n",
       "Bariadi         1177\n",
       "Rungwe          1106\n",
       "                ... \n",
       "Moshi Urban       79\n",
       "Kigoma Urban      71\n",
       "Arusha Urban      63\n",
       "Lindi Urban       21\n",
       "Nyamagana          1\n",
       "Name: lga, Length: 124, dtype: int64"
      ]
     },
     "execution_count": 331,
     "metadata": {},
     "output_type": "execute_result"
    }
   ],
   "source": [
    "df.lga.value_counts()"
   ]
  },
  {
   "cell_type": "code",
   "execution_count": 332,
   "id": "41af18b0",
   "metadata": {},
   "outputs": [
    {
     "data": {
      "text/plain": [
       "Igosi        307\n",
       "Imalinyi     252\n",
       "Siha Kati    232\n",
       "Mdandu       231\n",
       "Nduruma      217\n",
       "            ... \n",
       "Mkumbi         1\n",
       "Nyamtinga      1\n",
       "Sungwisi       1\n",
       "Themi          1\n",
       "Mitole         1\n",
       "Name: ward, Length: 2080, dtype: int64"
      ]
     },
     "execution_count": 332,
     "metadata": {},
     "output_type": "execute_result"
    }
   ],
   "source": [
    "df.ward.value_counts()"
   ]
  },
  {
   "cell_type": "code",
   "execution_count": 333,
   "id": "1276a2fc",
   "metadata": {},
   "outputs": [
    {
     "name": "stdout",
     "output_type": "stream",
     "text": [
      "<class 'pandas.core.frame.DataFrame'>\n",
      "Int64Index: 59029 entries, 0 to 59399\n",
      "Data columns (total 33 columns):\n",
      " #   Column                 Non-Null Count  Dtype  \n",
      "---  ------                 --------------  -----  \n",
      " 0   amount_tsh             59029 non-null  float64\n",
      " 1   funder                 59029 non-null  object \n",
      " 2   gps_height             59029 non-null  int64  \n",
      " 3   installer              59029 non-null  object \n",
      " 4   longitude              59029 non-null  float64\n",
      " 5   latitude               59029 non-null  float64\n",
      " 6   wpt_name               59029 non-null  object \n",
      " 7   basin                  59029 non-null  object \n",
      " 8   subvillage             59029 non-null  object \n",
      " 9   region                 59029 non-null  object \n",
      " 10  region_code            59029 non-null  int64  \n",
      " 11  district_code          59029 non-null  int64  \n",
      " 12  lga                    59029 non-null  object \n",
      " 13  ward                   59029 non-null  object \n",
      " 14  population             59029 non-null  int64  \n",
      " 15  public_meeting         59029 non-null  object \n",
      " 16  scheme_management      59029 non-null  object \n",
      " 17  permit                 59029 non-null  bool   \n",
      " 18  extraction_type        59029 non-null  object \n",
      " 19  extraction_type_group  59029 non-null  object \n",
      " 20  extraction_type_class  59029 non-null  object \n",
      " 21  management             59029 non-null  object \n",
      " 22  management_group       59029 non-null  object \n",
      " 23  payment                59029 non-null  object \n",
      " 24  payment_type           59029 non-null  object \n",
      " 25  water_quality          59029 non-null  object \n",
      " 26  quality_group          59029 non-null  object \n",
      " 27  quantity               59029 non-null  object \n",
      " 28  source                 59029 non-null  object \n",
      " 29  source_class           59029 non-null  object \n",
      " 30  waterpoint_type        59029 non-null  object \n",
      " 31  status_group           59029 non-null  object \n",
      " 32  age                    59029 non-null  int64  \n",
      "dtypes: bool(1), float64(3), int64(5), object(24)\n",
      "memory usage: 14.9+ MB\n"
     ]
    }
   ],
   "source": [
    "df.info()"
   ]
  },
  {
   "cell_type": "code",
   "execution_count": 334,
   "id": "740e2357",
   "metadata": {},
   "outputs": [
    {
     "data": {
      "text/plain": [
       "never pay                25246\n",
       "pay per bucket            8767\n",
       "pay monthly               8300\n",
       "unknown                   8157\n",
       "pay when scheme fails     3914\n",
       "pay annually              3591\n",
       "other                     1054\n",
       "Name: payment, dtype: int64"
      ]
     },
     "execution_count": 334,
     "metadata": {},
     "output_type": "execute_result"
    }
   ],
   "source": [
    "df.payment.value_counts()"
   ]
  },
  {
   "cell_type": "code",
   "execution_count": 335,
   "id": "67ae41f7",
   "metadata": {},
   "outputs": [
    {
     "data": {
      "text/plain": [
       "never pay     25246\n",
       "per bucket     8767\n",
       "monthly        8300\n",
       "unknown        8157\n",
       "on failure     3914\n",
       "annually       3591\n",
       "other          1054\n",
       "Name: payment_type, dtype: int64"
      ]
     },
     "execution_count": 335,
     "metadata": {},
     "output_type": "execute_result"
    }
   ],
   "source": [
    "df.payment_type.value_counts()"
   ]
  },
  {
   "cell_type": "code",
   "execution_count": 336,
   "id": "cac8e4e5",
   "metadata": {},
   "outputs": [],
   "source": [
    "#capture exact same info,, will drop payment_type"
   ]
  },
  {
   "cell_type": "code",
   "execution_count": 337,
   "id": "9e123262",
   "metadata": {},
   "outputs": [],
   "source": [
    "df.drop(columns=['payment_type'], inplace=True)"
   ]
  },
  {
   "cell_type": "code",
   "execution_count": 338,
   "id": "3e5a1ae4",
   "metadata": {},
   "outputs": [],
   "source": [
    "#region and region code capture same information; will drop region since region_code is already numeric\n",
    "#will also drop long and lat; capturing geographic info with region and district\n",
    "#will drop ward and lga as it also applies to geographic location and has too many values to OHE"
   ]
  },
  {
   "cell_type": "code",
   "execution_count": 339,
   "id": "5f7a394e",
   "metadata": {},
   "outputs": [],
   "source": [
    "df.drop(columns=['region', 'longitude', 'latitude', 'ward', 'lga'], inplace=True)"
   ]
  },
  {
   "cell_type": "code",
   "execution_count": 340,
   "id": "7c272407",
   "metadata": {},
   "outputs": [
    {
     "name": "stdout",
     "output_type": "stream",
     "text": [
      "<class 'pandas.core.frame.DataFrame'>\n",
      "Int64Index: 59029 entries, 0 to 59399\n",
      "Data columns (total 27 columns):\n",
      " #   Column                 Non-Null Count  Dtype  \n",
      "---  ------                 --------------  -----  \n",
      " 0   amount_tsh             59029 non-null  float64\n",
      " 1   funder                 59029 non-null  object \n",
      " 2   gps_height             59029 non-null  int64  \n",
      " 3   installer              59029 non-null  object \n",
      " 4   wpt_name               59029 non-null  object \n",
      " 5   basin                  59029 non-null  object \n",
      " 6   subvillage             59029 non-null  object \n",
      " 7   region_code            59029 non-null  int64  \n",
      " 8   district_code          59029 non-null  int64  \n",
      " 9   population             59029 non-null  int64  \n",
      " 10  public_meeting         59029 non-null  object \n",
      " 11  scheme_management      59029 non-null  object \n",
      " 12  permit                 59029 non-null  bool   \n",
      " 13  extraction_type        59029 non-null  object \n",
      " 14  extraction_type_group  59029 non-null  object \n",
      " 15  extraction_type_class  59029 non-null  object \n",
      " 16  management             59029 non-null  object \n",
      " 17  management_group       59029 non-null  object \n",
      " 18  payment                59029 non-null  object \n",
      " 19  water_quality          59029 non-null  object \n",
      " 20  quality_group          59029 non-null  object \n",
      " 21  quantity               59029 non-null  object \n",
      " 22  source                 59029 non-null  object \n",
      " 23  source_class           59029 non-null  object \n",
      " 24  waterpoint_type        59029 non-null  object \n",
      " 25  status_group           59029 non-null  object \n",
      " 26  age                    59029 non-null  int64  \n",
      "dtypes: bool(1), float64(1), int64(5), object(20)\n",
      "memory usage: 12.2+ MB\n"
     ]
    }
   ],
   "source": [
    "df.info()"
   ]
  },
  {
   "cell_type": "code",
   "execution_count": 341,
   "id": "1252dc37",
   "metadata": {},
   "outputs": [
    {
     "data": {
      "text/plain": [
       "Madukani             508\n",
       "Shuleni              506\n",
       "Majengo              502\n",
       "Kati                 373\n",
       "Mtakuja              262\n",
       "                    ... \n",
       "Kigo                   1\n",
       "Kwawanyasa             1\n",
       "Chechenza              1\n",
       "Parokiani Kimbiji      1\n",
       "Mwazwagi A             1\n",
       "Name: subvillage, Length: 19287, dtype: int64"
      ]
     },
     "execution_count": 341,
     "metadata": {},
     "output_type": "execute_result"
    }
   ],
   "source": [
    "df.subvillage.value_counts()"
   ]
  },
  {
   "cell_type": "code",
   "execution_count": 342,
   "id": "6759477c",
   "metadata": {},
   "outputs": [],
   "source": [
    "#will also drop subvillage, capturing locations in other variables"
   ]
  },
  {
   "cell_type": "code",
   "execution_count": 343,
   "id": "9efc849b",
   "metadata": {},
   "outputs": [],
   "source": [
    "df.drop(columns=['subvillage'], inplace=True)"
   ]
  },
  {
   "cell_type": "code",
   "execution_count": 344,
   "id": "6ff3a9b3",
   "metadata": {},
   "outputs": [
    {
     "name": "stdout",
     "output_type": "stream",
     "text": [
      "<class 'pandas.core.frame.DataFrame'>\n",
      "Int64Index: 59029 entries, 0 to 59399\n",
      "Data columns (total 26 columns):\n",
      " #   Column                 Non-Null Count  Dtype  \n",
      "---  ------                 --------------  -----  \n",
      " 0   amount_tsh             59029 non-null  float64\n",
      " 1   funder                 59029 non-null  object \n",
      " 2   gps_height             59029 non-null  int64  \n",
      " 3   installer              59029 non-null  object \n",
      " 4   wpt_name               59029 non-null  object \n",
      " 5   basin                  59029 non-null  object \n",
      " 6   region_code            59029 non-null  int64  \n",
      " 7   district_code          59029 non-null  int64  \n",
      " 8   population             59029 non-null  int64  \n",
      " 9   public_meeting         59029 non-null  object \n",
      " 10  scheme_management      59029 non-null  object \n",
      " 11  permit                 59029 non-null  bool   \n",
      " 12  extraction_type        59029 non-null  object \n",
      " 13  extraction_type_group  59029 non-null  object \n",
      " 14  extraction_type_class  59029 non-null  object \n",
      " 15  management             59029 non-null  object \n",
      " 16  management_group       59029 non-null  object \n",
      " 17  payment                59029 non-null  object \n",
      " 18  water_quality          59029 non-null  object \n",
      " 19  quality_group          59029 non-null  object \n",
      " 20  quantity               59029 non-null  object \n",
      " 21  source                 59029 non-null  object \n",
      " 22  source_class           59029 non-null  object \n",
      " 23  waterpoint_type        59029 non-null  object \n",
      " 24  status_group           59029 non-null  object \n",
      " 25  age                    59029 non-null  int64  \n",
      "dtypes: bool(1), float64(1), int64(5), object(19)\n",
      "memory usage: 11.8+ MB\n"
     ]
    }
   ],
   "source": [
    "df.info()"
   ]
  },
  {
   "cell_type": "code",
   "execution_count": 345,
   "id": "0355043b",
   "metadata": {},
   "outputs": [
    {
     "data": {
      "text/plain": [
       "0       21020\n",
       "1        7024\n",
       "200      1940\n",
       "150      1892\n",
       "250      1681\n",
       "        ...  \n",
       "3241        1\n",
       "1960        1\n",
       "1685        1\n",
       "2248        1\n",
       "1439        1\n",
       "Name: population, Length: 1049, dtype: int64"
      ]
     },
     "execution_count": 345,
     "metadata": {},
     "output_type": "execute_result"
    }
   ],
   "source": [
    "df.population.value_counts()"
   ]
  },
  {
   "cell_type": "code",
   "execution_count": 346,
   "id": "03aeb953",
   "metadata": {},
   "outputs": [
    {
     "data": {
      "text/plain": [
       "(59029, 26)"
      ]
     },
     "execution_count": 346,
     "metadata": {},
     "output_type": "execute_result"
    }
   ],
   "source": [
    "df.shape"
   ]
  },
  {
   "cell_type": "code",
   "execution_count": 347,
   "id": "4b7831aa",
   "metadata": {},
   "outputs": [
    {
     "data": {
      "text/plain": [
       "0.35609615612664963"
      ]
     },
     "execution_count": 347,
     "metadata": {},
     "output_type": "execute_result"
    }
   ],
   "source": [
    "(21020)/59029"
   ]
  },
  {
   "cell_type": "code",
   "execution_count": 348,
   "id": "840eddd2",
   "metadata": {},
   "outputs": [
    {
     "data": {
      "text/plain": [
       "0.4750885158142608"
      ]
     },
     "execution_count": 348,
     "metadata": {},
     "output_type": "execute_result"
    }
   ],
   "source": [
    "(21020+7024)/59029"
   ]
  },
  {
   "cell_type": "code",
   "execution_count": 349,
   "id": "964e9078",
   "metadata": {},
   "outputs": [
    {
     "data": {
      "text/plain": [
       "count    59029.000000\n",
       "mean       180.941097\n",
       "std        472.709908\n",
       "min          0.000000\n",
       "25%          0.000000\n",
       "50%         30.000000\n",
       "75%        220.000000\n",
       "max      30500.000000\n",
       "Name: population, dtype: float64"
      ]
     },
     "execution_count": 349,
     "metadata": {},
     "output_type": "execute_result"
    }
   ],
   "source": [
    "df.population.describe()"
   ]
  },
  {
   "cell_type": "code",
   "execution_count": 350,
   "id": "b4e295c0",
   "metadata": {},
   "outputs": [],
   "source": [
    "#large proportion of 0s and 1s; will drop due to large proportions"
   ]
  },
  {
   "cell_type": "code",
   "execution_count": 351,
   "id": "49aa6708",
   "metadata": {},
   "outputs": [],
   "source": [
    "df.drop(columns=['population'], inplace=True)"
   ]
  },
  {
   "cell_type": "code",
   "execution_count": 352,
   "id": "dc3f65ca",
   "metadata": {},
   "outputs": [
    {
     "name": "stdout",
     "output_type": "stream",
     "text": [
      "<class 'pandas.core.frame.DataFrame'>\n",
      "Int64Index: 59029 entries, 0 to 59399\n",
      "Data columns (total 25 columns):\n",
      " #   Column                 Non-Null Count  Dtype  \n",
      "---  ------                 --------------  -----  \n",
      " 0   amount_tsh             59029 non-null  float64\n",
      " 1   funder                 59029 non-null  object \n",
      " 2   gps_height             59029 non-null  int64  \n",
      " 3   installer              59029 non-null  object \n",
      " 4   wpt_name               59029 non-null  object \n",
      " 5   basin                  59029 non-null  object \n",
      " 6   region_code            59029 non-null  int64  \n",
      " 7   district_code          59029 non-null  int64  \n",
      " 8   public_meeting         59029 non-null  object \n",
      " 9   scheme_management      59029 non-null  object \n",
      " 10  permit                 59029 non-null  bool   \n",
      " 11  extraction_type        59029 non-null  object \n",
      " 12  extraction_type_group  59029 non-null  object \n",
      " 13  extraction_type_class  59029 non-null  object \n",
      " 14  management             59029 non-null  object \n",
      " 15  management_group       59029 non-null  object \n",
      " 16  payment                59029 non-null  object \n",
      " 17  water_quality          59029 non-null  object \n",
      " 18  quality_group          59029 non-null  object \n",
      " 19  quantity               59029 non-null  object \n",
      " 20  source                 59029 non-null  object \n",
      " 21  source_class           59029 non-null  object \n",
      " 22  waterpoint_type        59029 non-null  object \n",
      " 23  status_group           59029 non-null  object \n",
      " 24  age                    59029 non-null  int64  \n",
      "dtypes: bool(1), float64(1), int64(4), object(19)\n",
      "memory usage: 11.3+ MB\n"
     ]
    }
   ],
   "source": [
    "df.info()"
   ]
  },
  {
   "cell_type": "code",
   "execution_count": 353,
   "id": "f9689cec",
   "metadata": {},
   "outputs": [
    {
     "data": {
      "text/plain": [
       "Lake Victoria              10238\n",
       "Pangani                     8940\n",
       "Rufiji                      7976\n",
       "Internal                    7785\n",
       "Lake Tanganyika             6432\n",
       "Wami / Ruvu                 5626\n",
       "Lake Nyasa                  5085\n",
       "Ruvuma / Southern Coast     4493\n",
       "Lake Rukwa                  2454\n",
       "Name: basin, dtype: int64"
      ]
     },
     "execution_count": 353,
     "metadata": {},
     "output_type": "execute_result"
    }
   ],
   "source": [
    "df.basin.value_counts()"
   ]
  },
  {
   "cell_type": "code",
   "execution_count": 354,
   "id": "8cca8fb4",
   "metadata": {},
   "outputs": [
    {
     "data": {
      "text/plain": [
       "gravity                      26646\n",
       "nira/tanira                   8151\n",
       "other                         6421\n",
       "submersible                   4656\n",
       "swn 80                        3670\n",
       "mono                          2748\n",
       "india mark ii                 2400\n",
       "afridev                       1770\n",
       "ksb                           1415\n",
       "other - rope pump              451\n",
       "other - swn 81                 229\n",
       "windmill                       117\n",
       "india mark iii                  98\n",
       "cemo                            90\n",
       "other - play pump               85\n",
       "walimi                          48\n",
       "climax                          32\n",
       "other - mkulima/shinyanga        2\n",
       "Name: extraction_type, dtype: int64"
      ]
     },
     "execution_count": 354,
     "metadata": {},
     "output_type": "execute_result"
    }
   ],
   "source": [
    "df.extraction_type.value_counts()"
   ]
  },
  {
   "cell_type": "code",
   "execution_count": 355,
   "id": "fd660021",
   "metadata": {},
   "outputs": [
    {
     "data": {
      "text/plain": [
       "gravity            26646\n",
       "nira/tanira         8151\n",
       "other               6421\n",
       "submersible         6071\n",
       "swn 80              3670\n",
       "mono                2748\n",
       "india mark ii       2400\n",
       "afridev             1770\n",
       "rope pump            451\n",
       "other handpump       364\n",
       "other motorpump      122\n",
       "wind-powered         117\n",
       "india mark iii        98\n",
       "Name: extraction_type_group, dtype: int64"
      ]
     },
     "execution_count": 355,
     "metadata": {},
     "output_type": "execute_result"
    }
   ],
   "source": [
    "df.extraction_type_group.value_counts()"
   ]
  },
  {
   "cell_type": "code",
   "execution_count": 356,
   "id": "e85bca55",
   "metadata": {},
   "outputs": [
    {
     "data": {
      "text/plain": [
       "gravity         26646\n",
       "handpump        16453\n",
       "other            6421\n",
       "submersible      6071\n",
       "motorpump        2870\n",
       "rope pump         451\n",
       "wind-powered      117\n",
       "Name: extraction_type_class, dtype: int64"
      ]
     },
     "execution_count": 356,
     "metadata": {},
     "output_type": "execute_result"
    }
   ],
   "source": [
    "df.extraction_type_class.value_counts()"
   ]
  },
  {
   "cell_type": "code",
   "execution_count": 357,
   "id": "aa3d6fe3",
   "metadata": {},
   "outputs": [],
   "source": [
    "#will drop extraction_type and extraction_type_group because they capture same info as extraction_type_class"
   ]
  },
  {
   "cell_type": "code",
   "execution_count": 358,
   "id": "e320b4fe",
   "metadata": {},
   "outputs": [],
   "source": [
    "df.drop(columns=['extraction_type', 'extraction_type_group'], inplace=True)"
   ]
  },
  {
   "cell_type": "code",
   "execution_count": 359,
   "id": "bd45f812",
   "metadata": {},
   "outputs": [
    {
     "name": "stdout",
     "output_type": "stream",
     "text": [
      "<class 'pandas.core.frame.DataFrame'>\n",
      "Int64Index: 59029 entries, 0 to 59399\n",
      "Data columns (total 23 columns):\n",
      " #   Column                 Non-Null Count  Dtype  \n",
      "---  ------                 --------------  -----  \n",
      " 0   amount_tsh             59029 non-null  float64\n",
      " 1   funder                 59029 non-null  object \n",
      " 2   gps_height             59029 non-null  int64  \n",
      " 3   installer              59029 non-null  object \n",
      " 4   wpt_name               59029 non-null  object \n",
      " 5   basin                  59029 non-null  object \n",
      " 6   region_code            59029 non-null  int64  \n",
      " 7   district_code          59029 non-null  int64  \n",
      " 8   public_meeting         59029 non-null  object \n",
      " 9   scheme_management      59029 non-null  object \n",
      " 10  permit                 59029 non-null  bool   \n",
      " 11  extraction_type_class  59029 non-null  object \n",
      " 12  management             59029 non-null  object \n",
      " 13  management_group       59029 non-null  object \n",
      " 14  payment                59029 non-null  object \n",
      " 15  water_quality          59029 non-null  object \n",
      " 16  quality_group          59029 non-null  object \n",
      " 17  quantity               59029 non-null  object \n",
      " 18  source                 59029 non-null  object \n",
      " 19  source_class           59029 non-null  object \n",
      " 20  waterpoint_type        59029 non-null  object \n",
      " 21  status_group           59029 non-null  object \n",
      " 22  age                    59029 non-null  int64  \n",
      "dtypes: bool(1), float64(1), int64(4), object(17)\n",
      "memory usage: 10.4+ MB\n"
     ]
    }
   ],
   "source": [
    "df.info()"
   ]
  },
  {
   "cell_type": "code",
   "execution_count": 360,
   "id": "bcc3d8f9",
   "metadata": {},
   "outputs": [
    {
     "data": {
      "text/plain": [
       "vwc                 40189\n",
       "wug                  6515\n",
       "water board          2933\n",
       "wua                  2535\n",
       "private operator     1932\n",
       "parastatal           1768\n",
       "water authority       895\n",
       "other                 839\n",
       "company               685\n",
       "unknown               561\n",
       "other - school         99\n",
       "trust                  78\n",
       "Name: management, dtype: int64"
      ]
     },
     "execution_count": 360,
     "metadata": {},
     "output_type": "execute_result"
    }
   ],
   "source": [
    "df.management.value_counts()"
   ]
  },
  {
   "cell_type": "code",
   "execution_count": 361,
   "id": "a76abef2",
   "metadata": {},
   "outputs": [
    {
     "data": {
      "text/plain": [
       "user-group    52172\n",
       "commercial     3590\n",
       "parastatal     1768\n",
       "other           938\n",
       "unknown         561\n",
       "Name: management_group, dtype: int64"
      ]
     },
     "execution_count": 361,
     "metadata": {},
     "output_type": "execute_result"
    }
   ],
   "source": [
    "df.management_group.value_counts()"
   ]
  },
  {
   "cell_type": "code",
   "execution_count": 362,
   "id": "ab53fbe0",
   "metadata": {},
   "outputs": [],
   "source": [
    "#will drop management_group since management captures same information, but is more robust"
   ]
  },
  {
   "cell_type": "code",
   "execution_count": 363,
   "id": "040ddc1d",
   "metadata": {},
   "outputs": [],
   "source": [
    "df.drop(columns=['management_group'], inplace=True)"
   ]
  },
  {
   "cell_type": "code",
   "execution_count": 364,
   "id": "835bfe69",
   "metadata": {},
   "outputs": [
    {
     "data": {
      "text/plain": [
       "soft                  50666\n",
       "salty                  4638\n",
       "unknown                1876\n",
       "milky                   804\n",
       "coloured                490\n",
       "salty abandoned         338\n",
       "fluoride                200\n",
       "fluoride abandoned       17\n",
       "Name: water_quality, dtype: int64"
      ]
     },
     "execution_count": 364,
     "metadata": {},
     "output_type": "execute_result"
    }
   ],
   "source": [
    "df.water_quality.value_counts()"
   ]
  },
  {
   "cell_type": "code",
   "execution_count": 365,
   "id": "b700283e",
   "metadata": {},
   "outputs": [
    {
     "data": {
      "text/plain": [
       "good        50666\n",
       "salty        4976\n",
       "unknown      1876\n",
       "milky         804\n",
       "colored       490\n",
       "fluoride      217\n",
       "Name: quality_group, dtype: int64"
      ]
     },
     "execution_count": 365,
     "metadata": {},
     "output_type": "execute_result"
    }
   ],
   "source": [
    "df.quality_group.value_counts()"
   ]
  },
  {
   "cell_type": "code",
   "execution_count": 366,
   "id": "f6547cc2",
   "metadata": {},
   "outputs": [],
   "source": [
    "#will drop quality group since quality covers the same info"
   ]
  },
  {
   "cell_type": "code",
   "execution_count": 367,
   "id": "0f0962e8",
   "metadata": {},
   "outputs": [],
   "source": [
    "df.drop(columns=['quality_group'], inplace=True)"
   ]
  },
  {
   "cell_type": "code",
   "execution_count": 368,
   "id": "64ff7c5d",
   "metadata": {},
   "outputs": [
    {
     "name": "stdout",
     "output_type": "stream",
     "text": [
      "<class 'pandas.core.frame.DataFrame'>\n",
      "Int64Index: 59029 entries, 0 to 59399\n",
      "Data columns (total 21 columns):\n",
      " #   Column                 Non-Null Count  Dtype  \n",
      "---  ------                 --------------  -----  \n",
      " 0   amount_tsh             59029 non-null  float64\n",
      " 1   funder                 59029 non-null  object \n",
      " 2   gps_height             59029 non-null  int64  \n",
      " 3   installer              59029 non-null  object \n",
      " 4   wpt_name               59029 non-null  object \n",
      " 5   basin                  59029 non-null  object \n",
      " 6   region_code            59029 non-null  int64  \n",
      " 7   district_code          59029 non-null  int64  \n",
      " 8   public_meeting         59029 non-null  object \n",
      " 9   scheme_management      59029 non-null  object \n",
      " 10  permit                 59029 non-null  bool   \n",
      " 11  extraction_type_class  59029 non-null  object \n",
      " 12  management             59029 non-null  object \n",
      " 13  payment                59029 non-null  object \n",
      " 14  water_quality          59029 non-null  object \n",
      " 15  quantity               59029 non-null  object \n",
      " 16  source                 59029 non-null  object \n",
      " 17  source_class           59029 non-null  object \n",
      " 18  waterpoint_type        59029 non-null  object \n",
      " 19  status_group           59029 non-null  object \n",
      " 20  age                    59029 non-null  int64  \n",
      "dtypes: bool(1), float64(1), int64(4), object(15)\n",
      "memory usage: 9.5+ MB\n"
     ]
    }
   ],
   "source": [
    "df.info()"
   ]
  },
  {
   "cell_type": "code",
   "execution_count": 369,
   "id": "d974f9a4",
   "metadata": {},
   "outputs": [
    {
     "data": {
      "text/plain": [
       "enough          33087\n",
       "insufficient    15020\n",
       "dry              6087\n",
       "seasonal         4046\n",
       "unknown           789\n",
       "Name: quantity, dtype: int64"
      ]
     },
     "execution_count": 369,
     "metadata": {},
     "output_type": "execute_result"
    }
   ],
   "source": [
    "df.quantity.value_counts()"
   ]
  },
  {
   "cell_type": "code",
   "execution_count": 370,
   "id": "7a5f4424",
   "metadata": {},
   "outputs": [
    {
     "data": {
      "text/plain": [
       "spring                  16886\n",
       "shallow well            16817\n",
       "machine dbh             10849\n",
       "river                    9612\n",
       "rainwater harvesting     2293\n",
       "hand dtw                  874\n",
       "lake                      764\n",
       "dam                       656\n",
       "other                     212\n",
       "unknown                    66\n",
       "Name: source, dtype: int64"
      ]
     },
     "execution_count": 370,
     "metadata": {},
     "output_type": "execute_result"
    }
   ],
   "source": [
    "df.source.value_counts()"
   ]
  },
  {
   "cell_type": "code",
   "execution_count": 371,
   "id": "52014ffe",
   "metadata": {},
   "outputs": [
    {
     "data": {
      "text/plain": [
       "groundwater    45426\n",
       "surface        13325\n",
       "unknown          278\n",
       "Name: source_class, dtype: int64"
      ]
     },
     "execution_count": 371,
     "metadata": {},
     "output_type": "execute_result"
    }
   ],
   "source": [
    "df.source_class.value_counts()"
   ]
  },
  {
   "cell_type": "code",
   "execution_count": 372,
   "id": "92b0612d",
   "metadata": {},
   "outputs": [],
   "source": [
    "#will drop source_class since source is more descriptive and contains same info"
   ]
  },
  {
   "cell_type": "code",
   "execution_count": 373,
   "id": "b70ce91d",
   "metadata": {},
   "outputs": [],
   "source": [
    "df.drop(columns=['source_class'], inplace=True)"
   ]
  },
  {
   "cell_type": "code",
   "execution_count": 374,
   "id": "0b0f6e9a",
   "metadata": {},
   "outputs": [
    {
     "name": "stdout",
     "output_type": "stream",
     "text": [
      "<class 'pandas.core.frame.DataFrame'>\n",
      "Int64Index: 59029 entries, 0 to 59399\n",
      "Data columns (total 20 columns):\n",
      " #   Column                 Non-Null Count  Dtype  \n",
      "---  ------                 --------------  -----  \n",
      " 0   amount_tsh             59029 non-null  float64\n",
      " 1   funder                 59029 non-null  object \n",
      " 2   gps_height             59029 non-null  int64  \n",
      " 3   installer              59029 non-null  object \n",
      " 4   wpt_name               59029 non-null  object \n",
      " 5   basin                  59029 non-null  object \n",
      " 6   region_code            59029 non-null  int64  \n",
      " 7   district_code          59029 non-null  int64  \n",
      " 8   public_meeting         59029 non-null  object \n",
      " 9   scheme_management      59029 non-null  object \n",
      " 10  permit                 59029 non-null  bool   \n",
      " 11  extraction_type_class  59029 non-null  object \n",
      " 12  management             59029 non-null  object \n",
      " 13  payment                59029 non-null  object \n",
      " 14  water_quality          59029 non-null  object \n",
      " 15  quantity               59029 non-null  object \n",
      " 16  source                 59029 non-null  object \n",
      " 17  waterpoint_type        59029 non-null  object \n",
      " 18  status_group           59029 non-null  object \n",
      " 19  age                    59029 non-null  int64  \n",
      "dtypes: bool(1), float64(1), int64(4), object(14)\n",
      "memory usage: 9.1+ MB\n"
     ]
    }
   ],
   "source": [
    "df.info()"
   ]
  },
  {
   "cell_type": "code",
   "execution_count": 375,
   "id": "8292b1c7",
   "metadata": {},
   "outputs": [
    {
     "data": {
      "text/plain": [
       "functional                 32054\n",
       "non functional             22659\n",
       "functional needs repair     4316\n",
       "Name: status_group, dtype: int64"
      ]
     },
     "execution_count": 375,
     "metadata": {},
     "output_type": "execute_result"
    }
   ],
   "source": [
    "df.status_group.value_counts()"
   ]
  },
  {
   "cell_type": "code",
   "execution_count": 376,
   "id": "a9a764a7",
   "metadata": {},
   "outputs": [
    {
     "data": {
      "text/html": [
       "<div>\n",
       "<style scoped>\n",
       "    .dataframe tbody tr th:only-of-type {\n",
       "        vertical-align: middle;\n",
       "    }\n",
       "\n",
       "    .dataframe tbody tr th {\n",
       "        vertical-align: top;\n",
       "    }\n",
       "\n",
       "    .dataframe thead th {\n",
       "        text-align: right;\n",
       "    }\n",
       "</style>\n",
       "<table border=\"1\" class=\"dataframe\">\n",
       "  <thead>\n",
       "    <tr style=\"text-align: right;\">\n",
       "      <th></th>\n",
       "      <th>amount_tsh</th>\n",
       "      <th>funder</th>\n",
       "      <th>gps_height</th>\n",
       "      <th>installer</th>\n",
       "      <th>wpt_name</th>\n",
       "      <th>basin</th>\n",
       "      <th>region_code</th>\n",
       "      <th>district_code</th>\n",
       "      <th>public_meeting</th>\n",
       "      <th>scheme_management</th>\n",
       "      <th>permit</th>\n",
       "      <th>extraction_type_class</th>\n",
       "      <th>management</th>\n",
       "      <th>payment</th>\n",
       "      <th>water_quality</th>\n",
       "      <th>quantity</th>\n",
       "      <th>source</th>\n",
       "      <th>waterpoint_type</th>\n",
       "      <th>status_group</th>\n",
       "      <th>age</th>\n",
       "    </tr>\n",
       "  </thead>\n",
       "  <tbody>\n",
       "    <tr>\n",
       "      <th>0</th>\n",
       "      <td>6000.0</td>\n",
       "      <td>Roman</td>\n",
       "      <td>1390</td>\n",
       "      <td>Roman</td>\n",
       "      <td>none</td>\n",
       "      <td>Lake Nyasa</td>\n",
       "      <td>11</td>\n",
       "      <td>5</td>\n",
       "      <td>True</td>\n",
       "      <td>VWC</td>\n",
       "      <td>False</td>\n",
       "      <td>gravity</td>\n",
       "      <td>vwc</td>\n",
       "      <td>pay annually</td>\n",
       "      <td>soft</td>\n",
       "      <td>enough</td>\n",
       "      <td>spring</td>\n",
       "      <td>communal standpipe</td>\n",
       "      <td>functional</td>\n",
       "      <td>23</td>\n",
       "    </tr>\n",
       "    <tr>\n",
       "      <th>1</th>\n",
       "      <td>0.0</td>\n",
       "      <td>Grumeti</td>\n",
       "      <td>1399</td>\n",
       "      <td>GRUMETI</td>\n",
       "      <td>Zahanati</td>\n",
       "      <td>Lake Victoria</td>\n",
       "      <td>20</td>\n",
       "      <td>2</td>\n",
       "      <td>Unknown</td>\n",
       "      <td>Other</td>\n",
       "      <td>True</td>\n",
       "      <td>gravity</td>\n",
       "      <td>wug</td>\n",
       "      <td>never pay</td>\n",
       "      <td>soft</td>\n",
       "      <td>insufficient</td>\n",
       "      <td>rainwater harvesting</td>\n",
       "      <td>communal standpipe</td>\n",
       "      <td>functional</td>\n",
       "      <td>12</td>\n",
       "    </tr>\n",
       "    <tr>\n",
       "      <th>2</th>\n",
       "      <td>25.0</td>\n",
       "      <td>Lottery Club</td>\n",
       "      <td>686</td>\n",
       "      <td>World vision</td>\n",
       "      <td>Kwa Mahundi</td>\n",
       "      <td>Pangani</td>\n",
       "      <td>21</td>\n",
       "      <td>4</td>\n",
       "      <td>True</td>\n",
       "      <td>VWC</td>\n",
       "      <td>True</td>\n",
       "      <td>gravity</td>\n",
       "      <td>vwc</td>\n",
       "      <td>pay per bucket</td>\n",
       "      <td>soft</td>\n",
       "      <td>enough</td>\n",
       "      <td>dam</td>\n",
       "      <td>communal standpipe multiple</td>\n",
       "      <td>functional</td>\n",
       "      <td>13</td>\n",
       "    </tr>\n",
       "    <tr>\n",
       "      <th>3</th>\n",
       "      <td>0.0</td>\n",
       "      <td>Unicef</td>\n",
       "      <td>263</td>\n",
       "      <td>UNICEF</td>\n",
       "      <td>Zahanati Ya Nanyumbu</td>\n",
       "      <td>Ruvuma / Southern Coast</td>\n",
       "      <td>90</td>\n",
       "      <td>63</td>\n",
       "      <td>True</td>\n",
       "      <td>VWC</td>\n",
       "      <td>True</td>\n",
       "      <td>submersible</td>\n",
       "      <td>vwc</td>\n",
       "      <td>never pay</td>\n",
       "      <td>soft</td>\n",
       "      <td>dry</td>\n",
       "      <td>machine dbh</td>\n",
       "      <td>communal standpipe multiple</td>\n",
       "      <td>non functional</td>\n",
       "      <td>36</td>\n",
       "    </tr>\n",
       "    <tr>\n",
       "      <th>4</th>\n",
       "      <td>0.0</td>\n",
       "      <td>Action In A</td>\n",
       "      <td>0</td>\n",
       "      <td>Artisan</td>\n",
       "      <td>Shuleni</td>\n",
       "      <td>Lake Victoria</td>\n",
       "      <td>18</td>\n",
       "      <td>1</td>\n",
       "      <td>True</td>\n",
       "      <td>Unknown</td>\n",
       "      <td>True</td>\n",
       "      <td>gravity</td>\n",
       "      <td>other</td>\n",
       "      <td>never pay</td>\n",
       "      <td>soft</td>\n",
       "      <td>seasonal</td>\n",
       "      <td>rainwater harvesting</td>\n",
       "      <td>communal standpipe</td>\n",
       "      <td>functional</td>\n",
       "      <td>22</td>\n",
       "    </tr>\n",
       "  </tbody>\n",
       "</table>\n",
       "</div>"
      ],
      "text/plain": [
       "   amount_tsh        funder  gps_height     installer              wpt_name  \\\n",
       "0      6000.0         Roman        1390         Roman                  none   \n",
       "1         0.0       Grumeti        1399       GRUMETI              Zahanati   \n",
       "2        25.0  Lottery Club         686  World vision           Kwa Mahundi   \n",
       "3         0.0        Unicef         263        UNICEF  Zahanati Ya Nanyumbu   \n",
       "4         0.0   Action In A           0       Artisan               Shuleni   \n",
       "\n",
       "                     basin  region_code  district_code public_meeting  \\\n",
       "0               Lake Nyasa           11              5           True   \n",
       "1            Lake Victoria           20              2        Unknown   \n",
       "2                  Pangani           21              4           True   \n",
       "3  Ruvuma / Southern Coast           90             63           True   \n",
       "4            Lake Victoria           18              1           True   \n",
       "\n",
       "  scheme_management  permit extraction_type_class management         payment  \\\n",
       "0               VWC   False               gravity        vwc    pay annually   \n",
       "1             Other    True               gravity        wug       never pay   \n",
       "2               VWC    True               gravity        vwc  pay per bucket   \n",
       "3               VWC    True           submersible        vwc       never pay   \n",
       "4           Unknown    True               gravity      other       never pay   \n",
       "\n",
       "  water_quality      quantity                source  \\\n",
       "0          soft        enough                spring   \n",
       "1          soft  insufficient  rainwater harvesting   \n",
       "2          soft        enough                   dam   \n",
       "3          soft           dry           machine dbh   \n",
       "4          soft      seasonal  rainwater harvesting   \n",
       "\n",
       "               waterpoint_type    status_group  age  \n",
       "0           communal standpipe      functional   23  \n",
       "1           communal standpipe      functional   12  \n",
       "2  communal standpipe multiple      functional   13  \n",
       "3  communal standpipe multiple  non functional   36  \n",
       "4           communal standpipe      functional   22  "
      ]
     },
     "execution_count": 376,
     "metadata": {},
     "output_type": "execute_result"
    }
   ],
   "source": [
    "df.head()"
   ]
  },
  {
   "cell_type": "code",
   "execution_count": 377,
   "id": "3811605f",
   "metadata": {},
   "outputs": [
    {
     "data": {
      "text/plain": [
       "0.0         41268\n",
       "500.0        3102\n",
       "50.0         2472\n",
       "1000.0       1488\n",
       "20.0         1463\n",
       "            ...  \n",
       "8500.0          1\n",
       "6300.0          1\n",
       "220.0           1\n",
       "138000.0        1\n",
       "12.0            1\n",
       "Name: amount_tsh, Length: 98, dtype: int64"
      ]
     },
     "execution_count": 377,
     "metadata": {},
     "output_type": "execute_result"
    }
   ],
   "source": [
    "df.amount_tsh.value_counts()"
   ]
  },
  {
   "cell_type": "code",
   "execution_count": 378,
   "id": "2ada553f",
   "metadata": {},
   "outputs": [
    {
     "data": {
      "text/plain": [
       "count     59029.000000\n",
       "mean        319.646832\n",
       "std        3006.873793\n",
       "min           0.000000\n",
       "25%           0.000000\n",
       "50%           0.000000\n",
       "75%          25.000000\n",
       "max      350000.000000\n",
       "Name: amount_tsh, dtype: float64"
      ]
     },
     "execution_count": 378,
     "metadata": {},
     "output_type": "execute_result"
    }
   ],
   "source": [
    "df.amount_tsh.describe()"
   ]
  },
  {
   "cell_type": "code",
   "execution_count": 379,
   "id": "8cddbd0a",
   "metadata": {},
   "outputs": [
    {
     "data": {
      "text/plain": [
       "0.6991139948161074"
      ]
     },
     "execution_count": 379,
     "metadata": {},
     "output_type": "execute_result"
    }
   ],
   "source": [
    "41268/59029"
   ]
  },
  {
   "cell_type": "code",
   "execution_count": 380,
   "id": "f9c85e07",
   "metadata": {},
   "outputs": [],
   "source": [
    "df_funder = df.groupby('funder')"
   ]
  },
  {
   "cell_type": "code",
   "execution_count": 381,
   "id": "88bce0a3",
   "metadata": {},
   "outputs": [
    {
     "data": {
      "text/plain": [
       "count    1894.000000\n",
       "mean       31.166315\n",
       "std       257.073243\n",
       "min         1.000000\n",
       "25%         1.000000\n",
       "50%         1.000000\n",
       "75%         7.000000\n",
       "max      9014.000000\n",
       "Name: count, dtype: float64"
      ]
     },
     "execution_count": 381,
     "metadata": {},
     "output_type": "execute_result"
    }
   ],
   "source": [
    "df_funder.describe()['amount_tsh']['count'].describe()"
   ]
  },
  {
   "cell_type": "code",
   "execution_count": 382,
   "id": "8e454c34",
   "metadata": {},
   "outputs": [],
   "source": [
    "#We will look at the top 5 funders versus other funders due to the large amount \n",
    "#of funders who have only funded 1 well (we see our median is 1)\n",
    "#we will wrap our Unknowns with our Others"
   ]
  },
  {
   "cell_type": "code",
   "execution_count": 383,
   "id": "de148295",
   "metadata": {},
   "outputs": [],
   "source": [
    "#Will create a function to rename funder \"Unknown/Other\" if funder is not in list of \n",
    "#top 5 funders"
   ]
  },
  {
   "cell_type": "code",
   "execution_count": 384,
   "id": "0818461f",
   "metadata": {},
   "outputs": [
    {
     "data": {
      "text/plain": [
       "Government Of Tanzania            9014\n",
       "Unknown                           3639\n",
       "Danida                            3114\n",
       "Hesawa                            2200\n",
       "Rwssp                             1374\n",
       "Kkkt                              1286\n",
       "World Vision                      1246\n",
       "World Bank                        1244\n",
       "Unicef                            1057\n",
       "Tasaf                              876\n",
       "District Council                   843\n",
       "Dhv                                829\n",
       "Private Individual                 825\n",
       "Dwsp                               811\n",
       "0                                  777\n",
       "Norad                              765\n",
       "Germany Republi                    610\n",
       "Tcrs                               602\n",
       "Ministry Of Water                  590\n",
       "Water                              510\n",
       "Dwe                                484\n",
       "Netherlands                        470\n",
       "Hifab                              450\n",
       "Adb                                447\n",
       "Lga                                442\n",
       "Amref                              425\n",
       "Fini Water                         393\n",
       "Oxfam                              359\n",
       "Wateraid                           333\n",
       "Rc Church                          321\n",
       "Isf                                316\n",
       "Rudep                              312\n",
       "Mission                            301\n",
       "Private                            295\n",
       "Jaica                              280\n",
       "Roman                              275\n",
       "Rural Water Supply And Sanitat     270\n",
       "Adra                               263\n",
       "Ces(gmbh)                          260\n",
       "Jica                               259\n",
       "Shipo                              241\n",
       "Wsdp                               234\n",
       "Rc                                 230\n",
       "Finw                               219\n",
       "Dh                                 213\n",
       "Ded                                198\n",
       "Plan Int                           195\n",
       "Kiliwater                          189\n",
       "Dmdd                               186\n",
       "Go                                 181\n",
       "Name: funder, dtype: int64"
      ]
     },
     "execution_count": 384,
     "metadata": {},
     "output_type": "execute_result"
    }
   ],
   "source": [
    "df.funder.value_counts()[:50]"
   ]
  },
  {
   "cell_type": "code",
   "execution_count": 385,
   "id": "3eb2ba73",
   "metadata": {},
   "outputs": [],
   "source": [
    "#We see a \"0\" value, which we are assuming is the funder is unknown. Replacing 0 value with \"Unknown\"."
   ]
  },
  {
   "cell_type": "code",
   "execution_count": 386,
   "id": "86e5ac90",
   "metadata": {},
   "outputs": [],
   "source": [
    "df.funder.replace(to_replace='0', value='Unknown', inplace=True)"
   ]
  },
  {
   "cell_type": "code",
   "execution_count": 387,
   "id": "e1100b82",
   "metadata": {},
   "outputs": [
    {
     "data": {
      "text/plain": [
       "(59029,)"
      ]
     },
     "execution_count": 387,
     "metadata": {},
     "output_type": "execute_result"
    }
   ],
   "source": [
    "df.funder.shape"
   ]
  },
  {
   "cell_type": "code",
   "execution_count": 388,
   "id": "b3bd9e06",
   "metadata": {},
   "outputs": [
    {
     "data": {
      "text/plain": [
       "0.016940825695844416"
      ]
     },
     "execution_count": 388,
     "metadata": {},
     "output_type": "execute_result"
    }
   ],
   "source": [
    "1000/59029"
   ]
  },
  {
   "cell_type": "code",
   "execution_count": 389,
   "id": "12a5cf1f",
   "metadata": {},
   "outputs": [
    {
     "data": {
      "text/plain": [
       "0.15270460282234155"
      ]
     },
     "execution_count": 389,
     "metadata": {},
     "output_type": "execute_result"
    }
   ],
   "source": [
    "9014/59029"
   ]
  },
  {
   "cell_type": "code",
   "execution_count": 390,
   "id": "5f450ca6",
   "metadata": {},
   "outputs": [
    {
     "data": {
      "text/plain": [
       "0.05275373121685951"
      ]
     },
     "execution_count": 390,
     "metadata": {},
     "output_type": "execute_result"
    }
   ],
   "source": [
    "3114/59029"
   ]
  },
  {
   "cell_type": "code",
   "execution_count": 391,
   "id": "326b4656",
   "metadata": {},
   "outputs": [],
   "source": [
    "#We will look at all funders with over 1% of our data (>= 590 wells); Will replace other values\n",
    "#with \"Other\""
   ]
  },
  {
   "cell_type": "code",
   "execution_count": 392,
   "id": "8a9076fd",
   "metadata": {},
   "outputs": [
    {
     "data": {
      "text/plain": [
       "Government Of Tanzania            9014\n",
       "Unknown                           4416\n",
       "Danida                            3114\n",
       "Hesawa                            2200\n",
       "Rwssp                             1374\n",
       "Kkkt                              1286\n",
       "World Vision                      1246\n",
       "World Bank                        1244\n",
       "Unicef                            1057\n",
       "Tasaf                              876\n",
       "District Council                   843\n",
       "Dhv                                829\n",
       "Private Individual                 825\n",
       "Dwsp                               811\n",
       "Norad                              765\n",
       "Germany Republi                    610\n",
       "Tcrs                               602\n",
       "Ministry Of Water                  590\n",
       "Water                              510\n",
       "Dwe                                484\n",
       "Netherlands                        470\n",
       "Hifab                              450\n",
       "Adb                                447\n",
       "Lga                                442\n",
       "Amref                              425\n",
       "Fini Water                         393\n",
       "Oxfam                              359\n",
       "Wateraid                           333\n",
       "Rc Church                          321\n",
       "Isf                                316\n",
       "Rudep                              312\n",
       "Mission                            301\n",
       "Private                            295\n",
       "Jaica                              280\n",
       "Roman                              275\n",
       "Rural Water Supply And Sanitat     270\n",
       "Adra                               263\n",
       "Ces(gmbh)                          260\n",
       "Jica                               259\n",
       "Shipo                              241\n",
       "Wsdp                               234\n",
       "Rc                                 230\n",
       "Finw                               219\n",
       "Dh                                 213\n",
       "Ded                                198\n",
       "Plan Int                           195\n",
       "Kiliwater                          189\n",
       "Dmdd                               186\n",
       "Go                                 181\n",
       "Lawatefuka Water Supply            180\n",
       "Name: funder, dtype: int64"
      ]
     },
     "execution_count": 392,
     "metadata": {},
     "output_type": "execute_result"
    }
   ],
   "source": [
    "df.funder.value_counts()[:50]"
   ]
  },
  {
   "cell_type": "code",
   "execution_count": 393,
   "id": "ebd323bf",
   "metadata": {},
   "outputs": [],
   "source": [
    "#creating list of funders >= 590 wells; we are keeping unknown as it may\n",
    "#be significant (may be underlying reason those funders are unknown)"
   ]
  },
  {
   "cell_type": "code",
   "execution_count": 394,
   "id": "ec7ec602",
   "metadata": {},
   "outputs": [],
   "source": [
    "top_funders = list(df.funder.value_counts()[:18].index)"
   ]
  },
  {
   "cell_type": "code",
   "execution_count": 395,
   "id": "bcd7c0fe",
   "metadata": {},
   "outputs": [
    {
     "data": {
      "text/plain": [
       "['Government Of Tanzania',\n",
       " 'Unknown',\n",
       " 'Danida',\n",
       " 'Hesawa',\n",
       " 'Rwssp',\n",
       " 'Kkkt',\n",
       " 'World Vision',\n",
       " 'World Bank',\n",
       " 'Unicef',\n",
       " 'Tasaf',\n",
       " 'District Council',\n",
       " 'Dhv',\n",
       " 'Private Individual',\n",
       " 'Dwsp',\n",
       " 'Norad',\n",
       " 'Germany Republi',\n",
       " 'Tcrs',\n",
       " 'Ministry Of Water']"
      ]
     },
     "execution_count": 395,
     "metadata": {},
     "output_type": "execute_result"
    }
   ],
   "source": [
    "top_funders"
   ]
  },
  {
   "cell_type": "code",
   "execution_count": 397,
   "id": "6ff89291",
   "metadata": {
    "scrolled": true
   },
   "outputs": [],
   "source": [
    "df.funder = df.funder.map(lambda x: x if x in top_funders else x.replace(x, \"Other\"))"
   ]
  },
  {
   "cell_type": "code",
   "execution_count": 398,
   "id": "1c4bab7a",
   "metadata": {},
   "outputs": [
    {
     "data": {
      "text/plain": [
       "Other                     27327\n",
       "Government Of Tanzania     9014\n",
       "Unknown                    4416\n",
       "Danida                     3114\n",
       "Hesawa                     2200\n",
       "Rwssp                      1374\n",
       "Kkkt                       1286\n",
       "World Vision               1246\n",
       "World Bank                 1244\n",
       "Unicef                     1057\n",
       "Tasaf                       876\n",
       "District Council            843\n",
       "Dhv                         829\n",
       "Private Individual          825\n",
       "Dwsp                        811\n",
       "Norad                       765\n",
       "Germany Republi             610\n",
       "Tcrs                        602\n",
       "Ministry Of Water           590\n",
       "Name: funder, dtype: int64"
      ]
     },
     "execution_count": 398,
     "metadata": {},
     "output_type": "execute_result"
    }
   ],
   "source": [
    "df.funder.value_counts()"
   ]
  },
  {
   "cell_type": "code",
   "execution_count": 399,
   "id": "7b1c7bd1",
   "metadata": {},
   "outputs": [
    {
     "name": "stdout",
     "output_type": "stream",
     "text": [
      "<class 'pandas.core.frame.DataFrame'>\n",
      "Int64Index: 59029 entries, 0 to 59399\n",
      "Data columns (total 20 columns):\n",
      " #   Column                 Non-Null Count  Dtype  \n",
      "---  ------                 --------------  -----  \n",
      " 0   amount_tsh             59029 non-null  float64\n",
      " 1   funder                 59029 non-null  object \n",
      " 2   gps_height             59029 non-null  int64  \n",
      " 3   installer              59029 non-null  object \n",
      " 4   wpt_name               59029 non-null  object \n",
      " 5   basin                  59029 non-null  object \n",
      " 6   region_code            59029 non-null  int64  \n",
      " 7   district_code          59029 non-null  int64  \n",
      " 8   public_meeting         59029 non-null  object \n",
      " 9   scheme_management      59029 non-null  object \n",
      " 10  permit                 59029 non-null  bool   \n",
      " 11  extraction_type_class  59029 non-null  object \n",
      " 12  management             59029 non-null  object \n",
      " 13  payment                59029 non-null  object \n",
      " 14  water_quality          59029 non-null  object \n",
      " 15  quantity               59029 non-null  object \n",
      " 16  source                 59029 non-null  object \n",
      " 17  waterpoint_type        59029 non-null  object \n",
      " 18  status_group           59029 non-null  object \n",
      " 19  age                    59029 non-null  int64  \n",
      "dtypes: bool(1), float64(1), int64(4), object(14)\n",
      "memory usage: 9.1+ MB\n"
     ]
    }
   ],
   "source": [
    "df.info()"
   ]
  },
  {
   "cell_type": "code",
   "execution_count": 401,
   "id": "0396002d",
   "metadata": {},
   "outputs": [
    {
     "data": {
      "text/plain": [
       "DWE                 17361\n",
       "Unknown              3658\n",
       "Government           1825\n",
       "RWE                  1205\n",
       "DANIDA               1050\n",
       "                    ...  \n",
       "USA EMBASSY             1\n",
       "DMMD                    1\n",
       "CHRISTAN OUTRICH        1\n",
       "Central basin           1\n",
       "Water AID               1\n",
       "Name: installer, Length: 2134, dtype: int64"
      ]
     },
     "execution_count": 401,
     "metadata": {},
     "output_type": "execute_result"
    }
   ],
   "source": [
    "df.installer.value_counts()"
   ]
  },
  {
   "cell_type": "code",
   "execution_count": 403,
   "id": "953ae0d0",
   "metadata": {},
   "outputs": [],
   "source": [
    "df_installer = df.groupby('installer')"
   ]
  },
  {
   "cell_type": "code",
   "execution_count": 404,
   "id": "e40c0fbe",
   "metadata": {},
   "outputs": [
    {
     "data": {
      "text/plain": [
       "count     2134.000000\n",
       "mean        27.661200\n",
       "std        392.029855\n",
       "min          1.000000\n",
       "25%          1.000000\n",
       "50%          1.000000\n",
       "75%          6.000000\n",
       "max      17361.000000\n",
       "Name: count, dtype: float64"
      ]
     },
     "execution_count": 404,
     "metadata": {},
     "output_type": "execute_result"
    }
   ],
   "source": [
    "df_installer.describe()['amount_tsh']['count'].describe()"
   ]
  },
  {
   "cell_type": "code",
   "execution_count": 405,
   "id": "19869ad4",
   "metadata": {},
   "outputs": [
    {
     "data": {
      "text/plain": [
       "DWE                           17361\n",
       "Unknown                        3658\n",
       "Government                     1825\n",
       "RWE                            1205\n",
       "DANIDA                         1050\n",
       "KKKT                            898\n",
       "Commu                           894\n",
       "Hesawa                          840\n",
       "0                               777\n",
       "TCRS                            707\n",
       "Central government              622\n",
       "CES                             610\n",
       "Community                       553\n",
       "DANID                           552\n",
       "District Council                551\n",
       "HESAWA                          539\n",
       "LGA                             408\n",
       "World vision                    408\n",
       "WEDECO                          397\n",
       "TASAF                           396\n",
       "District council                392\n",
       "Gover                           352\n",
       "AMREF                           329\n",
       "TWESA                           316\n",
       "WU                              301\n",
       "Dmdd                            287\n",
       "ACRA                            278\n",
       "World Vision                    270\n",
       "SEMA                            249\n",
       "DW                              246\n",
       "OXFAM                           234\n",
       "Da                              224\n",
       "Gove                            222\n",
       "UNICEF                          222\n",
       "Idara ya maji                   222\n",
       "Sengerema Water Department      214\n",
       "Kiliwater                       210\n",
       "FinW                            208\n",
       "NORAD                           208\n",
       "DH                              202\n",
       "Villagers                       199\n",
       "DWSP                            192\n",
       "Distri                          181\n",
       "Lawatefuka water sup            180\n",
       "Magadini-Makiwaru wa            175\n",
       "RC                              174\n",
       "FW                              173\n",
       "KKKT _ Konde and DWE            166\n",
       "Centr                           162\n",
       "WVT                             158\n",
       "Name: installer, dtype: int64"
      ]
     },
     "execution_count": 405,
     "metadata": {},
     "output_type": "execute_result"
    }
   ],
   "source": [
    "df.installer.value_counts()[:50]"
   ]
  },
  {
   "cell_type": "code",
   "execution_count": 407,
   "id": "5d166242",
   "metadata": {},
   "outputs": [],
   "source": [
    "#creating list of installers >= 590 wells; we are keeping unknown as it may\n",
    "#be significant (may be underlying reason those funders are unknown)"
   ]
  },
  {
   "cell_type": "code",
   "execution_count": 406,
   "id": "07eea552",
   "metadata": {},
   "outputs": [],
   "source": [
    "df.installer.replace(to_replace='0', value='Unknown', inplace=True)"
   ]
  },
  {
   "cell_type": "code",
   "execution_count": 409,
   "id": "cf88483e",
   "metadata": {},
   "outputs": [
    {
     "data": {
      "text/plain": [
       "DWE                   17361\n",
       "Unknown                4435\n",
       "Government             1825\n",
       "RWE                    1205\n",
       "DANIDA                 1050\n",
       "KKKT                    898\n",
       "Commu                   894\n",
       "Hesawa                  840\n",
       "TCRS                    707\n",
       "Central government      622\n",
       "CES                     610\n",
       "Community               553\n",
       "DANID                   552\n",
       "District Council        551\n",
       "HESAWA                  539\n",
       "Name: installer, dtype: int64"
      ]
     },
     "execution_count": 409,
     "metadata": {},
     "output_type": "execute_result"
    }
   ],
   "source": [
    "df.installer.value_counts() [:15]"
   ]
  },
  {
   "cell_type": "code",
   "execution_count": 410,
   "id": "b5dfd85f",
   "metadata": {},
   "outputs": [],
   "source": [
    "top_installers = list(df.installer.value_counts()[:11].index)"
   ]
  },
  {
   "cell_type": "code",
   "execution_count": 411,
   "id": "5eb6d688",
   "metadata": {},
   "outputs": [],
   "source": [
    "df.installer = df.installer.map(lambda x: x if x in top_installers else x.replace(x, \"Other\"))"
   ]
  },
  {
   "cell_type": "code",
   "execution_count": 412,
   "id": "0a252ebd",
   "metadata": {},
   "outputs": [
    {
     "data": {
      "text/plain": [
       "Other                 28582\n",
       "DWE                   17361\n",
       "Unknown                4435\n",
       "Government             1825\n",
       "RWE                    1205\n",
       "DANIDA                 1050\n",
       "KKKT                    898\n",
       "Commu                   894\n",
       "Hesawa                  840\n",
       "TCRS                    707\n",
       "Central government      622\n",
       "CES                     610\n",
       "Name: installer, dtype: int64"
      ]
     },
     "execution_count": 412,
     "metadata": {},
     "output_type": "execute_result"
    }
   ],
   "source": [
    "df.installer.value_counts()"
   ]
  },
  {
   "cell_type": "code",
   "execution_count": 413,
   "id": "8f530692",
   "metadata": {},
   "outputs": [
    {
     "name": "stdout",
     "output_type": "stream",
     "text": [
      "<class 'pandas.core.frame.DataFrame'>\n",
      "Int64Index: 59029 entries, 0 to 59399\n",
      "Data columns (total 20 columns):\n",
      " #   Column                 Non-Null Count  Dtype  \n",
      "---  ------                 --------------  -----  \n",
      " 0   amount_tsh             59029 non-null  float64\n",
      " 1   funder                 59029 non-null  object \n",
      " 2   gps_height             59029 non-null  int64  \n",
      " 3   installer              59029 non-null  object \n",
      " 4   wpt_name               59029 non-null  object \n",
      " 5   basin                  59029 non-null  object \n",
      " 6   region_code            59029 non-null  int64  \n",
      " 7   district_code          59029 non-null  int64  \n",
      " 8   public_meeting         59029 non-null  object \n",
      " 9   scheme_management      59029 non-null  object \n",
      " 10  permit                 59029 non-null  bool   \n",
      " 11  extraction_type_class  59029 non-null  object \n",
      " 12  management             59029 non-null  object \n",
      " 13  payment                59029 non-null  object \n",
      " 14  water_quality          59029 non-null  object \n",
      " 15  quantity               59029 non-null  object \n",
      " 16  source                 59029 non-null  object \n",
      " 17  waterpoint_type        59029 non-null  object \n",
      " 18  status_group           59029 non-null  object \n",
      " 19  age                    59029 non-null  int64  \n",
      "dtypes: bool(1), float64(1), int64(4), object(14)\n",
      "memory usage: 9.1+ MB\n"
     ]
    }
   ],
   "source": [
    "df.info()"
   ]
  },
  {
   "cell_type": "code",
   "execution_count": 414,
   "id": "00317df9",
   "metadata": {},
   "outputs": [
    {
     "data": {
      "text/plain": [
       "none                       3559\n",
       "Shuleni                    1714\n",
       "Zahanati                    811\n",
       "Msikitini                   533\n",
       "Kanisani                    313\n",
       "                           ... \n",
       "Kwa Richard Mwedzi            1\n",
       "Kwa Mzee Kaniki               1\n",
       "Kwa Kasimu Mwakanyamala       1\n",
       "Kwa Esau Msongoe              1\n",
       "Kwa Njavike                   1\n",
       "Name: wpt_name, Length: 37231, dtype: int64"
      ]
     },
     "execution_count": 414,
     "metadata": {},
     "output_type": "execute_result"
    }
   ],
   "source": [
    "df.wpt_name.value_counts()"
   ]
  },
  {
   "cell_type": "code",
   "execution_count": 415,
   "id": "505af627",
   "metadata": {},
   "outputs": [],
   "source": [
    "#will drop wpt_name due to 'none' being mode and over 37000 different values"
   ]
  },
  {
   "cell_type": "code",
   "execution_count": 416,
   "id": "c907a595",
   "metadata": {},
   "outputs": [],
   "source": [
    "df.drop(columns=['wpt_name'], inplace=True)"
   ]
  },
  {
   "cell_type": "code",
   "execution_count": 417,
   "id": "c2a8aa90",
   "metadata": {},
   "outputs": [
    {
     "name": "stdout",
     "output_type": "stream",
     "text": [
      "<class 'pandas.core.frame.DataFrame'>\n",
      "Int64Index: 59029 entries, 0 to 59399\n",
      "Data columns (total 19 columns):\n",
      " #   Column                 Non-Null Count  Dtype  \n",
      "---  ------                 --------------  -----  \n",
      " 0   amount_tsh             59029 non-null  float64\n",
      " 1   funder                 59029 non-null  object \n",
      " 2   gps_height             59029 non-null  int64  \n",
      " 3   installer              59029 non-null  object \n",
      " 4   basin                  59029 non-null  object \n",
      " 5   region_code            59029 non-null  int64  \n",
      " 6   district_code          59029 non-null  int64  \n",
      " 7   public_meeting         59029 non-null  object \n",
      " 8   scheme_management      59029 non-null  object \n",
      " 9   permit                 59029 non-null  bool   \n",
      " 10  extraction_type_class  59029 non-null  object \n",
      " 11  management             59029 non-null  object \n",
      " 12  payment                59029 non-null  object \n",
      " 13  water_quality          59029 non-null  object \n",
      " 14  quantity               59029 non-null  object \n",
      " 15  source                 59029 non-null  object \n",
      " 16  waterpoint_type        59029 non-null  object \n",
      " 17  status_group           59029 non-null  object \n",
      " 18  age                    59029 non-null  int64  \n",
      "dtypes: bool(1), float64(1), int64(4), object(13)\n",
      "memory usage: 8.6+ MB\n"
     ]
    }
   ],
   "source": [
    "df.info()"
   ]
  },
  {
   "cell_type": "code",
   "execution_count": 429,
   "id": "32f22b95",
   "metadata": {},
   "outputs": [
    {
     "data": {
      "text/plain": [
       "22    22439\n",
       "12     2644\n",
       "14     2613\n",
       "13     2533\n",
       "15     1586\n",
       "16     1471\n",
       "19     1286\n",
       "11     1254\n",
       "18     1123\n",
       "10     1084\n",
       "20     1075\n",
       "44     1037\n",
       "27     1013\n",
       "17     1009\n",
       "23      978\n",
       "24      966\n",
       "32      954\n",
       "37      945\n",
       "42      811\n",
       "26      811\n",
       "38      779\n",
       "40      744\n",
       "28      738\n",
       "50      707\n",
       "48      676\n",
       "25      644\n",
       "30      640\n",
       "29      608\n",
       "21      539\n",
       "34      521\n",
       "39      488\n",
       "47      437\n",
       "36      434\n",
       "46      414\n",
       "52      411\n",
       "31      324\n",
       "33      316\n",
       "35      302\n",
       "41      238\n",
       "45      202\n",
       "43      192\n",
       "49      184\n",
       "9       176\n",
       "51      145\n",
       "62      102\n",
       "55       88\n",
       "59       85\n",
       "54       77\n",
       "53       59\n",
       "58       40\n",
       "60       30\n",
       "61       21\n",
       "57       19\n",
       "56       17\n",
       "Name: age, dtype: int64"
      ]
     },
     "execution_count": 429,
     "metadata": {},
     "output_type": "execute_result"
    }
   ],
   "source": [
    "df.age.value_counts()"
   ]
  },
  {
   "cell_type": "code",
   "execution_count": 430,
   "id": "3801ff17",
   "metadata": {},
   "outputs": [],
   "source": [
    "df.to_csv('final_data.csv')"
   ]
  },
  {
   "cell_type": "code",
   "execution_count": null,
   "id": "2badc412",
   "metadata": {},
   "outputs": [],
   "source": []
  },
  {
   "cell_type": "code",
   "execution_count": 431,
   "id": "fb34ec53",
   "metadata": {},
   "outputs": [],
   "source": [
    "X = df.drop('status_group', axis=1)\n",
    "y=df.status_group"
   ]
  },
  {
   "cell_type": "code",
   "execution_count": 432,
   "id": "49e4c89b",
   "metadata": {},
   "outputs": [],
   "source": [
    "train_X, test_X, train_y, test_y = train_test_split(X, y, random_state=42)"
   ]
  },
  {
   "cell_type": "code",
   "execution_count": 433,
   "id": "e484b345",
   "metadata": {},
   "outputs": [
    {
     "data": {
      "text/html": [
       "<div>\n",
       "<style scoped>\n",
       "    .dataframe tbody tr th:only-of-type {\n",
       "        vertical-align: middle;\n",
       "    }\n",
       "\n",
       "    .dataframe tbody tr th {\n",
       "        vertical-align: top;\n",
       "    }\n",
       "\n",
       "    .dataframe thead th {\n",
       "        text-align: right;\n",
       "    }\n",
       "</style>\n",
       "<table border=\"1\" class=\"dataframe\">\n",
       "  <thead>\n",
       "    <tr style=\"text-align: right;\">\n",
       "      <th></th>\n",
       "      <th>amount_tsh</th>\n",
       "      <th>funder</th>\n",
       "      <th>gps_height</th>\n",
       "      <th>installer</th>\n",
       "      <th>basin</th>\n",
       "      <th>region_code</th>\n",
       "      <th>district_code</th>\n",
       "      <th>public_meeting</th>\n",
       "      <th>scheme_management</th>\n",
       "      <th>permit</th>\n",
       "      <th>extraction_type_class</th>\n",
       "      <th>management</th>\n",
       "      <th>payment</th>\n",
       "      <th>water_quality</th>\n",
       "      <th>quantity</th>\n",
       "      <th>source</th>\n",
       "      <th>waterpoint_type</th>\n",
       "      <th>age</th>\n",
       "    </tr>\n",
       "  </thead>\n",
       "  <tbody>\n",
       "    <tr>\n",
       "      <th>4442</th>\n",
       "      <td>0.0</td>\n",
       "      <td>Other</td>\n",
       "      <td>947</td>\n",
       "      <td>Other</td>\n",
       "      <td>Ruvuma / Southern Coast</td>\n",
       "      <td>10</td>\n",
       "      <td>2</td>\n",
       "      <td>True</td>\n",
       "      <td>VWC</td>\n",
       "      <td>True</td>\n",
       "      <td>gravity</td>\n",
       "      <td>vwc</td>\n",
       "      <td>never pay</td>\n",
       "      <td>soft</td>\n",
       "      <td>enough</td>\n",
       "      <td>river</td>\n",
       "      <td>communal standpipe</td>\n",
       "      <td>35</td>\n",
       "    </tr>\n",
       "    <tr>\n",
       "      <th>11884</th>\n",
       "      <td>0.0</td>\n",
       "      <td>Other</td>\n",
       "      <td>227</td>\n",
       "      <td>Other</td>\n",
       "      <td>Ruvuma / Southern Coast</td>\n",
       "      <td>8</td>\n",
       "      <td>3</td>\n",
       "      <td>True</td>\n",
       "      <td>VWC</td>\n",
       "      <td>False</td>\n",
       "      <td>gravity</td>\n",
       "      <td>vwc</td>\n",
       "      <td>never pay</td>\n",
       "      <td>unknown</td>\n",
       "      <td>dry</td>\n",
       "      <td>rainwater harvesting</td>\n",
       "      <td>communal standpipe</td>\n",
       "      <td>20</td>\n",
       "    </tr>\n",
       "    <tr>\n",
       "      <th>38674</th>\n",
       "      <td>4000.0</td>\n",
       "      <td>Other</td>\n",
       "      <td>1980</td>\n",
       "      <td>Other</td>\n",
       "      <td>Rufiji</td>\n",
       "      <td>11</td>\n",
       "      <td>7</td>\n",
       "      <td>True</td>\n",
       "      <td>VWC</td>\n",
       "      <td>True</td>\n",
       "      <td>gravity</td>\n",
       "      <td>vwc</td>\n",
       "      <td>pay annually</td>\n",
       "      <td>soft</td>\n",
       "      <td>enough</td>\n",
       "      <td>river</td>\n",
       "      <td>communal standpipe</td>\n",
       "      <td>19</td>\n",
       "    </tr>\n",
       "    <tr>\n",
       "      <th>34584</th>\n",
       "      <td>500.0</td>\n",
       "      <td>Unicef</td>\n",
       "      <td>1471</td>\n",
       "      <td>DWE</td>\n",
       "      <td>Rufiji</td>\n",
       "      <td>11</td>\n",
       "      <td>4</td>\n",
       "      <td>True</td>\n",
       "      <td>WUA</td>\n",
       "      <td>True</td>\n",
       "      <td>gravity</td>\n",
       "      <td>wua</td>\n",
       "      <td>pay monthly</td>\n",
       "      <td>soft</td>\n",
       "      <td>enough</td>\n",
       "      <td>river</td>\n",
       "      <td>communal standpipe</td>\n",
       "      <td>44</td>\n",
       "    </tr>\n",
       "    <tr>\n",
       "      <th>58645</th>\n",
       "      <td>0.0</td>\n",
       "      <td>Unknown</td>\n",
       "      <td>0</td>\n",
       "      <td>Unknown</td>\n",
       "      <td>Rufiji</td>\n",
       "      <td>12</td>\n",
       "      <td>7</td>\n",
       "      <td>True</td>\n",
       "      <td>VWC</td>\n",
       "      <td>True</td>\n",
       "      <td>gravity</td>\n",
       "      <td>vwc</td>\n",
       "      <td>pay monthly</td>\n",
       "      <td>soft</td>\n",
       "      <td>seasonal</td>\n",
       "      <td>river</td>\n",
       "      <td>communal standpipe</td>\n",
       "      <td>22</td>\n",
       "    </tr>\n",
       "    <tr>\n",
       "      <th>...</th>\n",
       "      <td>...</td>\n",
       "      <td>...</td>\n",
       "      <td>...</td>\n",
       "      <td>...</td>\n",
       "      <td>...</td>\n",
       "      <td>...</td>\n",
       "      <td>...</td>\n",
       "      <td>...</td>\n",
       "      <td>...</td>\n",
       "      <td>...</td>\n",
       "      <td>...</td>\n",
       "      <td>...</td>\n",
       "      <td>...</td>\n",
       "      <td>...</td>\n",
       "      <td>...</td>\n",
       "      <td>...</td>\n",
       "      <td>...</td>\n",
       "      <td>...</td>\n",
       "    </tr>\n",
       "    <tr>\n",
       "      <th>54692</th>\n",
       "      <td>1000.0</td>\n",
       "      <td>Other</td>\n",
       "      <td>1549</td>\n",
       "      <td>Other</td>\n",
       "      <td>Pangani</td>\n",
       "      <td>3</td>\n",
       "      <td>3</td>\n",
       "      <td>True</td>\n",
       "      <td>Water authority</td>\n",
       "      <td>True</td>\n",
       "      <td>gravity</td>\n",
       "      <td>vwc</td>\n",
       "      <td>pay annually</td>\n",
       "      <td>soft</td>\n",
       "      <td>enough</td>\n",
       "      <td>spring</td>\n",
       "      <td>communal standpipe</td>\n",
       "      <td>13</td>\n",
       "    </tr>\n",
       "    <tr>\n",
       "      <th>38395</th>\n",
       "      <td>0.0</td>\n",
       "      <td>Other</td>\n",
       "      <td>0</td>\n",
       "      <td>DWE</td>\n",
       "      <td>Pangani</td>\n",
       "      <td>4</td>\n",
       "      <td>8</td>\n",
       "      <td>True</td>\n",
       "      <td>VWC</td>\n",
       "      <td>True</td>\n",
       "      <td>gravity</td>\n",
       "      <td>vwc</td>\n",
       "      <td>never pay</td>\n",
       "      <td>soft</td>\n",
       "      <td>seasonal</td>\n",
       "      <td>other</td>\n",
       "      <td>communal standpipe</td>\n",
       "      <td>15</td>\n",
       "    </tr>\n",
       "    <tr>\n",
       "      <th>864</th>\n",
       "      <td>0.0</td>\n",
       "      <td>Other</td>\n",
       "      <td>0</td>\n",
       "      <td>Other</td>\n",
       "      <td>Lake Victoria</td>\n",
       "      <td>19</td>\n",
       "      <td>7</td>\n",
       "      <td>True</td>\n",
       "      <td>VWC</td>\n",
       "      <td>False</td>\n",
       "      <td>handpump</td>\n",
       "      <td>vwc</td>\n",
       "      <td>pay annually</td>\n",
       "      <td>soft</td>\n",
       "      <td>seasonal</td>\n",
       "      <td>shallow well</td>\n",
       "      <td>hand pump</td>\n",
       "      <td>22</td>\n",
       "    </tr>\n",
       "    <tr>\n",
       "      <th>15897</th>\n",
       "      <td>0.0</td>\n",
       "      <td>Hesawa</td>\n",
       "      <td>0</td>\n",
       "      <td>Other</td>\n",
       "      <td>Lake Victoria</td>\n",
       "      <td>19</td>\n",
       "      <td>7</td>\n",
       "      <td>Unknown</td>\n",
       "      <td>VWC</td>\n",
       "      <td>True</td>\n",
       "      <td>handpump</td>\n",
       "      <td>vwc</td>\n",
       "      <td>never pay</td>\n",
       "      <td>unknown</td>\n",
       "      <td>unknown</td>\n",
       "      <td>machine dbh</td>\n",
       "      <td>hand pump</td>\n",
       "      <td>22</td>\n",
       "    </tr>\n",
       "    <tr>\n",
       "      <th>56778</th>\n",
       "      <td>0.0</td>\n",
       "      <td>Government Of Tanzania</td>\n",
       "      <td>0</td>\n",
       "      <td>Other</td>\n",
       "      <td>Lake Victoria</td>\n",
       "      <td>19</td>\n",
       "      <td>5</td>\n",
       "      <td>True</td>\n",
       "      <td>VWC</td>\n",
       "      <td>True</td>\n",
       "      <td>motorpump</td>\n",
       "      <td>vwc</td>\n",
       "      <td>never pay</td>\n",
       "      <td>soft</td>\n",
       "      <td>enough</td>\n",
       "      <td>dam</td>\n",
       "      <td>communal standpipe</td>\n",
       "      <td>22</td>\n",
       "    </tr>\n",
       "  </tbody>\n",
       "</table>\n",
       "<p>44271 rows × 18 columns</p>\n",
       "</div>"
      ],
      "text/plain": [
       "       amount_tsh                  funder  gps_height installer  \\\n",
       "4442          0.0                   Other         947     Other   \n",
       "11884         0.0                   Other         227     Other   \n",
       "38674      4000.0                   Other        1980     Other   \n",
       "34584       500.0                  Unicef        1471       DWE   \n",
       "58645         0.0                 Unknown           0   Unknown   \n",
       "...           ...                     ...         ...       ...   \n",
       "54692      1000.0                   Other        1549     Other   \n",
       "38395         0.0                   Other           0       DWE   \n",
       "864           0.0                   Other           0     Other   \n",
       "15897         0.0                  Hesawa           0     Other   \n",
       "56778         0.0  Government Of Tanzania           0     Other   \n",
       "\n",
       "                         basin  region_code  district_code public_meeting  \\\n",
       "4442   Ruvuma / Southern Coast           10              2           True   \n",
       "11884  Ruvuma / Southern Coast            8              3           True   \n",
       "38674                   Rufiji           11              7           True   \n",
       "34584                   Rufiji           11              4           True   \n",
       "58645                   Rufiji           12              7           True   \n",
       "...                        ...          ...            ...            ...   \n",
       "54692                  Pangani            3              3           True   \n",
       "38395                  Pangani            4              8           True   \n",
       "864              Lake Victoria           19              7           True   \n",
       "15897            Lake Victoria           19              7        Unknown   \n",
       "56778            Lake Victoria           19              5           True   \n",
       "\n",
       "      scheme_management  permit extraction_type_class management  \\\n",
       "4442                VWC    True               gravity        vwc   \n",
       "11884               VWC   False               gravity        vwc   \n",
       "38674               VWC    True               gravity        vwc   \n",
       "34584               WUA    True               gravity        wua   \n",
       "58645               VWC    True               gravity        vwc   \n",
       "...                 ...     ...                   ...        ...   \n",
       "54692   Water authority    True               gravity        vwc   \n",
       "38395               VWC    True               gravity        vwc   \n",
       "864                 VWC   False              handpump        vwc   \n",
       "15897               VWC    True              handpump        vwc   \n",
       "56778               VWC    True             motorpump        vwc   \n",
       "\n",
       "            payment water_quality  quantity                source  \\\n",
       "4442      never pay          soft    enough                 river   \n",
       "11884     never pay       unknown       dry  rainwater harvesting   \n",
       "38674  pay annually          soft    enough                 river   \n",
       "34584   pay monthly          soft    enough                 river   \n",
       "58645   pay monthly          soft  seasonal                 river   \n",
       "...             ...           ...       ...                   ...   \n",
       "54692  pay annually          soft    enough                spring   \n",
       "38395     never pay          soft  seasonal                 other   \n",
       "864    pay annually          soft  seasonal          shallow well   \n",
       "15897     never pay       unknown   unknown           machine dbh   \n",
       "56778     never pay          soft    enough                   dam   \n",
       "\n",
       "          waterpoint_type  age  \n",
       "4442   communal standpipe   35  \n",
       "11884  communal standpipe   20  \n",
       "38674  communal standpipe   19  \n",
       "34584  communal standpipe   44  \n",
       "58645  communal standpipe   22  \n",
       "...                   ...  ...  \n",
       "54692  communal standpipe   13  \n",
       "38395  communal standpipe   15  \n",
       "864             hand pump   22  \n",
       "15897           hand pump   22  \n",
       "56778  communal standpipe   22  \n",
       "\n",
       "[44271 rows x 18 columns]"
      ]
     },
     "execution_count": 433,
     "metadata": {},
     "output_type": "execute_result"
    }
   ],
   "source": [
    "train_X"
   ]
  },
  {
   "cell_type": "code",
   "execution_count": 434,
   "id": "f79ae72b",
   "metadata": {},
   "outputs": [
    {
     "data": {
      "text/plain": [
       "Other                     20433\n",
       "Government Of Tanzania     6779\n",
       "Unknown                    3319\n",
       "Danida                     2340\n",
       "Hesawa                     1646\n",
       "Rwssp                      1034\n",
       "Kkkt                        944\n",
       "World Bank                  941\n",
       "World Vision                935\n",
       "Unicef                      806\n",
       "Tasaf                       653\n",
       "District Council            652\n",
       "Dhv                         615\n",
       "Private Individual          613\n",
       "Dwsp                        594\n",
       "Norad                       581\n",
       "Tcrs                        471\n",
       "Germany Republi             470\n",
       "Ministry Of Water           445\n",
       "Name: funder, dtype: int64"
      ]
     },
     "execution_count": 434,
     "metadata": {},
     "output_type": "execute_result"
    }
   ],
   "source": [
    "train_X.funder.value_counts()"
   ]
  },
  {
   "cell_type": "code",
   "execution_count": null,
   "id": "cc1e6ac5",
   "metadata": {},
   "outputs": [],
   "source": []
  }
 ],
 "metadata": {
  "kernelspec": {
   "display_name": "Python 3",
   "language": "python",
   "name": "python3"
  },
  "language_info": {
   "codemirror_mode": {
    "name": "ipython",
    "version": 3
   },
   "file_extension": ".py",
   "mimetype": "text/x-python",
   "name": "python",
   "nbconvert_exporter": "python",
   "pygments_lexer": "ipython3",
   "version": "3.8.5"
  }
 },
 "nbformat": 4,
 "nbformat_minor": 5
}
